{
 "cells": [
  {
   "cell_type": "markdown",
   "id": "sT74n2F-_nyK",
   "metadata": {
    "id": "sT74n2F-_nyK"
   },
   "source": [
    "# Manual Implementation of Dropout in a Multilayer Artificial Neural Network using the PyTorch Library.\n",
    "\n",
    "\n",
    "\n",
    "\n",
    "\n"
   ]
  },
  {
   "cell_type": "code",
   "execution_count": null,
   "id": "e8400227",
   "metadata": {
    "id": "e8400227"
   },
   "outputs": [],
   "source": [
    "import torch\n",
    "import torch.nn as nn\n",
    "import torch.nn.functional as F\n",
    "import numpy as np\n",
    "from numpy.random import random\n",
    "import pandas as pd\n",
    "import datetime\n",
    "import time\n",
    "from torch import optim\n",
    "import torchvision\n",
    "import torchvision.transforms as transforms\n",
    "import matplotlib.pyplot as plt\n"
   ]
  },
  {
   "cell_type": "code",
   "execution_count": null,
   "id": "31941c9a",
   "metadata": {
    "id": "31941c9a"
   },
   "outputs": [],
   "source": [
    "device = torch.device('cuda' if torch.cuda.is_available() else 'cpu')"
   ]
  },
  {
   "cell_type": "code",
   "execution_count": null,
   "id": "AxAWk0u0QyHh",
   "metadata": {
    "colab": {
     "base_uri": "https://localhost:8080/"
    },
    "id": "AxAWk0u0QyHh",
    "outputId": "d10fd9f8-38f6-4430-fd92-d8dcb5fd5cd2"
   },
   "outputs": [
    {
     "data": {
      "text/plain": [
       "True"
      ]
     },
     "execution_count": 3,
     "metadata": {},
     "output_type": "execute_result"
    }
   ],
   "source": [
    "torch.cuda.is_available()"
   ]
  },
  {
   "cell_type": "markdown",
   "id": "gYdpr8r0_SQq",
   "metadata": {
    "id": "gYdpr8r0_SQq"
   },
   "source": [
    " In this notebook, we manually implement the Dropout method in a neural network using the PyTorch library. Additionally, three distinct models are trained. The first model is a neural network with a single intermediate layer, without dropout. The second model is identical to the first but incorporates dropout between the intermediate layer and the output layer, this implementation uses PyTorch's built-in nn.Module class for dropout. Finally, a third model is trained, this time with a manual implementation of dropout.\n",
    "\n",
    " The purpose of training three diverse models is to facilitate result comparison. The models are trained using the MNIST dataset.\n",
    "\n",
    "\n",
    "\n",
    "\n",
    "\n"
   ]
  },
  {
   "cell_type": "markdown",
   "id": "268c161d",
   "metadata": {
    "id": "268c161d"
   },
   "source": [
    "### First Model, No DropOut"
   ]
  },
  {
   "cell_type": "markdown",
   "id": "o4lrdei0_OnV",
   "metadata": {
    "id": "o4lrdei0_OnV"
   },
   "source": []
  },
  {
   "cell_type": "code",
   "execution_count": null,
   "id": "0e942402",
   "metadata": {
    "id": "0e942402"
   },
   "outputs": [],
   "source": [
    "class Net(nn.Module):\n",
    "    def __init__(self,n):\n",
    "        super(Net,self).__init__()\n",
    "        self.flatten = nn.Flatten()\n",
    "        self.layer_one = nn.Linear(784,n)\n",
    "        #self.layer_two = nn.Linear(512,512)\n",
    "        self.relu = nn.ReLU()\n",
    "        self.layer_out = nn.Linear(n,10)\n",
    "\n",
    "    def nombre(self):\n",
    "        return 'SinDropout'\n",
    "\n",
    "    def forward(self,x):\n",
    "        x = self.flatten(x)\n",
    "        x = self.layer_one(x)\n",
    "       # x = self.layer_two(x)\n",
    "        x = self.relu(x)\n",
    "        x = self.layer_out(x)\n",
    "        return x"
   ]
  },
  {
   "cell_type": "code",
   "execution_count": null,
   "id": "a4b37789",
   "metadata": {
    "id": "a4b37789"
   },
   "outputs": [],
   "source": [
    "x=torch.randn(1, 784)\n"
   ]
  },
  {
   "cell_type": "code",
   "execution_count": null,
   "id": "618b7609",
   "metadata": {
    "colab": {
     "base_uri": "https://localhost:8080/"
    },
    "id": "618b7609",
    "outputId": "96b228e4-2a32-4997-b37f-3927fe42ebcf"
   },
   "outputs": [
    {
     "data": {
      "text/plain": [
       "tensor([[-0.1906,  0.0036,  0.3999,  0.0123, -0.3553,  0.1158,  0.1469,  0.1425,\n",
       "         -0.1950,  0.0335]], grad_fn=<AddmmBackward0>)"
      ]
     },
     "execution_count": 6,
     "metadata": {},
     "output_type": "execute_result"
    }
   ],
   "source": [
    "model = Net(512)  #verifico que el modelo pueda predecir un input.\n",
    "model(x)"
   ]
  },
  {
   "cell_type": "code",
   "execution_count": null,
   "id": "e6197786",
   "metadata": {
    "colab": {
     "base_uri": "https://localhost:8080/",
     "height": 42
    },
    "id": "e6197786",
    "outputId": "38879037-d40c-4da8-e8d7-498ac6b887ce"
   },
   "outputs": [
    {
     "data": {
      "application/vnd.google.colaboratory.intrinsic+json": {
       "type": "string"
      },
      "text/plain": [
       "'SinDropout'"
      ]
     },
     "execution_count": 7,
     "metadata": {},
     "output_type": "execute_result"
    }
   ],
   "source": [
    "model.nombre()"
   ]
  },
  {
   "cell_type": "markdown",
   "id": "0f0418ee",
   "metadata": {
    "id": "0f0418ee"
   },
   "source": [
    "### Second Model with Dropout Implemented Using the nn.Dropout Class"
   ]
  },
  {
   "cell_type": "code",
   "execution_count": null,
   "id": "b9ea58f5",
   "metadata": {
    "id": "b9ea58f5"
   },
   "outputs": [],
   "source": [
    "class DropOut(nn.Module):\n",
    "    def __init__(self,p,n):\n",
    "        super(DropOut,self).__init__()\n",
    "        self.flatten = nn.Flatten()\n",
    "        self.layer_one = nn.Linear(784,n)\n",
    "        self.relu = nn.ReLU()\n",
    "        self.dropout = nn.Dropout(p)\n",
    "        self.layer_out = nn.Linear(n,10)\n",
    "\n",
    "    def nombre(self):\n",
    "        return 'DropOut'\n",
    "\n",
    "    def forward(self,x):\n",
    "        x = self.flatten(x)\n",
    "        x = self.layer_one(x)\n",
    "        x = self.relu(x)\n",
    "        x = self.dropout(x)\n",
    "        x = self.layer_out(x)\n",
    "        return x"
   ]
  },
  {
   "cell_type": "code",
   "execution_count": null,
   "id": "506dc6f9",
   "metadata": {
    "id": "506dc6f9"
   },
   "outputs": [],
   "source": [
    "model2=DropOut(0.8,512)"
   ]
  },
  {
   "cell_type": "code",
   "execution_count": null,
   "id": "f1ba8a2f",
   "metadata": {
    "colab": {
     "base_uri": "https://localhost:8080/",
     "height": 42
    },
    "id": "f1ba8a2f",
    "outputId": "0610163d-d088-4154-f41e-5a5df251812d"
   },
   "outputs": [
    {
     "data": {
      "application/vnd.google.colaboratory.intrinsic+json": {
       "type": "string"
      },
      "text/plain": [
       "'DropOut'"
      ]
     },
     "execution_count": 10,
     "metadata": {},
     "output_type": "execute_result"
    }
   ],
   "source": [
    "model2.nombre()"
   ]
  },
  {
   "cell_type": "code",
   "execution_count": null,
   "id": "jmT15OWeIeZ6",
   "metadata": {
    "colab": {
     "base_uri": "https://localhost:8080/"
    },
    "id": "jmT15OWeIeZ6",
    "outputId": "58a2b206-ccdf-44d3-96a7-f1165dc9a6b5"
   },
   "outputs": [
    {
     "data": {
      "text/plain": [
       "tensor([[ 1.0105,  0.6668,  0.1412,  0.8311, -0.3836, -1.1857, -0.2723,  0.2841,\n",
       "         -0.8800, -0.2208]], grad_fn=<AddmmBackward0>)"
      ]
     },
     "execution_count": 11,
     "metadata": {},
     "output_type": "execute_result"
    }
   ],
   "source": [
    "x = torch.randn(1,784)\n",
    "model2(x)"
   ]
  },
  {
   "cell_type": "code",
   "execution_count": null,
   "id": "FQU_W0IXIeo1",
   "metadata": {
    "id": "FQU_W0IXIeo1"
   },
   "outputs": [],
   "source": []
  },
  {
   "cell_type": "markdown",
   "id": "51f8c06a",
   "metadata": {
    "id": "51f8c06a"
   },
   "source": [
    "### Manual Implementation of Dropout within the forward() Method in PyTorch."
   ]
  },
  {
   "cell_type": "code",
   "execution_count": null,
   "id": "c08fc4cd",
   "metadata": {
    "id": "c08fc4cd"
   },
   "outputs": [],
   "source": [
    "def dropout_layer(X, dropout):\n",
    "    assert 0 <= dropout <= 1\n",
    "    if dropout == 1:\n",
    "        return torch.zeros_like(X)\n",
    "    mask = (torch.rand(X.shape).to(device) >= dropout).float()\n",
    "    #mask = torch.rand(X.shape) >= dropout   #esto no sirve xq tira a los elementos con False, no les asigna 0\n",
    "    return mask*X / (1.0 - dropout)"
   ]
  },
  {
   "cell_type": "code",
   "execution_count": null,
   "id": "a1bf0879",
   "metadata": {
    "id": "a1bf0879"
   },
   "outputs": [],
   "source": [
    "X = torch.randn(64,784)"
   ]
  },
  {
   "cell_type": "code",
   "execution_count": null,
   "id": "852d12bf",
   "metadata": {
    "colab": {
     "base_uri": "https://localhost:8080/"
    },
    "id": "852d12bf",
    "outputId": "4f5b2fcb-2f94-43a6-e34e-a8fe103e4cc1"
   },
   "outputs": [
    {
     "name": "stdout",
     "output_type": "stream",
     "text": [
      "tensor([[ 0.,  1.,  2.,  3.,  4.,  5.,  6.,  7.],\n",
      "        [ 8.,  9., 10., 11., 12., 13., 14., 15.]], device='cuda:0')\n",
      "dropout_p = 0: tensor([[ 0.,  1.,  2.,  3.,  4.,  5.,  6.,  7.],\n",
      "        [ 8.,  9., 10., 11., 12., 13., 14., 15.]], device='cuda:0')\n",
      "CPU times: user 3.26 ms, sys: 73 µs, total: 3.33 ms\n",
      "Wall time: 3.26 ms\n",
      "dropout_p = 0.5: tensor([[ 0.,  0.,  0.,  6.,  0.,  0.,  0.,  0.],\n",
      "        [ 0.,  0.,  0., 22., 24.,  0.,  0., 30.]], device='cuda:0')\n",
      "CPU times: user 1.64 ms, sys: 889 µs, total: 2.53 ms\n",
      "Wall time: 2.43 ms\n",
      "dropout_p = 1: tensor([[0., 0., 0., 0., 0., 0., 0., 0.],\n",
      "        [0., 0., 0., 0., 0., 0., 0., 0.]], device='cuda:0')\n",
      "CPU times: user 1.87 ms, sys: 0 ns, total: 1.87 ms\n",
      "Wall time: 4.82 ms\n"
     ]
    }
   ],
   "source": [
    "X = torch.arange(16, dtype = torch.float32).reshape((2, 8))\n",
    "X= X.to(device)\n",
    "#X = torch.randn(64,728)\n",
    "print(X)\n",
    "%time print('dropout_p = 0:', dropout_layer(X, 0))\n",
    "%time print('dropout_p = 0.5:', dropout_layer(X, 0.5))\n",
    "%time print('dropout_p = 1:', dropout_layer(X, 1))"
   ]
  },
  {
   "cell_type": "code",
   "execution_count": null,
   "id": "3d03d07c",
   "metadata": {
    "id": "3d03d07c"
   },
   "outputs": [],
   "source": [
    "class ManualDropOut(nn.Module):\n",
    "    def __init__(self,p,n):\n",
    "        super(ManualDropOut,self).__init__()\n",
    "        self.p = p\n",
    "        self.n = n\n",
    "        self.flatten = nn.Flatten()\n",
    "        self.layer_one = nn.Linear(784,self.n)\n",
    "        self.relu = nn.ReLU()\n",
    "        self.layer_out = nn.Linear(self.n,10)\n",
    "\n",
    "    def nombre(self):\n",
    "        return 'ManualDropOut'\n",
    "\n",
    "    def forward(self,x):\n",
    "        x = self.flatten(x)\n",
    "        x = self.layer_one(x)\n",
    "        x = self.relu(x)\n",
    "        if self.training:\n",
    "            x = dropout_layer(x,self.p)\n",
    "        x = self.layer_out(x)\n",
    "        return x"
   ]
  },
  {
   "cell_type": "code",
   "execution_count": null,
   "id": "7b88363f",
   "metadata": {
    "colab": {
     "base_uri": "https://localhost:8080/"
    },
    "id": "7b88363f",
    "outputId": "635ad283-115a-4130-a80e-e90ab3d438b9"
   },
   "outputs": [
    {
     "data": {
      "text/plain": [
       "tensor([[-0.1966,  0.4632,  0.0923, -0.0850, -0.3226,  0.1682,  0.0313, -0.4551,\n",
       "          0.6775,  0.6968]], device='cuda:0', grad_fn=<AddmmBackward0>)"
      ]
     },
     "execution_count": 18,
     "metadata": {},
     "output_type": "execute_result"
    }
   ],
   "source": [
    "x = torch.randn(1,784).to(device)\n",
    "modelo = ManualDropOut(0.5,512)\n",
    "modelo.to(device)\n",
    "modelo(x)"
   ]
  },
  {
   "cell_type": "code",
   "execution_count": null,
   "id": "f3413091",
   "metadata": {
    "id": "f3413091"
   },
   "outputs": [],
   "source": [
    "def prueba(model):\n",
    "    return model.nombre()"
   ]
  },
  {
   "cell_type": "code",
   "execution_count": null,
   "id": "20ea2e3e",
   "metadata": {
    "colab": {
     "base_uri": "https://localhost:8080/",
     "height": 42
    },
    "id": "20ea2e3e",
    "outputId": "53a88b61-3006-4113-dd1e-df52ce163334"
   },
   "outputs": [
    {
     "data": {
      "application/vnd.google.colaboratory.intrinsic+json": {
       "type": "string"
      },
      "text/plain": [
       "'ManualDropOut'"
      ]
     },
     "execution_count": 20,
     "metadata": {},
     "output_type": "execute_result"
    }
   ],
   "source": [
    "prueba(modelo)"
   ]
  },
  {
   "cell_type": "markdown",
   "id": "7af51631",
   "metadata": {
    "id": "7af51631"
   },
   "source": [
    "# Training, Validation, and Testing"
   ]
  },
  {
   "cell_type": "markdown",
   "id": "NzZL7XA5BjFn",
   "metadata": {
    "id": "NzZL7XA5BjFn"
   },
   "source": [
    "### Below, the necessary code blocks are defined to execute the training and validation process."
   ]
  },
  {
   "cell_type": "code",
   "execution_count": null,
   "id": "4715bb86",
   "metadata": {
    "id": "4715bb86"
   },
   "outputs": [],
   "source": [
    "def train_loop(dataloader, model, loss_fn, optimizer):\n",
    "    size = len(dataloader.dataset)\n",
    "    model.train()\n",
    "    model.to(device)\n",
    "    # Iteramos sobre lotes (batchs)\n",
    "    for batch, (X, y) in enumerate(dataloader):\n",
    "        # Calculamos la predicción del modelo y la correspondiente pérdida (error)\n",
    "        X=X.to(device)\n",
    "        y=y.to(device)\n",
    "        pred = model(X)\n",
    "        loss = loss_fn(pred, y)\n",
    "\n",
    "        # Backpropagamos usando el optimizador proveido.\n",
    "        optimizer.zero_grad()\n",
    "        loss.backward()\n",
    "        optimizer.step()\n",
    "\n",
    "        # Imprimimos el progreso...\n",
    "        # if batch % 100 == 0:\n",
    "           # loss, current = loss.item(), batch * len(X)\n",
    "            #print(f\"batch={batch} loss={loss:>7f}  muestras-procesadas:[{current:>5d}/{size:>5d}]\")\n",
    "\n",
    "# De manera similar, definimos la función de testeo, que se usara tambien para validar.\n",
    "def test_loop(dataloader,model,loss_fn):\n",
    "    num_samples  = 0\n",
    "    num_batches  = 0\n",
    "    avrg_loss    = 0\n",
    "    frac_correct = 0\n",
    "    # Seteamos el modelo en modo evaluacion. Esto sirve para desactivar, por ejemplo, dropout, etc. cuando no estamos en una fase de entrenamiento.\n",
    "    model.eval()\n",
    "    # Pasamos el modelo la GPU si está disponible.\n",
    "    model = model.to(device)\n",
    "    # Para validar, desactivamos el cálculo de gradientes.\n",
    "    with torch.no_grad():\n",
    "        for X,y in dataloader:\n",
    "            # Pasamos los tensores a la GPU si está disponible.\n",
    "            X = X.to(device)\n",
    "            y = y.to(device)\n",
    "            # Calculamos las predicciones del modelo...\n",
    "            pred = model(X)\n",
    "            # y las correspondientes pérdidas (errores), los cuales vamos acumulando en un valor total.\n",
    "            num_batches += 1\n",
    "            avrg_loss += loss_fn(pred,y).item() #el item va para convertir la loss de tensor a escalar\n",
    "            # También calculamos el número de predicciones correctas, y lo acumulamos en un total.\n",
    "            num_samples += y.size(0)\n",
    "            frac_correct += (pred.argmax(1)==y).type(torch.float).sum().item()\n",
    "    # Calculamos la pérdida total y la fracción de clasificaciones correctas, y las imprimimos.\n",
    "    avrg_loss    /= num_batches\n",
    "    frac_correct /= num_samples\n",
    "    #print(f\"Test Error: \\n Accuracy: {frac_correct:>0.5f}, Avg. loss: {avrg_loss:>8f} \\n\")\n",
    "    return avrg_loss,frac_correct"
   ]
  },
  {
   "cell_type": "code",
   "execution_count": null,
   "id": "0058b392",
   "metadata": {
    "id": "0058b392"
   },
   "outputs": [],
   "source": [
    "# Definimos hiperparámetros de entrenamiento\n",
    "batch_size = 64\n",
    "num_epochs = 40\n",
    "lr =[0.1,0.01,0.001]\n",
    "def train_validation(model,train_dataloader,valid_dataloader,df):\n",
    "  for learning_rate in lr:\n",
    "    # Creamos el modelo y el optimzador\n",
    "    modelo = DropOut(0.2,512)\n",
    "    loss_fn = nn.CrossEntropyLoss()\n",
    "    optimizer = torch.optim.Adam(modelo.parameters(),lr=learning_rate)\n",
    "    # Entrenamos el modelo y calcualmos curvas.\n",
    "    min_valid_loss = float(\"inf\")\n",
    "    for epoch in range(num_epochs):\n",
    "        train_loop(train_dataloader,modelo,loss_fn,optimizer)\n",
    "        train_loss,train_accu = test_loop(train_dataloader,modelo,loss_fn)\n",
    "        valid_loss,valid_accu = test_loop(valid_dataloader,modelo,loss_fn)\n",
    "        print(f\"lr={learning_rate} epoch={epoch} train_loss={train_loss} train_accu={train_accu} valid_loss={valid_loss} valid_accu={valid_accu}\")\n",
    "        df = df.append({\"Lr\":learning_rate,\n",
    "                         \"epoch\":epoch,\n",
    "                         \"train_loss\":train_loss,\n",
    "                         \"train_accu\":train_accu,\n",
    "                          \"valid_loss\":valid_loss,\n",
    "                          \"valid_accu\":valid_accu,\n",
    "                        \"model\"     :model.nombre()}\n",
    "                       ,ignore_index=True)\n",
    "  return df"
   ]
  },
  {
   "cell_type": "markdown",
   "id": "1VEl9YtODnIB",
   "metadata": {
    "id": "1VEl9YtODnIB"
   },
   "source": [
    "### Loading Dataset"
   ]
  },
  {
   "cell_type": "code",
   "execution_count": null,
   "id": "c2ccb506",
   "metadata": {
    "colab": {
     "base_uri": "https://localhost:8080/"
    },
    "id": "c2ccb506",
    "outputId": "99e721a6-4a52-49ce-e825-a29c2ac5adfb"
   },
   "outputs": [
    {
     "name": "stdout",
     "output_type": "stream",
     "text": [
      "Downloading http://yann.lecun.com/exdb/mnist/train-images-idx3-ubyte.gz\n",
      "Downloading http://yann.lecun.com/exdb/mnist/train-images-idx3-ubyte.gz to ./data/MNIST/raw/train-images-idx3-ubyte.gz\n"
     ]
    },
    {
     "name": "stderr",
     "output_type": "stream",
     "text": [
      "100%|██████████| 9912422/9912422 [00:00<00:00, 107271672.62it/s]\n"
     ]
    },
    {
     "name": "stdout",
     "output_type": "stream",
     "text": [
      "Extracting ./data/MNIST/raw/train-images-idx3-ubyte.gz to ./data/MNIST/raw\n",
      "\n",
      "Downloading http://yann.lecun.com/exdb/mnist/train-labels-idx1-ubyte.gz\n",
      "Downloading http://yann.lecun.com/exdb/mnist/train-labels-idx1-ubyte.gz to ./data/MNIST/raw/train-labels-idx1-ubyte.gz\n"
     ]
    },
    {
     "name": "stderr",
     "output_type": "stream",
     "text": [
      "100%|██████████| 28881/28881 [00:00<00:00, 115147997.93it/s]\n"
     ]
    },
    {
     "name": "stdout",
     "output_type": "stream",
     "text": [
      "Extracting ./data/MNIST/raw/train-labels-idx1-ubyte.gz to ./data/MNIST/raw\n",
      "\n",
      "Downloading http://yann.lecun.com/exdb/mnist/t10k-images-idx3-ubyte.gz\n",
      "Downloading http://yann.lecun.com/exdb/mnist/t10k-images-idx3-ubyte.gz to ./data/MNIST/raw/t10k-images-idx3-ubyte.gz\n"
     ]
    },
    {
     "name": "stderr",
     "output_type": "stream",
     "text": [
      "100%|██████████| 1648877/1648877 [00:00<00:00, 45498088.19it/s]"
     ]
    },
    {
     "name": "stdout",
     "output_type": "stream",
     "text": [
      "Extracting ./data/MNIST/raw/t10k-images-idx3-ubyte.gz to ./data/MNIST/raw\n"
     ]
    },
    {
     "name": "stderr",
     "output_type": "stream",
     "text": [
      "\n"
     ]
    },
    {
     "name": "stdout",
     "output_type": "stream",
     "text": [
      "\n",
      "Downloading http://yann.lecun.com/exdb/mnist/t10k-labels-idx1-ubyte.gz\n",
      "Downloading http://yann.lecun.com/exdb/mnist/t10k-labels-idx1-ubyte.gz to ./data/MNIST/raw/t10k-labels-idx1-ubyte.gz\n"
     ]
    },
    {
     "name": "stderr",
     "output_type": "stream",
     "text": [
      "100%|██████████| 4542/4542 [00:00<00:00, 4211923.23it/s]\n"
     ]
    },
    {
     "name": "stdout",
     "output_type": "stream",
     "text": [
      "Extracting ./data/MNIST/raw/t10k-labels-idx1-ubyte.gz to ./data/MNIST/raw\n",
      "\n"
     ]
    }
   ],
   "source": [
    "train_dataset = torchvision.datasets.MNIST(root='./data',\n",
    "                                           train=True,\n",
    "                                           transform=transforms.ToTensor(),\n",
    "                                           download=True)\n",
    "\n",
    "test_dataset = torchvision.datasets.MNIST(root='./data',\n",
    "                                          train=False,\n",
    "                                          transform=transforms.ToTensor())\n",
    "\n",
    "# Data loader\n",
    "train_loader = torch.utils.data.DataLoader(dataset=train_dataset,\n",
    "                                           batch_size=batch_size,\n",
    "                                           shuffle=True)\n",
    "\n",
    "test_loader = torch.utils.data.DataLoader(dataset=test_dataset,\n",
    "                                          batch_size=batch_size,\n",
    "                                          shuffle=False)"
   ]
  },
  {
   "cell_type": "markdown",
   "id": "8REXvrTHDvZx",
   "metadata": {
    "id": "8REXvrTHDvZx"
   },
   "source": [
    "### Before running the models, a test is conducted using a single sample from the training and validation sets to verify that everything is functioning correctly."
   ]
  },
  {
   "cell_type": "markdown",
   "id": "UTSDlYl0EWAz",
   "metadata": {
    "id": "UTSDlYl0EWAz"
   },
   "source": [
    "#### I define the Dataset class, which allows me to manipulate the data used to feed the models."
   ]
  },
  {
   "cell_type": "code",
   "execution_count": null,
   "id": "HZY5OJtmEBQi",
   "metadata": {
    "id": "HZY5OJtmEBQi"
   },
   "outputs": [],
   "source": [
    "class Dataset(torch.utils.data.Dataset):\n",
    "    # constructor\n",
    "    def __init__(self, X, Y):\n",
    "        self.X = X\n",
    "        self.Y = torch.tensor(Y)\n",
    "    # devolvemos el número de datos en el dataset\n",
    "    def __len__(self):\n",
    "        return len(self.X)\n",
    "    # devolvemos el elemento `ix` del dataset\n",
    "    def __getitem__(self, ix):\n",
    "        return self.X, self.Y"
   ]
  },
  {
   "cell_type": "code",
   "execution_count": null,
   "id": "4c361b41",
   "metadata": {
    "id": "4c361b41"
   },
   "outputs": [],
   "source": [
    "train_ejemplo = Dataset(train_dataset[0][0],train_dataset[0][1]) #creo el dataset con el primer dato que descargamos de MNIST"
   ]
  },
  {
   "cell_type": "code",
   "execution_count": null,
   "id": "5890f19d",
   "metadata": {
    "id": "5890f19d"
   },
   "outputs": [],
   "source": [
    "X,y=next(iter(train_ejemplo)) #chequeo que el objeto sea iterable como se espera"
   ]
  },
  {
   "cell_type": "code",
   "execution_count": null,
   "id": "5b8c6fac",
   "metadata": {
    "colab": {
     "base_uri": "https://localhost:8080/"
    },
    "id": "5b8c6fac",
    "outputId": "471a2b2a-3809-4fb2-ad38-bb5ef5c56bca"
   },
   "outputs": [
    {
     "data": {
      "text/plain": [
       "torch.Size([1, 28, 28])"
      ]
     },
     "execution_count": 27,
     "metadata": {},
     "output_type": "execute_result"
    }
   ],
   "source": [
    "X.size() #compruebo dimensiones"
   ]
  },
  {
   "cell_type": "code",
   "execution_count": null,
   "id": "HZ471rluKxY8",
   "metadata": {
    "colab": {
     "base_uri": "https://localhost:8080/"
    },
    "id": "HZ471rluKxY8",
    "outputId": "2aa425fb-5d09-4a7d-c04e-2d7853a7e1b7"
   },
   "outputs": [
    {
     "data": {
      "text/plain": [
       "torch.Tensor"
      ]
     },
     "execution_count": 28,
     "metadata": {},
     "output_type": "execute_result"
    }
   ],
   "source": [
    "type(y)"
   ]
  },
  {
   "cell_type": "code",
   "execution_count": null,
   "id": "5Jx3gKbVKIEj",
   "metadata": {
    "colab": {
     "base_uri": "https://localhost:8080/"
    },
    "id": "5Jx3gKbVKIEj",
    "outputId": "18707cf8-096d-477c-a022-effbbf288e8a"
   },
   "outputs": [
    {
     "data": {
      "text/plain": [
       "torch.Size([])"
      ]
     },
     "execution_count": 29,
     "metadata": {},
     "output_type": "execute_result"
    }
   ],
   "source": [
    "y.size()"
   ]
  },
  {
   "cell_type": "code",
   "execution_count": null,
   "id": "RmDCfMiVLWQ_",
   "metadata": {
    "colab": {
     "base_uri": "https://localhost:8080/"
    },
    "id": "RmDCfMiVLWQ_",
    "outputId": "d15e46ed-192f-4aa1-a6c5-b174418da490"
   },
   "outputs": [
    {
     "data": {
      "text/plain": [
       "tensor(5)"
      ]
     },
     "execution_count": 30,
     "metadata": {},
     "output_type": "execute_result"
    }
   ],
   "source": [
    "y"
   ]
  },
  {
   "cell_type": "code",
   "execution_count": null,
   "id": "2d273055",
   "metadata": {
    "colab": {
     "base_uri": "https://localhost:8080/"
    },
    "id": "2d273055",
    "outputId": "83b8f3ed-b7fb-429b-cf87-865eecece4a9"
   },
   "outputs": [
    {
     "data": {
      "text/plain": [
       "1"
      ]
     },
     "execution_count": 31,
     "metadata": {},
     "output_type": "execute_result"
    }
   ],
   "source": [
    "len(train_ejemplo) #cheching len()"
   ]
  },
  {
   "cell_type": "code",
   "execution_count": null,
   "id": "b2415616",
   "metadata": {
    "colab": {
     "base_uri": "https://localhost:8080/"
    },
    "id": "b2415616",
    "outputId": "44f46c79-c20a-4267-b62a-e4ac368e79b7"
   },
   "outputs": [
    {
     "data": {
      "text/plain": [
       "torch.Tensor"
      ]
     },
     "execution_count": 32,
     "metadata": {},
     "output_type": "execute_result"
    }
   ],
   "source": [
    "type(train_ejemplo[1][0]) #checking datatype"
   ]
  },
  {
   "cell_type": "code",
   "execution_count": null,
   "id": "8f1e0450",
   "metadata": {
    "id": "8f1e0450"
   },
   "outputs": [],
   "source": [
    "train_ejemplo_loader = torch.utils.data.DataLoader(train_ejemplo)"
   ]
  },
  {
   "cell_type": "code",
   "execution_count": null,
   "id": "21ce4db4",
   "metadata": {
    "colab": {
     "base_uri": "https://localhost:8080/"
    },
    "id": "21ce4db4",
    "outputId": "654b5dfd-a335-4ef7-d013-370ee1da73bb"
   },
   "outputs": [
    {
     "name": "stdout",
     "output_type": "stream",
     "text": [
      "0 tensor([[[[0.0000, 0.0000, 0.0000, 0.0000, 0.0000, 0.0000, 0.0000, 0.0000,\n",
      "           0.0000, 0.0000, 0.0000, 0.0000, 0.0000, 0.0000, 0.0000, 0.0000,\n",
      "           0.0000, 0.0000, 0.0000, 0.0000, 0.0000, 0.0000, 0.0000, 0.0000,\n",
      "           0.0000, 0.0000, 0.0000, 0.0000],\n",
      "          [0.0000, 0.0000, 0.0000, 0.0000, 0.0000, 0.0000, 0.0000, 0.0000,\n",
      "           0.0000, 0.0000, 0.0000, 0.0000, 0.0000, 0.0000, 0.0000, 0.0000,\n",
      "           0.0000, 0.0000, 0.0000, 0.0000, 0.0000, 0.0000, 0.0000, 0.0000,\n",
      "           0.0000, 0.0000, 0.0000, 0.0000],\n",
      "          [0.0000, 0.0000, 0.0000, 0.0000, 0.0000, 0.0000, 0.0000, 0.0000,\n",
      "           0.0000, 0.0000, 0.0000, 0.0000, 0.0000, 0.0000, 0.0000, 0.0000,\n",
      "           0.0000, 0.0000, 0.0000, 0.0000, 0.0000, 0.0000, 0.0000, 0.0000,\n",
      "           0.0000, 0.0000, 0.0000, 0.0000],\n",
      "          [0.0000, 0.0000, 0.0000, 0.0000, 0.0000, 0.0000, 0.0000, 0.0000,\n",
      "           0.0000, 0.0000, 0.0000, 0.0000, 0.0000, 0.0000, 0.0000, 0.0000,\n",
      "           0.0000, 0.0000, 0.0000, 0.0000, 0.0000, 0.0000, 0.0000, 0.0000,\n",
      "           0.0000, 0.0000, 0.0000, 0.0000],\n",
      "          [0.0000, 0.0000, 0.0000, 0.0000, 0.0000, 0.0000, 0.0000, 0.0000,\n",
      "           0.0000, 0.0000, 0.0000, 0.0000, 0.0000, 0.0000, 0.0000, 0.0000,\n",
      "           0.0000, 0.0000, 0.0000, 0.0000, 0.0000, 0.0000, 0.0000, 0.0000,\n",
      "           0.0000, 0.0000, 0.0000, 0.0000],\n",
      "          [0.0000, 0.0000, 0.0000, 0.0000, 0.0000, 0.0000, 0.0000, 0.0000,\n",
      "           0.0000, 0.0000, 0.0000, 0.0000, 0.0118, 0.0706, 0.0706, 0.0706,\n",
      "           0.4941, 0.5333, 0.6863, 0.1020, 0.6510, 1.0000, 0.9686, 0.4980,\n",
      "           0.0000, 0.0000, 0.0000, 0.0000],\n",
      "          [0.0000, 0.0000, 0.0000, 0.0000, 0.0000, 0.0000, 0.0000, 0.0000,\n",
      "           0.1176, 0.1412, 0.3686, 0.6039, 0.6667, 0.9922, 0.9922, 0.9922,\n",
      "           0.9922, 0.9922, 0.8824, 0.6745, 0.9922, 0.9490, 0.7647, 0.2510,\n",
      "           0.0000, 0.0000, 0.0000, 0.0000],\n",
      "          [0.0000, 0.0000, 0.0000, 0.0000, 0.0000, 0.0000, 0.0000, 0.1922,\n",
      "           0.9333, 0.9922, 0.9922, 0.9922, 0.9922, 0.9922, 0.9922, 0.9922,\n",
      "           0.9922, 0.9843, 0.3647, 0.3216, 0.3216, 0.2196, 0.1529, 0.0000,\n",
      "           0.0000, 0.0000, 0.0000, 0.0000],\n",
      "          [0.0000, 0.0000, 0.0000, 0.0000, 0.0000, 0.0000, 0.0000, 0.0706,\n",
      "           0.8588, 0.9922, 0.9922, 0.9922, 0.9922, 0.9922, 0.7765, 0.7137,\n",
      "           0.9686, 0.9451, 0.0000, 0.0000, 0.0000, 0.0000, 0.0000, 0.0000,\n",
      "           0.0000, 0.0000, 0.0000, 0.0000],\n",
      "          [0.0000, 0.0000, 0.0000, 0.0000, 0.0000, 0.0000, 0.0000, 0.0000,\n",
      "           0.3137, 0.6118, 0.4196, 0.9922, 0.9922, 0.8039, 0.0431, 0.0000,\n",
      "           0.1686, 0.6039, 0.0000, 0.0000, 0.0000, 0.0000, 0.0000, 0.0000,\n",
      "           0.0000, 0.0000, 0.0000, 0.0000],\n",
      "          [0.0000, 0.0000, 0.0000, 0.0000, 0.0000, 0.0000, 0.0000, 0.0000,\n",
      "           0.0000, 0.0549, 0.0039, 0.6039, 0.9922, 0.3529, 0.0000, 0.0000,\n",
      "           0.0000, 0.0000, 0.0000, 0.0000, 0.0000, 0.0000, 0.0000, 0.0000,\n",
      "           0.0000, 0.0000, 0.0000, 0.0000],\n",
      "          [0.0000, 0.0000, 0.0000, 0.0000, 0.0000, 0.0000, 0.0000, 0.0000,\n",
      "           0.0000, 0.0000, 0.0000, 0.5451, 0.9922, 0.7451, 0.0078, 0.0000,\n",
      "           0.0000, 0.0000, 0.0000, 0.0000, 0.0000, 0.0000, 0.0000, 0.0000,\n",
      "           0.0000, 0.0000, 0.0000, 0.0000],\n",
      "          [0.0000, 0.0000, 0.0000, 0.0000, 0.0000, 0.0000, 0.0000, 0.0000,\n",
      "           0.0000, 0.0000, 0.0000, 0.0431, 0.7451, 0.9922, 0.2745, 0.0000,\n",
      "           0.0000, 0.0000, 0.0000, 0.0000, 0.0000, 0.0000, 0.0000, 0.0000,\n",
      "           0.0000, 0.0000, 0.0000, 0.0000],\n",
      "          [0.0000, 0.0000, 0.0000, 0.0000, 0.0000, 0.0000, 0.0000, 0.0000,\n",
      "           0.0000, 0.0000, 0.0000, 0.0000, 0.1373, 0.9451, 0.8824, 0.6275,\n",
      "           0.4235, 0.0039, 0.0000, 0.0000, 0.0000, 0.0000, 0.0000, 0.0000,\n",
      "           0.0000, 0.0000, 0.0000, 0.0000],\n",
      "          [0.0000, 0.0000, 0.0000, 0.0000, 0.0000, 0.0000, 0.0000, 0.0000,\n",
      "           0.0000, 0.0000, 0.0000, 0.0000, 0.0000, 0.3176, 0.9412, 0.9922,\n",
      "           0.9922, 0.4667, 0.0980, 0.0000, 0.0000, 0.0000, 0.0000, 0.0000,\n",
      "           0.0000, 0.0000, 0.0000, 0.0000],\n",
      "          [0.0000, 0.0000, 0.0000, 0.0000, 0.0000, 0.0000, 0.0000, 0.0000,\n",
      "           0.0000, 0.0000, 0.0000, 0.0000, 0.0000, 0.0000, 0.1765, 0.7294,\n",
      "           0.9922, 0.9922, 0.5882, 0.1059, 0.0000, 0.0000, 0.0000, 0.0000,\n",
      "           0.0000, 0.0000, 0.0000, 0.0000],\n",
      "          [0.0000, 0.0000, 0.0000, 0.0000, 0.0000, 0.0000, 0.0000, 0.0000,\n",
      "           0.0000, 0.0000, 0.0000, 0.0000, 0.0000, 0.0000, 0.0000, 0.0627,\n",
      "           0.3647, 0.9882, 0.9922, 0.7333, 0.0000, 0.0000, 0.0000, 0.0000,\n",
      "           0.0000, 0.0000, 0.0000, 0.0000],\n",
      "          [0.0000, 0.0000, 0.0000, 0.0000, 0.0000, 0.0000, 0.0000, 0.0000,\n",
      "           0.0000, 0.0000, 0.0000, 0.0000, 0.0000, 0.0000, 0.0000, 0.0000,\n",
      "           0.0000, 0.9765, 0.9922, 0.9765, 0.2510, 0.0000, 0.0000, 0.0000,\n",
      "           0.0000, 0.0000, 0.0000, 0.0000],\n",
      "          [0.0000, 0.0000, 0.0000, 0.0000, 0.0000, 0.0000, 0.0000, 0.0000,\n",
      "           0.0000, 0.0000, 0.0000, 0.0000, 0.0000, 0.0000, 0.1804, 0.5098,\n",
      "           0.7176, 0.9922, 0.9922, 0.8118, 0.0078, 0.0000, 0.0000, 0.0000,\n",
      "           0.0000, 0.0000, 0.0000, 0.0000],\n",
      "          [0.0000, 0.0000, 0.0000, 0.0000, 0.0000, 0.0000, 0.0000, 0.0000,\n",
      "           0.0000, 0.0000, 0.0000, 0.0000, 0.1529, 0.5804, 0.8980, 0.9922,\n",
      "           0.9922, 0.9922, 0.9804, 0.7137, 0.0000, 0.0000, 0.0000, 0.0000,\n",
      "           0.0000, 0.0000, 0.0000, 0.0000],\n",
      "          [0.0000, 0.0000, 0.0000, 0.0000, 0.0000, 0.0000, 0.0000, 0.0000,\n",
      "           0.0000, 0.0000, 0.0941, 0.4471, 0.8667, 0.9922, 0.9922, 0.9922,\n",
      "           0.9922, 0.7882, 0.3059, 0.0000, 0.0000, 0.0000, 0.0000, 0.0000,\n",
      "           0.0000, 0.0000, 0.0000, 0.0000],\n",
      "          [0.0000, 0.0000, 0.0000, 0.0000, 0.0000, 0.0000, 0.0000, 0.0000,\n",
      "           0.0902, 0.2588, 0.8353, 0.9922, 0.9922, 0.9922, 0.9922, 0.7765,\n",
      "           0.3176, 0.0078, 0.0000, 0.0000, 0.0000, 0.0000, 0.0000, 0.0000,\n",
      "           0.0000, 0.0000, 0.0000, 0.0000],\n",
      "          [0.0000, 0.0000, 0.0000, 0.0000, 0.0000, 0.0000, 0.0706, 0.6706,\n",
      "           0.8588, 0.9922, 0.9922, 0.9922, 0.9922, 0.7647, 0.3137, 0.0353,\n",
      "           0.0000, 0.0000, 0.0000, 0.0000, 0.0000, 0.0000, 0.0000, 0.0000,\n",
      "           0.0000, 0.0000, 0.0000, 0.0000],\n",
      "          [0.0000, 0.0000, 0.0000, 0.0000, 0.2157, 0.6745, 0.8863, 0.9922,\n",
      "           0.9922, 0.9922, 0.9922, 0.9569, 0.5216, 0.0431, 0.0000, 0.0000,\n",
      "           0.0000, 0.0000, 0.0000, 0.0000, 0.0000, 0.0000, 0.0000, 0.0000,\n",
      "           0.0000, 0.0000, 0.0000, 0.0000],\n",
      "          [0.0000, 0.0000, 0.0000, 0.0000, 0.5333, 0.9922, 0.9922, 0.9922,\n",
      "           0.8314, 0.5294, 0.5176, 0.0627, 0.0000, 0.0000, 0.0000, 0.0000,\n",
      "           0.0000, 0.0000, 0.0000, 0.0000, 0.0000, 0.0000, 0.0000, 0.0000,\n",
      "           0.0000, 0.0000, 0.0000, 0.0000],\n",
      "          [0.0000, 0.0000, 0.0000, 0.0000, 0.0000, 0.0000, 0.0000, 0.0000,\n",
      "           0.0000, 0.0000, 0.0000, 0.0000, 0.0000, 0.0000, 0.0000, 0.0000,\n",
      "           0.0000, 0.0000, 0.0000, 0.0000, 0.0000, 0.0000, 0.0000, 0.0000,\n",
      "           0.0000, 0.0000, 0.0000, 0.0000],\n",
      "          [0.0000, 0.0000, 0.0000, 0.0000, 0.0000, 0.0000, 0.0000, 0.0000,\n",
      "           0.0000, 0.0000, 0.0000, 0.0000, 0.0000, 0.0000, 0.0000, 0.0000,\n",
      "           0.0000, 0.0000, 0.0000, 0.0000, 0.0000, 0.0000, 0.0000, 0.0000,\n",
      "           0.0000, 0.0000, 0.0000, 0.0000],\n",
      "          [0.0000, 0.0000, 0.0000, 0.0000, 0.0000, 0.0000, 0.0000, 0.0000,\n",
      "           0.0000, 0.0000, 0.0000, 0.0000, 0.0000, 0.0000, 0.0000, 0.0000,\n",
      "           0.0000, 0.0000, 0.0000, 0.0000, 0.0000, 0.0000, 0.0000, 0.0000,\n",
      "           0.0000, 0.0000, 0.0000, 0.0000]]]]) tensor([5])\n"
     ]
    }
   ],
   "source": [
    "for batch,(X,y) in enumerate(train_ejemplo_loader):   #I finish verifying that the implementation works \n",
    "                                                      #for this training data.\n",
    "\n",
    "\n",
    "\n",
    "\n",
    "\n",
    "\n",
    "    print(batch,X,y)"
   ]
  },
  {
   "cell_type": "code",
   "execution_count": null,
   "id": "74d9c93a",
   "metadata": {
    "colab": {
     "base_uri": "https://localhost:8080/"
    },
    "id": "74d9c93a",
    "outputId": "984536ed-80a0-4179-c3de-f27af29ccccf"
   },
   "outputs": [
    {
     "data": {
      "text/plain": [
       "torch.Size([1])"
      ]
     },
     "execution_count": 111,
     "metadata": {},
     "output_type": "execute_result"
    }
   ],
   "source": [
    "y.size()"
   ]
  },
  {
   "cell_type": "code",
   "execution_count": null,
   "id": "fe116a0c",
   "metadata": {
    "id": "fe116a0c"
   },
   "outputs": [],
   "source": [
    "val_ejemplo = Dataset(train_dataset[1][0],train_dataset[1][1])"
   ]
  },
  {
   "cell_type": "code",
   "execution_count": null,
   "id": "69e13f47",
   "metadata": {
    "id": "69e13f47"
   },
   "outputs": [],
   "source": [
    "val_ejemplo_loader = torch.utils.data.DataLoader(val_ejemplo)"
   ]
  },
  {
   "cell_type": "code",
   "execution_count": null,
   "id": "a134343c",
   "metadata": {
    "colab": {
     "base_uri": "https://localhost:8080/"
    },
    "id": "a134343c",
    "outputId": "ef42f19f-9ab6-4248-b3bf-03bd85e74871"
   },
   "outputs": [
    {
     "name": "stdout",
     "output_type": "stream",
     "text": [
      "0 tensor([[[[0.0000, 0.0000, 0.0000, 0.0000, 0.0000, 0.0000, 0.0000, 0.0000,\n",
      "           0.0000, 0.0000, 0.0000, 0.0000, 0.0000, 0.0000, 0.0000, 0.0000,\n",
      "           0.0000, 0.0000, 0.0000, 0.0000, 0.0000, 0.0000, 0.0000, 0.0000,\n",
      "           0.0000, 0.0000, 0.0000, 0.0000],\n",
      "          [0.0000, 0.0000, 0.0000, 0.0000, 0.0000, 0.0000, 0.0000, 0.0000,\n",
      "           0.0000, 0.0000, 0.0000, 0.0000, 0.0000, 0.0000, 0.0000, 0.0000,\n",
      "           0.0000, 0.0000, 0.0000, 0.0000, 0.0000, 0.0000, 0.0000, 0.0000,\n",
      "           0.0000, 0.0000, 0.0000, 0.0000],\n",
      "          [0.0000, 0.0000, 0.0000, 0.0000, 0.0000, 0.0000, 0.0000, 0.0000,\n",
      "           0.0000, 0.0000, 0.0000, 0.0000, 0.0000, 0.0000, 0.0000, 0.0000,\n",
      "           0.0000, 0.0000, 0.0000, 0.0000, 0.0000, 0.0000, 0.0000, 0.0000,\n",
      "           0.0000, 0.0000, 0.0000, 0.0000],\n",
      "          [0.0000, 0.0000, 0.0000, 0.0000, 0.0000, 0.0000, 0.0000, 0.0000,\n",
      "           0.0000, 0.0000, 0.0000, 0.0000, 0.0000, 0.0000, 0.0000, 0.0000,\n",
      "           0.0000, 0.0000, 0.0000, 0.0000, 0.0000, 0.0000, 0.0000, 0.0000,\n",
      "           0.0000, 0.0000, 0.0000, 0.0000],\n",
      "          [0.0000, 0.0000, 0.0000, 0.0000, 0.0000, 0.0000, 0.0000, 0.0000,\n",
      "           0.0000, 0.0000, 0.0000, 0.0000, 0.0000, 0.0000, 0.0000, 0.2000,\n",
      "           0.6235, 0.9922, 0.6235, 0.1961, 0.0000, 0.0000, 0.0000, 0.0000,\n",
      "           0.0000, 0.0000, 0.0000, 0.0000],\n",
      "          [0.0000, 0.0000, 0.0000, 0.0000, 0.0000, 0.0000, 0.0000, 0.0000,\n",
      "           0.0000, 0.0000, 0.0000, 0.0000, 0.0000, 0.0000, 0.1882, 0.9333,\n",
      "           0.9882, 0.9882, 0.9882, 0.9294, 0.0000, 0.0000, 0.0000, 0.0000,\n",
      "           0.0000, 0.0000, 0.0000, 0.0000],\n",
      "          [0.0000, 0.0000, 0.0000, 0.0000, 0.0000, 0.0000, 0.0000, 0.0000,\n",
      "           0.0000, 0.0000, 0.0000, 0.0000, 0.0000, 0.2118, 0.8902, 0.9922,\n",
      "           0.9882, 0.9373, 0.9137, 0.9882, 0.2235, 0.0235, 0.0000, 0.0000,\n",
      "           0.0000, 0.0000, 0.0000, 0.0000],\n",
      "          [0.0000, 0.0000, 0.0000, 0.0000, 0.0000, 0.0000, 0.0000, 0.0000,\n",
      "           0.0000, 0.0000, 0.0000, 0.0392, 0.2353, 0.8784, 0.9882, 0.9922,\n",
      "           0.9882, 0.7922, 0.3294, 0.9882, 0.9922, 0.4784, 0.0000, 0.0000,\n",
      "           0.0000, 0.0000, 0.0000, 0.0000],\n",
      "          [0.0000, 0.0000, 0.0000, 0.0000, 0.0000, 0.0000, 0.0000, 0.0000,\n",
      "           0.0000, 0.0000, 0.0000, 0.6392, 0.9882, 0.9882, 0.9882, 0.9922,\n",
      "           0.9882, 0.9882, 0.3765, 0.7412, 0.9922, 0.6549, 0.0000, 0.0000,\n",
      "           0.0000, 0.0000, 0.0000, 0.0000],\n",
      "          [0.0000, 0.0000, 0.0000, 0.0000, 0.0000, 0.0000, 0.0000, 0.0000,\n",
      "           0.0000, 0.0000, 0.2000, 0.9333, 0.9922, 0.9922, 0.7451, 0.4471,\n",
      "           0.9922, 0.8941, 0.1843, 0.3098, 1.0000, 0.6588, 0.0000, 0.0000,\n",
      "           0.0000, 0.0000, 0.0000, 0.0000],\n",
      "          [0.0000, 0.0000, 0.0000, 0.0000, 0.0000, 0.0000, 0.0000, 0.0000,\n",
      "           0.0000, 0.1882, 0.9333, 0.9882, 0.9882, 0.7020, 0.0471, 0.2941,\n",
      "           0.4745, 0.0824, 0.0000, 0.0000, 0.9922, 0.9529, 0.1961, 0.0000,\n",
      "           0.0000, 0.0000, 0.0000, 0.0000],\n",
      "          [0.0000, 0.0000, 0.0000, 0.0000, 0.0000, 0.0000, 0.0000, 0.0000,\n",
      "           0.1490, 0.6471, 0.9922, 0.9137, 0.8157, 0.3294, 0.0000, 0.0000,\n",
      "           0.0000, 0.0000, 0.0000, 0.0000, 0.9922, 0.9882, 0.6471, 0.0000,\n",
      "           0.0000, 0.0000, 0.0000, 0.0000],\n",
      "          [0.0000, 0.0000, 0.0000, 0.0000, 0.0000, 0.0000, 0.0000, 0.0275,\n",
      "           0.6980, 0.9882, 0.9412, 0.2784, 0.0745, 0.1098, 0.0000, 0.0000,\n",
      "           0.0000, 0.0000, 0.0000, 0.0000, 0.9922, 0.9882, 0.7647, 0.0000,\n",
      "           0.0000, 0.0000, 0.0000, 0.0000],\n",
      "          [0.0000, 0.0000, 0.0000, 0.0000, 0.0000, 0.0000, 0.0000, 0.2235,\n",
      "           0.9882, 0.9882, 0.2471, 0.0000, 0.0000, 0.0000, 0.0000, 0.0000,\n",
      "           0.0000, 0.0000, 0.0000, 0.0000, 0.9922, 0.9882, 0.7647, 0.0000,\n",
      "           0.0000, 0.0000, 0.0000, 0.0000],\n",
      "          [0.0000, 0.0000, 0.0000, 0.0000, 0.0000, 0.0000, 0.0000, 0.7765,\n",
      "           0.9922, 0.7451, 0.0000, 0.0000, 0.0000, 0.0000, 0.0000, 0.0000,\n",
      "           0.0000, 0.0000, 0.0000, 0.0000, 1.0000, 0.9922, 0.7686, 0.0000,\n",
      "           0.0000, 0.0000, 0.0000, 0.0000],\n",
      "          [0.0000, 0.0000, 0.0000, 0.0000, 0.0000, 0.0000, 0.2980, 0.9647,\n",
      "           0.9882, 0.4392, 0.0000, 0.0000, 0.0000, 0.0000, 0.0000, 0.0000,\n",
      "           0.0000, 0.0000, 0.0000, 0.0000, 0.9922, 0.9882, 0.5804, 0.0000,\n",
      "           0.0000, 0.0000, 0.0000, 0.0000],\n",
      "          [0.0000, 0.0000, 0.0000, 0.0000, 0.0000, 0.0000, 0.3333, 0.9882,\n",
      "           0.9020, 0.0980, 0.0000, 0.0000, 0.0000, 0.0000, 0.0000, 0.0000,\n",
      "           0.0000, 0.0000, 0.0275, 0.5294, 0.9922, 0.7294, 0.0471, 0.0000,\n",
      "           0.0000, 0.0000, 0.0000, 0.0000],\n",
      "          [0.0000, 0.0000, 0.0000, 0.0000, 0.0000, 0.0000, 0.3333, 0.9882,\n",
      "           0.8745, 0.0000, 0.0000, 0.0000, 0.0000, 0.0000, 0.0000, 0.0000,\n",
      "           0.0000, 0.0275, 0.5137, 0.9882, 0.8824, 0.2784, 0.0000, 0.0000,\n",
      "           0.0000, 0.0000, 0.0000, 0.0000],\n",
      "          [0.0000, 0.0000, 0.0000, 0.0000, 0.0000, 0.0000, 0.3333, 0.9882,\n",
      "           0.5686, 0.0000, 0.0000, 0.0000, 0.0000, 0.0000, 0.0000, 0.0000,\n",
      "           0.1882, 0.6471, 0.9882, 0.6784, 0.0000, 0.0000, 0.0000, 0.0000,\n",
      "           0.0000, 0.0000, 0.0000, 0.0000],\n",
      "          [0.0000, 0.0000, 0.0000, 0.0000, 0.0000, 0.0000, 0.3373, 0.9922,\n",
      "           0.8824, 0.0000, 0.0000, 0.0000, 0.0000, 0.0000, 0.0000, 0.4471,\n",
      "           0.9333, 0.9922, 0.6353, 0.0000, 0.0000, 0.0000, 0.0000, 0.0000,\n",
      "           0.0000, 0.0000, 0.0000, 0.0000],\n",
      "          [0.0000, 0.0000, 0.0000, 0.0000, 0.0000, 0.0000, 0.3333, 0.9882,\n",
      "           0.9765, 0.5725, 0.1882, 0.1137, 0.3333, 0.6980, 0.8824, 0.9922,\n",
      "           0.8745, 0.6549, 0.2196, 0.0000, 0.0000, 0.0000, 0.0000, 0.0000,\n",
      "           0.0000, 0.0000, 0.0000, 0.0000],\n",
      "          [0.0000, 0.0000, 0.0000, 0.0000, 0.0000, 0.0000, 0.3333, 0.9882,\n",
      "           0.9882, 0.9882, 0.8980, 0.8431, 0.9882, 0.9882, 0.9882, 0.7686,\n",
      "           0.5098, 0.0000, 0.0000, 0.0000, 0.0000, 0.0000, 0.0000, 0.0000,\n",
      "           0.0000, 0.0000, 0.0000, 0.0000],\n",
      "          [0.0000, 0.0000, 0.0000, 0.0000, 0.0000, 0.0000, 0.1098, 0.7804,\n",
      "           0.9882, 0.9882, 0.9922, 0.9882, 0.9882, 0.9137, 0.5686, 0.0000,\n",
      "           0.0000, 0.0000, 0.0000, 0.0000, 0.0000, 0.0000, 0.0000, 0.0000,\n",
      "           0.0000, 0.0000, 0.0000, 0.0000],\n",
      "          [0.0000, 0.0000, 0.0000, 0.0000, 0.0000, 0.0000, 0.0000, 0.0980,\n",
      "           0.5020, 0.9882, 0.9922, 0.9882, 0.5529, 0.1451, 0.0000, 0.0000,\n",
      "           0.0000, 0.0000, 0.0000, 0.0000, 0.0000, 0.0000, 0.0000, 0.0000,\n",
      "           0.0000, 0.0000, 0.0000, 0.0000],\n",
      "          [0.0000, 0.0000, 0.0000, 0.0000, 0.0000, 0.0000, 0.0000, 0.0000,\n",
      "           0.0000, 0.0000, 0.0000, 0.0000, 0.0000, 0.0000, 0.0000, 0.0000,\n",
      "           0.0000, 0.0000, 0.0000, 0.0000, 0.0000, 0.0000, 0.0000, 0.0000,\n",
      "           0.0000, 0.0000, 0.0000, 0.0000],\n",
      "          [0.0000, 0.0000, 0.0000, 0.0000, 0.0000, 0.0000, 0.0000, 0.0000,\n",
      "           0.0000, 0.0000, 0.0000, 0.0000, 0.0000, 0.0000, 0.0000, 0.0000,\n",
      "           0.0000, 0.0000, 0.0000, 0.0000, 0.0000, 0.0000, 0.0000, 0.0000,\n",
      "           0.0000, 0.0000, 0.0000, 0.0000],\n",
      "          [0.0000, 0.0000, 0.0000, 0.0000, 0.0000, 0.0000, 0.0000, 0.0000,\n",
      "           0.0000, 0.0000, 0.0000, 0.0000, 0.0000, 0.0000, 0.0000, 0.0000,\n",
      "           0.0000, 0.0000, 0.0000, 0.0000, 0.0000, 0.0000, 0.0000, 0.0000,\n",
      "           0.0000, 0.0000, 0.0000, 0.0000],\n",
      "          [0.0000, 0.0000, 0.0000, 0.0000, 0.0000, 0.0000, 0.0000, 0.0000,\n",
      "           0.0000, 0.0000, 0.0000, 0.0000, 0.0000, 0.0000, 0.0000, 0.0000,\n",
      "           0.0000, 0.0000, 0.0000, 0.0000, 0.0000, 0.0000, 0.0000, 0.0000,\n",
      "           0.0000, 0.0000, 0.0000, 0.0000]]]]) tensor([0])\n"
     ]
    }
   ],
   "source": [
    "for batch,(X,y) in enumerate(val_ejemplo_loader):\n",
    "    print(batch,X,y)"
   ]
  },
  {
   "cell_type": "markdown",
   "id": "RyXkqr9kMWhV",
   "metadata": {
    "id": "RyXkqr9kMWhV"
   },
   "source": [
    "#### Now, I proceed with the test, training each model with only one data point."
   ]
  },
  {
   "cell_type": "code",
   "execution_count": null,
   "id": "8c266f35",
   "metadata": {
    "colab": {
     "base_uri": "https://localhost:8080/",
     "height": 1000
    },
    "id": "8c266f35",
    "outputId": "8a2e7506-0012-4e33-925e-aaa55022b70b",
    "scrolled": true
   },
   "outputs": [
    {
     "name": "stdout",
     "output_type": "stream",
     "text": [
      "lr=0.1 epoch=0 train_loss=0.0 train_accu=1.0 valid_loss=156.05343627929688 valid_accu=0.0\n",
      "lr=0.1 epoch=1 train_loss=0.0 train_accu=1.0 valid_loss=417.3463134765625 valid_accu=0.0\n",
      "lr=0.1 epoch=2 train_loss=0.0 train_accu=1.0 valid_loss=705.5706787109375 valid_accu=0.0\n",
      "lr=0.1 epoch=3 train_loss=0.0 train_accu=1.0 valid_loss=997.6968383789062 valid_accu=0.0\n",
      "lr=0.1 epoch=4 train_loss=0.0 train_accu=1.0 valid_loss=1283.95947265625 valid_accu=0.0\n",
      "lr=0.1 epoch=5 train_loss=0.0 train_accu=1.0 valid_loss=1559.604248046875 valid_accu=0.0\n",
      "lr=0.1 epoch=6 train_loss=0.0 train_accu=1.0 valid_loss=1822.229736328125 valid_accu=0.0\n",
      "lr=0.1 epoch=7 train_loss=0.0 train_accu=1.0 valid_loss=2070.68701171875 valid_accu=0.0\n",
      "lr=0.1 epoch=8 train_loss=0.0 train_accu=1.0 valid_loss=2304.5498046875 valid_accu=0.0\n",
      "lr=0.1 epoch=9 train_loss=0.0 train_accu=1.0 valid_loss=2523.830078125 valid_accu=0.0\n",
      "lr=0.1 epoch=10 train_loss=0.0 train_accu=1.0 valid_loss=2728.810546875 valid_accu=0.0\n",
      "lr=0.1 epoch=11 train_loss=0.0 train_accu=1.0 valid_loss=2919.94775390625 valid_accu=0.0\n",
      "lr=0.1 epoch=12 train_loss=0.0 train_accu=1.0 valid_loss=3097.80224609375 valid_accu=0.0\n",
      "lr=0.1 epoch=13 train_loss=0.0 train_accu=1.0 valid_loss=3262.9990234375 valid_accu=0.0\n",
      "lr=0.1 epoch=14 train_loss=0.0 train_accu=1.0 valid_loss=3416.19677734375 valid_accu=0.0\n",
      "lr=0.1 epoch=15 train_loss=0.0 train_accu=1.0 valid_loss=3558.068359375 valid_accu=0.0\n",
      "lr=0.1 epoch=16 train_loss=0.0 train_accu=1.0 valid_loss=3689.2841796875 valid_accu=0.0\n",
      "lr=0.1 epoch=17 train_loss=0.0 train_accu=1.0 valid_loss=3810.50634765625 valid_accu=0.0\n",
      "lr=0.1 epoch=18 train_loss=0.0 train_accu=1.0 valid_loss=3922.37744140625 valid_accu=0.0\n",
      "lr=0.1 epoch=19 train_loss=0.0 train_accu=1.0 valid_loss=4025.520263671875 valid_accu=0.0\n",
      "lr=0.1 epoch=20 train_loss=0.0 train_accu=1.0 valid_loss=4120.52783203125 valid_accu=0.0\n",
      "lr=0.1 epoch=21 train_loss=0.0 train_accu=1.0 valid_loss=4207.97021484375 valid_accu=0.0\n",
      "lr=0.1 epoch=22 train_loss=0.0 train_accu=1.0 valid_loss=4288.38525390625 valid_accu=0.0\n",
      "lr=0.1 epoch=23 train_loss=0.0 train_accu=1.0 valid_loss=4362.28466796875 valid_accu=0.0\n",
      "lr=0.1 epoch=24 train_loss=0.0 train_accu=1.0 valid_loss=4430.1484375 valid_accu=0.0\n",
      "lr=0.1 epoch=25 train_loss=0.0 train_accu=1.0 valid_loss=4492.4287109375 valid_accu=0.0\n",
      "lr=0.1 epoch=26 train_loss=0.0 train_accu=1.0 valid_loss=4549.548828125 valid_accu=0.0\n",
      "lr=0.1 epoch=27 train_loss=0.0 train_accu=1.0 valid_loss=4601.9072265625 valid_accu=0.0\n",
      "lr=0.1 epoch=28 train_loss=0.0 train_accu=1.0 valid_loss=4649.873046875 valid_accu=0.0\n",
      "lr=0.1 epoch=29 train_loss=0.0 train_accu=1.0 valid_loss=4693.791015625 valid_accu=0.0\n",
      "lr=0.1 epoch=30 train_loss=0.0 train_accu=1.0 valid_loss=4733.984375 valid_accu=0.0\n",
      "lr=0.1 epoch=31 train_loss=0.0 train_accu=1.0 valid_loss=4770.75 valid_accu=0.0\n",
      "lr=0.1 epoch=32 train_loss=0.0 train_accu=1.0 valid_loss=4804.365234375 valid_accu=0.0\n",
      "lr=0.1 epoch=33 train_loss=0.0 train_accu=1.0 valid_loss=4835.08642578125 valid_accu=0.0\n",
      "lr=0.1 epoch=34 train_loss=0.0 train_accu=1.0 valid_loss=4863.1513671875 valid_accu=0.0\n",
      "lr=0.1 epoch=35 train_loss=0.0 train_accu=1.0 valid_loss=4888.7802734375 valid_accu=0.0\n",
      "lr=0.1 epoch=36 train_loss=0.0 train_accu=1.0 valid_loss=4912.173828125 valid_accu=0.0\n"
     ]
    },
    {
     "name": "stderr",
     "output_type": "stream",
     "text": [
      "<ipython-input-22-89706fee0790>:18: FutureWarning: The frame.append method is deprecated and will be removed from pandas in a future version. Use pandas.concat instead.\n",
      "  df = df.append({\"Lr\":learning_rate,\n",
      "<ipython-input-22-89706fee0790>:18: FutureWarning: The frame.append method is deprecated and will be removed from pandas in a future version. Use pandas.concat instead.\n",
      "  df = df.append({\"Lr\":learning_rate,\n",
      "<ipython-input-22-89706fee0790>:18: FutureWarning: The frame.append method is deprecated and will be removed from pandas in a future version. Use pandas.concat instead.\n",
      "  df = df.append({\"Lr\":learning_rate,\n",
      "<ipython-input-22-89706fee0790>:18: FutureWarning: The frame.append method is deprecated and will be removed from pandas in a future version. Use pandas.concat instead.\n",
      "  df = df.append({\"Lr\":learning_rate,\n",
      "<ipython-input-22-89706fee0790>:18: FutureWarning: The frame.append method is deprecated and will be removed from pandas in a future version. Use pandas.concat instead.\n",
      "  df = df.append({\"Lr\":learning_rate,\n",
      "<ipython-input-22-89706fee0790>:18: FutureWarning: The frame.append method is deprecated and will be removed from pandas in a future version. Use pandas.concat instead.\n",
      "  df = df.append({\"Lr\":learning_rate,\n",
      "<ipython-input-22-89706fee0790>:18: FutureWarning: The frame.append method is deprecated and will be removed from pandas in a future version. Use pandas.concat instead.\n",
      "  df = df.append({\"Lr\":learning_rate,\n",
      "<ipython-input-22-89706fee0790>:18: FutureWarning: The frame.append method is deprecated and will be removed from pandas in a future version. Use pandas.concat instead.\n",
      "  df = df.append({\"Lr\":learning_rate,\n",
      "<ipython-input-22-89706fee0790>:18: FutureWarning: The frame.append method is deprecated and will be removed from pandas in a future version. Use pandas.concat instead.\n",
      "  df = df.append({\"Lr\":learning_rate,\n",
      "<ipython-input-22-89706fee0790>:18: FutureWarning: The frame.append method is deprecated and will be removed from pandas in a future version. Use pandas.concat instead.\n",
      "  df = df.append({\"Lr\":learning_rate,\n",
      "<ipython-input-22-89706fee0790>:18: FutureWarning: The frame.append method is deprecated and will be removed from pandas in a future version. Use pandas.concat instead.\n",
      "  df = df.append({\"Lr\":learning_rate,\n",
      "<ipython-input-22-89706fee0790>:18: FutureWarning: The frame.append method is deprecated and will be removed from pandas in a future version. Use pandas.concat instead.\n",
      "  df = df.append({\"Lr\":learning_rate,\n",
      "<ipython-input-22-89706fee0790>:18: FutureWarning: The frame.append method is deprecated and will be removed from pandas in a future version. Use pandas.concat instead.\n",
      "  df = df.append({\"Lr\":learning_rate,\n",
      "<ipython-input-22-89706fee0790>:18: FutureWarning: The frame.append method is deprecated and will be removed from pandas in a future version. Use pandas.concat instead.\n",
      "  df = df.append({\"Lr\":learning_rate,\n",
      "<ipython-input-22-89706fee0790>:18: FutureWarning: The frame.append method is deprecated and will be removed from pandas in a future version. Use pandas.concat instead.\n",
      "  df = df.append({\"Lr\":learning_rate,\n",
      "<ipython-input-22-89706fee0790>:18: FutureWarning: The frame.append method is deprecated and will be removed from pandas in a future version. Use pandas.concat instead.\n",
      "  df = df.append({\"Lr\":learning_rate,\n",
      "<ipython-input-22-89706fee0790>:18: FutureWarning: The frame.append method is deprecated and will be removed from pandas in a future version. Use pandas.concat instead.\n",
      "  df = df.append({\"Lr\":learning_rate,\n",
      "<ipython-input-22-89706fee0790>:18: FutureWarning: The frame.append method is deprecated and will be removed from pandas in a future version. Use pandas.concat instead.\n",
      "  df = df.append({\"Lr\":learning_rate,\n",
      "<ipython-input-22-89706fee0790>:18: FutureWarning: The frame.append method is deprecated and will be removed from pandas in a future version. Use pandas.concat instead.\n",
      "  df = df.append({\"Lr\":learning_rate,\n",
      "<ipython-input-22-89706fee0790>:18: FutureWarning: The frame.append method is deprecated and will be removed from pandas in a future version. Use pandas.concat instead.\n",
      "  df = df.append({\"Lr\":learning_rate,\n",
      "<ipython-input-22-89706fee0790>:18: FutureWarning: The frame.append method is deprecated and will be removed from pandas in a future version. Use pandas.concat instead.\n",
      "  df = df.append({\"Lr\":learning_rate,\n",
      "<ipython-input-22-89706fee0790>:18: FutureWarning: The frame.append method is deprecated and will be removed from pandas in a future version. Use pandas.concat instead.\n",
      "  df = df.append({\"Lr\":learning_rate,\n",
      "<ipython-input-22-89706fee0790>:18: FutureWarning: The frame.append method is deprecated and will be removed from pandas in a future version. Use pandas.concat instead.\n",
      "  df = df.append({\"Lr\":learning_rate,\n",
      "<ipython-input-22-89706fee0790>:18: FutureWarning: The frame.append method is deprecated and will be removed from pandas in a future version. Use pandas.concat instead.\n",
      "  df = df.append({\"Lr\":learning_rate,\n",
      "<ipython-input-22-89706fee0790>:18: FutureWarning: The frame.append method is deprecated and will be removed from pandas in a future version. Use pandas.concat instead.\n",
      "  df = df.append({\"Lr\":learning_rate,\n",
      "<ipython-input-22-89706fee0790>:18: FutureWarning: The frame.append method is deprecated and will be removed from pandas in a future version. Use pandas.concat instead.\n",
      "  df = df.append({\"Lr\":learning_rate,\n",
      "<ipython-input-22-89706fee0790>:18: FutureWarning: The frame.append method is deprecated and will be removed from pandas in a future version. Use pandas.concat instead.\n",
      "  df = df.append({\"Lr\":learning_rate,\n",
      "<ipython-input-22-89706fee0790>:18: FutureWarning: The frame.append method is deprecated and will be removed from pandas in a future version. Use pandas.concat instead.\n",
      "  df = df.append({\"Lr\":learning_rate,\n",
      "<ipython-input-22-89706fee0790>:18: FutureWarning: The frame.append method is deprecated and will be removed from pandas in a future version. Use pandas.concat instead.\n",
      "  df = df.append({\"Lr\":learning_rate,\n",
      "<ipython-input-22-89706fee0790>:18: FutureWarning: The frame.append method is deprecated and will be removed from pandas in a future version. Use pandas.concat instead.\n",
      "  df = df.append({\"Lr\":learning_rate,\n",
      "<ipython-input-22-89706fee0790>:18: FutureWarning: The frame.append method is deprecated and will be removed from pandas in a future version. Use pandas.concat instead.\n",
      "  df = df.append({\"Lr\":learning_rate,\n",
      "<ipython-input-22-89706fee0790>:18: FutureWarning: The frame.append method is deprecated and will be removed from pandas in a future version. Use pandas.concat instead.\n",
      "  df = df.append({\"Lr\":learning_rate,\n",
      "<ipython-input-22-89706fee0790>:18: FutureWarning: The frame.append method is deprecated and will be removed from pandas in a future version. Use pandas.concat instead.\n",
      "  df = df.append({\"Lr\":learning_rate,\n",
      "<ipython-input-22-89706fee0790>:18: FutureWarning: The frame.append method is deprecated and will be removed from pandas in a future version. Use pandas.concat instead.\n",
      "  df = df.append({\"Lr\":learning_rate,\n",
      "<ipython-input-22-89706fee0790>:18: FutureWarning: The frame.append method is deprecated and will be removed from pandas in a future version. Use pandas.concat instead.\n",
      "  df = df.append({\"Lr\":learning_rate,\n",
      "<ipython-input-22-89706fee0790>:18: FutureWarning: The frame.append method is deprecated and will be removed from pandas in a future version. Use pandas.concat instead.\n",
      "  df = df.append({\"Lr\":learning_rate,\n",
      "<ipython-input-22-89706fee0790>:18: FutureWarning: The frame.append method is deprecated and will be removed from pandas in a future version. Use pandas.concat instead.\n",
      "  df = df.append({\"Lr\":learning_rate,\n"
     ]
    },
    {
     "name": "stdout",
     "output_type": "stream",
     "text": [
      "lr=0.1 epoch=37 train_loss=0.0 train_accu=1.0 valid_loss=4933.521484375 valid_accu=0.0\n",
      "lr=0.1 epoch=38 train_loss=0.0 train_accu=1.0 valid_loss=4952.994140625 valid_accu=0.0\n",
      "lr=0.1 epoch=39 train_loss=0.0 train_accu=1.0 valid_loss=4970.75146484375 valid_accu=0.0\n",
      "lr=0.01 epoch=0 train_loss=0.06357463449239731 train_accu=1.0 valid_loss=3.5012240409851074 valid_accu=0.0\n",
      "lr=0.01 epoch=1 train_loss=5.602679812000133e-05 train_accu=1.0 valid_loss=7.767867565155029 valid_accu=0.0\n",
      "lr=0.01 epoch=2 train_loss=0.0 train_accu=1.0 valid_loss=12.746847152709961 valid_accu=0.0\n",
      "lr=0.01 epoch=3 train_loss=0.0 train_accu=1.0 valid_loss=17.755931854248047 valid_accu=0.0\n",
      "lr=0.01 epoch=4 train_loss=0.0 train_accu=1.0 valid_loss=22.646760940551758 valid_accu=0.0\n",
      "lr=0.01 epoch=5 train_loss=0.0 train_accu=1.0 valid_loss=27.344667434692383 valid_accu=0.0\n",
      "lr=0.01 epoch=6 train_loss=0.0 train_accu=1.0 valid_loss=31.81268310546875 valid_accu=0.0\n",
      "lr=0.01 epoch=7 train_loss=0.0 train_accu=1.0 valid_loss=36.03386306762695 valid_accu=0.0\n",
      "lr=0.01 epoch=8 train_loss=0.0 train_accu=1.0 valid_loss=40.002769470214844 valid_accu=0.0\n",
      "lr=0.01 epoch=9 train_loss=0.0 train_accu=1.0 valid_loss=43.720863342285156 valid_accu=0.0\n",
      "lr=0.01 epoch=10 train_loss=0.0 train_accu=1.0 valid_loss=47.19392776489258 valid_accu=0.0\n",
      "lr=0.01 epoch=11 train_loss=0.0 train_accu=1.0 valid_loss=50.43039321899414 valid_accu=0.0\n",
      "lr=0.01 epoch=12 train_loss=0.0 train_accu=1.0 valid_loss=53.44031524658203 valid_accu=0.0\n",
      "lr=0.01 epoch=13 train_loss=0.0 train_accu=1.0 valid_loss=56.23472595214844 valid_accu=0.0\n",
      "lr=0.01 epoch=14 train_loss=0.0 train_accu=1.0 valid_loss=58.825096130371094 valid_accu=0.0\n",
      "lr=0.01 epoch=15 train_loss=0.0 train_accu=1.0 valid_loss=61.22308349609375 valid_accu=0.0\n",
      "lr=0.01 epoch=16 train_loss=0.0 train_accu=1.0 valid_loss=63.440250396728516 valid_accu=0.0\n",
      "lr=0.01 epoch=17 train_loss=0.0 train_accu=1.0 valid_loss=65.48796081542969 valid_accu=0.0\n",
      "lr=0.01 epoch=18 train_loss=0.0 train_accu=1.0 valid_loss=67.37722778320312 valid_accu=0.0\n",
      "lr=0.01 epoch=19 train_loss=0.0 train_accu=1.0 valid_loss=69.11865997314453 valid_accu=0.0\n",
      "lr=0.01 epoch=20 train_loss=0.0 train_accu=1.0 valid_loss=70.722412109375 valid_accu=0.0\n",
      "lr=0.01 epoch=21 train_loss=0.0 train_accu=1.0 valid_loss=72.19817352294922 valid_accu=0.0\n",
      "lr=0.01 epoch=22 train_loss=0.0 train_accu=1.0 valid_loss=73.55511474609375 valid_accu=0.0\n",
      "lr=0.01 epoch=23 train_loss=0.0 train_accu=1.0 valid_loss=74.80189514160156 valid_accu=0.0\n",
      "lr=0.01 epoch=24 train_loss=0.0 train_accu=1.0 valid_loss=75.94667053222656 valid_accu=0.0\n",
      "lr=0.01 epoch=25 train_loss=0.0 train_accu=1.0 valid_loss=76.99711608886719 valid_accu=0.0\n",
      "lr=0.01 epoch=26 train_loss=0.0 train_accu=1.0 valid_loss=77.96041870117188 valid_accu=0.0\n",
      "lr=0.01 epoch=27 train_loss=0.0 train_accu=1.0 valid_loss=78.84329986572266 valid_accu=0.0\n",
      "lr=0.01 epoch=28 train_loss=0.0 train_accu=1.0 valid_loss=79.65202331542969 valid_accu=0.0\n",
      "lr=0.01 epoch=29 train_loss=0.0 train_accu=1.0 valid_loss=80.39244079589844 valid_accu=0.0\n",
      "lr=0.01 epoch=30 train_loss=0.0 train_accu=1.0 valid_loss=81.06999206542969 valid_accu=0.0\n",
      "lr=0.01 epoch=31 train_loss=0.0 train_accu=1.0 valid_loss=81.689697265625 valid_accu=0.0\n",
      "lr=0.01 epoch=32 train_loss=0.0 train_accu=1.0 valid_loss=82.25627136230469 valid_accu=0.0\n",
      "lr=0.01 epoch=33 train_loss=0.0 train_accu=1.0 valid_loss=82.77401733398438 valid_accu=0.0\n",
      "lr=0.01 epoch=34 train_loss=0.0 train_accu=1.0 valid_loss=83.24695587158203 valid_accu=0.0\n"
     ]
    },
    {
     "name": "stderr",
     "output_type": "stream",
     "text": [
      "<ipython-input-22-89706fee0790>:18: FutureWarning: The frame.append method is deprecated and will be removed from pandas in a future version. Use pandas.concat instead.\n",
      "  df = df.append({\"Lr\":learning_rate,\n",
      "<ipython-input-22-89706fee0790>:18: FutureWarning: The frame.append method is deprecated and will be removed from pandas in a future version. Use pandas.concat instead.\n",
      "  df = df.append({\"Lr\":learning_rate,\n",
      "<ipython-input-22-89706fee0790>:18: FutureWarning: The frame.append method is deprecated and will be removed from pandas in a future version. Use pandas.concat instead.\n",
      "  df = df.append({\"Lr\":learning_rate,\n",
      "<ipython-input-22-89706fee0790>:18: FutureWarning: The frame.append method is deprecated and will be removed from pandas in a future version. Use pandas.concat instead.\n",
      "  df = df.append({\"Lr\":learning_rate,\n",
      "<ipython-input-22-89706fee0790>:18: FutureWarning: The frame.append method is deprecated and will be removed from pandas in a future version. Use pandas.concat instead.\n",
      "  df = df.append({\"Lr\":learning_rate,\n",
      "<ipython-input-22-89706fee0790>:18: FutureWarning: The frame.append method is deprecated and will be removed from pandas in a future version. Use pandas.concat instead.\n",
      "  df = df.append({\"Lr\":learning_rate,\n",
      "<ipython-input-22-89706fee0790>:18: FutureWarning: The frame.append method is deprecated and will be removed from pandas in a future version. Use pandas.concat instead.\n",
      "  df = df.append({\"Lr\":learning_rate,\n",
      "<ipython-input-22-89706fee0790>:18: FutureWarning: The frame.append method is deprecated and will be removed from pandas in a future version. Use pandas.concat instead.\n",
      "  df = df.append({\"Lr\":learning_rate,\n",
      "<ipython-input-22-89706fee0790>:18: FutureWarning: The frame.append method is deprecated and will be removed from pandas in a future version. Use pandas.concat instead.\n",
      "  df = df.append({\"Lr\":learning_rate,\n",
      "<ipython-input-22-89706fee0790>:18: FutureWarning: The frame.append method is deprecated and will be removed from pandas in a future version. Use pandas.concat instead.\n",
      "  df = df.append({\"Lr\":learning_rate,\n",
      "<ipython-input-22-89706fee0790>:18: FutureWarning: The frame.append method is deprecated and will be removed from pandas in a future version. Use pandas.concat instead.\n",
      "  df = df.append({\"Lr\":learning_rate,\n",
      "<ipython-input-22-89706fee0790>:18: FutureWarning: The frame.append method is deprecated and will be removed from pandas in a future version. Use pandas.concat instead.\n",
      "  df = df.append({\"Lr\":learning_rate,\n",
      "<ipython-input-22-89706fee0790>:18: FutureWarning: The frame.append method is deprecated and will be removed from pandas in a future version. Use pandas.concat instead.\n",
      "  df = df.append({\"Lr\":learning_rate,\n",
      "<ipython-input-22-89706fee0790>:18: FutureWarning: The frame.append method is deprecated and will be removed from pandas in a future version. Use pandas.concat instead.\n",
      "  df = df.append({\"Lr\":learning_rate,\n",
      "<ipython-input-22-89706fee0790>:18: FutureWarning: The frame.append method is deprecated and will be removed from pandas in a future version. Use pandas.concat instead.\n",
      "  df = df.append({\"Lr\":learning_rate,\n",
      "<ipython-input-22-89706fee0790>:18: FutureWarning: The frame.append method is deprecated and will be removed from pandas in a future version. Use pandas.concat instead.\n",
      "  df = df.append({\"Lr\":learning_rate,\n",
      "<ipython-input-22-89706fee0790>:18: FutureWarning: The frame.append method is deprecated and will be removed from pandas in a future version. Use pandas.concat instead.\n",
      "  df = df.append({\"Lr\":learning_rate,\n",
      "<ipython-input-22-89706fee0790>:18: FutureWarning: The frame.append method is deprecated and will be removed from pandas in a future version. Use pandas.concat instead.\n",
      "  df = df.append({\"Lr\":learning_rate,\n",
      "<ipython-input-22-89706fee0790>:18: FutureWarning: The frame.append method is deprecated and will be removed from pandas in a future version. Use pandas.concat instead.\n",
      "  df = df.append({\"Lr\":learning_rate,\n",
      "<ipython-input-22-89706fee0790>:18: FutureWarning: The frame.append method is deprecated and will be removed from pandas in a future version. Use pandas.concat instead.\n",
      "  df = df.append({\"Lr\":learning_rate,\n",
      "<ipython-input-22-89706fee0790>:18: FutureWarning: The frame.append method is deprecated and will be removed from pandas in a future version. Use pandas.concat instead.\n",
      "  df = df.append({\"Lr\":learning_rate,\n",
      "<ipython-input-22-89706fee0790>:18: FutureWarning: The frame.append method is deprecated and will be removed from pandas in a future version. Use pandas.concat instead.\n",
      "  df = df.append({\"Lr\":learning_rate,\n",
      "<ipython-input-22-89706fee0790>:18: FutureWarning: The frame.append method is deprecated and will be removed from pandas in a future version. Use pandas.concat instead.\n",
      "  df = df.append({\"Lr\":learning_rate,\n",
      "<ipython-input-22-89706fee0790>:18: FutureWarning: The frame.append method is deprecated and will be removed from pandas in a future version. Use pandas.concat instead.\n",
      "  df = df.append({\"Lr\":learning_rate,\n",
      "<ipython-input-22-89706fee0790>:18: FutureWarning: The frame.append method is deprecated and will be removed from pandas in a future version. Use pandas.concat instead.\n",
      "  df = df.append({\"Lr\":learning_rate,\n",
      "<ipython-input-22-89706fee0790>:18: FutureWarning: The frame.append method is deprecated and will be removed from pandas in a future version. Use pandas.concat instead.\n",
      "  df = df.append({\"Lr\":learning_rate,\n",
      "<ipython-input-22-89706fee0790>:18: FutureWarning: The frame.append method is deprecated and will be removed from pandas in a future version. Use pandas.concat instead.\n",
      "  df = df.append({\"Lr\":learning_rate,\n",
      "<ipython-input-22-89706fee0790>:18: FutureWarning: The frame.append method is deprecated and will be removed from pandas in a future version. Use pandas.concat instead.\n",
      "  df = df.append({\"Lr\":learning_rate,\n",
      "<ipython-input-22-89706fee0790>:18: FutureWarning: The frame.append method is deprecated and will be removed from pandas in a future version. Use pandas.concat instead.\n",
      "  df = df.append({\"Lr\":learning_rate,\n",
      "<ipython-input-22-89706fee0790>:18: FutureWarning: The frame.append method is deprecated and will be removed from pandas in a future version. Use pandas.concat instead.\n",
      "  df = df.append({\"Lr\":learning_rate,\n",
      "<ipython-input-22-89706fee0790>:18: FutureWarning: The frame.append method is deprecated and will be removed from pandas in a future version. Use pandas.concat instead.\n",
      "  df = df.append({\"Lr\":learning_rate,\n",
      "<ipython-input-22-89706fee0790>:18: FutureWarning: The frame.append method is deprecated and will be removed from pandas in a future version. Use pandas.concat instead.\n",
      "  df = df.append({\"Lr\":learning_rate,\n",
      "<ipython-input-22-89706fee0790>:18: FutureWarning: The frame.append method is deprecated and will be removed from pandas in a future version. Use pandas.concat instead.\n",
      "  df = df.append({\"Lr\":learning_rate,\n",
      "<ipython-input-22-89706fee0790>:18: FutureWarning: The frame.append method is deprecated and will be removed from pandas in a future version. Use pandas.concat instead.\n",
      "  df = df.append({\"Lr\":learning_rate,\n",
      "<ipython-input-22-89706fee0790>:18: FutureWarning: The frame.append method is deprecated and will be removed from pandas in a future version. Use pandas.concat instead.\n",
      "  df = df.append({\"Lr\":learning_rate,\n",
      "<ipython-input-22-89706fee0790>:18: FutureWarning: The frame.append method is deprecated and will be removed from pandas in a future version. Use pandas.concat instead.\n",
      "  df = df.append({\"Lr\":learning_rate,\n",
      "<ipython-input-22-89706fee0790>:18: FutureWarning: The frame.append method is deprecated and will be removed from pandas in a future version. Use pandas.concat instead.\n",
      "  df = df.append({\"Lr\":learning_rate,\n",
      "<ipython-input-22-89706fee0790>:18: FutureWarning: The frame.append method is deprecated and will be removed from pandas in a future version. Use pandas.concat instead.\n",
      "  df = df.append({\"Lr\":learning_rate,\n"
     ]
    },
    {
     "name": "stdout",
     "output_type": "stream",
     "text": [
      "lr=0.01 epoch=35 train_loss=0.0 train_accu=1.0 valid_loss=83.67881774902344 valid_accu=0.0\n",
      "lr=0.01 epoch=36 train_loss=0.0 train_accu=1.0 valid_loss=84.072998046875 valid_accu=0.0\n",
      "lr=0.01 epoch=37 train_loss=0.0 train_accu=1.0 valid_loss=84.43267822265625 valid_accu=0.0\n",
      "lr=0.01 epoch=38 train_loss=0.0 train_accu=1.0 valid_loss=84.7607421875 valid_accu=0.0\n",
      "lr=0.01 epoch=39 train_loss=0.0 train_accu=1.0 valid_loss=85.05990600585938 valid_accu=0.0\n",
      "lr=0.001 epoch=0 train_loss=1.8959470987319946 train_accu=1.0 valid_loss=2.2910022735595703 valid_accu=0.0\n",
      "lr=0.001 epoch=1 train_loss=1.4509334564208984 train_accu=1.0 valid_loss=2.3141894340515137 valid_accu=0.0\n",
      "lr=0.001 epoch=2 train_loss=1.0801650285720825 train_accu=1.0 valid_loss=2.356095790863037 valid_accu=0.0\n",
      "lr=0.001 epoch=3 train_loss=0.7705872058868408 train_accu=1.0 valid_loss=2.4169273376464844 valid_accu=0.0\n",
      "lr=0.001 epoch=4 train_loss=0.5185248851776123 train_accu=1.0 valid_loss=2.5073282718658447 valid_accu=0.0\n",
      "lr=0.001 epoch=5 train_loss=0.32967159152030945 train_accu=1.0 valid_loss=2.635408878326416 valid_accu=0.0\n",
      "lr=0.001 epoch=6 train_loss=0.19863756000995636 train_accu=1.0 valid_loss=2.810051202774048 valid_accu=0.0\n",
      "lr=0.001 epoch=7 train_loss=0.11558908969163895 train_accu=1.0 valid_loss=3.0280349254608154 valid_accu=0.0\n",
      "lr=0.001 epoch=8 train_loss=0.06611714512109756 train_accu=1.0 valid_loss=3.281803846359253 valid_accu=0.0\n",
      "lr=0.001 epoch=9 train_loss=0.037678707391023636 train_accu=1.0 valid_loss=3.561877489089966 valid_accu=0.0\n",
      "lr=0.001 epoch=10 train_loss=0.02169974148273468 train_accu=1.0 valid_loss=3.856442928314209 valid_accu=0.0\n",
      "lr=0.001 epoch=11 train_loss=0.012782543897628784 train_accu=1.0 valid_loss=4.1543684005737305 valid_accu=0.0\n",
      "lr=0.001 epoch=12 train_loss=0.007729857228696346 train_accu=1.0 valid_loss=4.4489827156066895 valid_accu=0.0\n",
      "lr=0.001 epoch=13 train_loss=0.004800105467438698 train_accu=1.0 valid_loss=4.735802173614502 valid_accu=0.0\n",
      "lr=0.001 epoch=14 train_loss=0.003066482488065958 train_accu=1.0 valid_loss=5.010847568511963 valid_accu=0.0\n",
      "lr=0.001 epoch=15 train_loss=0.0020149897318333387 train_accu=1.0 valid_loss=5.272229194641113 valid_accu=0.0\n",
      "lr=0.001 epoch=16 train_loss=0.0013613966293632984 train_accu=1.0 valid_loss=5.518850803375244 valid_accu=0.0\n",
      "lr=0.001 epoch=17 train_loss=0.0009447640040889382 train_accu=1.0 valid_loss=5.750376224517822 valid_accu=0.0\n",
      "lr=0.001 epoch=18 train_loss=0.0006729483720846474 train_accu=1.0 valid_loss=5.966656684875488 valid_accu=0.0\n",
      "lr=0.001 epoch=19 train_loss=0.0004913791781291366 train_accu=1.0 valid_loss=6.167954444885254 valid_accu=0.0\n",
      "lr=0.001 epoch=20 train_loss=0.0003673355677165091 train_accu=1.0 valid_loss=6.354767799377441 valid_accu=0.0\n",
      "lr=0.001 epoch=21 train_loss=0.00028046013903804123 train_accu=1.0 valid_loss=6.528320789337158 valid_accu=0.0\n",
      "lr=0.001 epoch=22 train_loss=0.00021860594279132783 train_accu=1.0 valid_loss=6.688896179199219 valid_accu=0.0\n",
      "lr=0.001 epoch=23 train_loss=0.00017379203927703202 train_accu=1.0 valid_loss=6.837215423583984 valid_accu=0.0\n",
      "lr=0.001 epoch=24 train_loss=0.00014065706636756659 train_accu=1.0 valid_loss=6.974050521850586 valid_accu=0.0\n",
      "lr=0.001 epoch=25 train_loss=0.00011586471373448148 train_accu=1.0 valid_loss=7.100105285644531 valid_accu=0.0\n",
      "lr=0.001 epoch=26 train_loss=9.679325739853084e-05 train_accu=1.0 valid_loss=7.216282844543457 valid_accu=0.0\n",
      "lr=0.001 epoch=27 train_loss=8.21318244561553e-05 train_accu=1.0 valid_loss=7.323129653930664 valid_accu=0.0\n",
      "lr=0.001 epoch=28 train_loss=7.056941103655845e-05 train_accu=1.0 valid_loss=7.421240329742432 valid_accu=0.0\n",
      "lr=0.001 epoch=29 train_loss=6.151010165922344e-05 train_accu=1.0 valid_loss=7.511417388916016 valid_accu=0.0\n",
      "lr=0.001 epoch=30 train_loss=5.400034933700226e-05 train_accu=1.0 valid_loss=7.59415864944458 valid_accu=0.0\n",
      "lr=0.001 epoch=31 train_loss=4.8040190449682996e-05 train_accu=1.0 valid_loss=7.670036792755127 valid_accu=0.0\n",
      "lr=0.001 epoch=32 train_loss=4.31528314948082e-05 train_accu=1.0 valid_loss=7.73954963684082 valid_accu=0.0\n"
     ]
    },
    {
     "name": "stderr",
     "output_type": "stream",
     "text": [
      "<ipython-input-22-89706fee0790>:18: FutureWarning: The frame.append method is deprecated and will be removed from pandas in a future version. Use pandas.concat instead.\n",
      "  df = df.append({\"Lr\":learning_rate,\n",
      "<ipython-input-22-89706fee0790>:18: FutureWarning: The frame.append method is deprecated and will be removed from pandas in a future version. Use pandas.concat instead.\n",
      "  df = df.append({\"Lr\":learning_rate,\n",
      "<ipython-input-22-89706fee0790>:18: FutureWarning: The frame.append method is deprecated and will be removed from pandas in a future version. Use pandas.concat instead.\n",
      "  df = df.append({\"Lr\":learning_rate,\n",
      "<ipython-input-22-89706fee0790>:18: FutureWarning: The frame.append method is deprecated and will be removed from pandas in a future version. Use pandas.concat instead.\n",
      "  df = df.append({\"Lr\":learning_rate,\n",
      "<ipython-input-22-89706fee0790>:18: FutureWarning: The frame.append method is deprecated and will be removed from pandas in a future version. Use pandas.concat instead.\n",
      "  df = df.append({\"Lr\":learning_rate,\n",
      "<ipython-input-22-89706fee0790>:18: FutureWarning: The frame.append method is deprecated and will be removed from pandas in a future version. Use pandas.concat instead.\n",
      "  df = df.append({\"Lr\":learning_rate,\n",
      "<ipython-input-22-89706fee0790>:18: FutureWarning: The frame.append method is deprecated and will be removed from pandas in a future version. Use pandas.concat instead.\n",
      "  df = df.append({\"Lr\":learning_rate,\n",
      "<ipython-input-22-89706fee0790>:18: FutureWarning: The frame.append method is deprecated and will be removed from pandas in a future version. Use pandas.concat instead.\n",
      "  df = df.append({\"Lr\":learning_rate,\n",
      "<ipython-input-22-89706fee0790>:18: FutureWarning: The frame.append method is deprecated and will be removed from pandas in a future version. Use pandas.concat instead.\n",
      "  df = df.append({\"Lr\":learning_rate,\n",
      "<ipython-input-22-89706fee0790>:18: FutureWarning: The frame.append method is deprecated and will be removed from pandas in a future version. Use pandas.concat instead.\n",
      "  df = df.append({\"Lr\":learning_rate,\n",
      "<ipython-input-22-89706fee0790>:18: FutureWarning: The frame.append method is deprecated and will be removed from pandas in a future version. Use pandas.concat instead.\n",
      "  df = df.append({\"Lr\":learning_rate,\n",
      "<ipython-input-22-89706fee0790>:18: FutureWarning: The frame.append method is deprecated and will be removed from pandas in a future version. Use pandas.concat instead.\n",
      "  df = df.append({\"Lr\":learning_rate,\n",
      "<ipython-input-22-89706fee0790>:18: FutureWarning: The frame.append method is deprecated and will be removed from pandas in a future version. Use pandas.concat instead.\n",
      "  df = df.append({\"Lr\":learning_rate,\n",
      "<ipython-input-22-89706fee0790>:18: FutureWarning: The frame.append method is deprecated and will be removed from pandas in a future version. Use pandas.concat instead.\n",
      "  df = df.append({\"Lr\":learning_rate,\n",
      "<ipython-input-22-89706fee0790>:18: FutureWarning: The frame.append method is deprecated and will be removed from pandas in a future version. Use pandas.concat instead.\n",
      "  df = df.append({\"Lr\":learning_rate,\n",
      "<ipython-input-22-89706fee0790>:18: FutureWarning: The frame.append method is deprecated and will be removed from pandas in a future version. Use pandas.concat instead.\n",
      "  df = df.append({\"Lr\":learning_rate,\n",
      "<ipython-input-22-89706fee0790>:18: FutureWarning: The frame.append method is deprecated and will be removed from pandas in a future version. Use pandas.concat instead.\n",
      "  df = df.append({\"Lr\":learning_rate,\n",
      "<ipython-input-22-89706fee0790>:18: FutureWarning: The frame.append method is deprecated and will be removed from pandas in a future version. Use pandas.concat instead.\n",
      "  df = df.append({\"Lr\":learning_rate,\n",
      "<ipython-input-22-89706fee0790>:18: FutureWarning: The frame.append method is deprecated and will be removed from pandas in a future version. Use pandas.concat instead.\n",
      "  df = df.append({\"Lr\":learning_rate,\n",
      "<ipython-input-22-89706fee0790>:18: FutureWarning: The frame.append method is deprecated and will be removed from pandas in a future version. Use pandas.concat instead.\n",
      "  df = df.append({\"Lr\":learning_rate,\n",
      "<ipython-input-22-89706fee0790>:18: FutureWarning: The frame.append method is deprecated and will be removed from pandas in a future version. Use pandas.concat instead.\n",
      "  df = df.append({\"Lr\":learning_rate,\n",
      "<ipython-input-22-89706fee0790>:18: FutureWarning: The frame.append method is deprecated and will be removed from pandas in a future version. Use pandas.concat instead.\n",
      "  df = df.append({\"Lr\":learning_rate,\n",
      "<ipython-input-22-89706fee0790>:18: FutureWarning: The frame.append method is deprecated and will be removed from pandas in a future version. Use pandas.concat instead.\n",
      "  df = df.append({\"Lr\":learning_rate,\n",
      "<ipython-input-22-89706fee0790>:18: FutureWarning: The frame.append method is deprecated and will be removed from pandas in a future version. Use pandas.concat instead.\n",
      "  df = df.append({\"Lr\":learning_rate,\n",
      "<ipython-input-22-89706fee0790>:18: FutureWarning: The frame.append method is deprecated and will be removed from pandas in a future version. Use pandas.concat instead.\n",
      "  df = df.append({\"Lr\":learning_rate,\n",
      "<ipython-input-22-89706fee0790>:18: FutureWarning: The frame.append method is deprecated and will be removed from pandas in a future version. Use pandas.concat instead.\n",
      "  df = df.append({\"Lr\":learning_rate,\n",
      "<ipython-input-22-89706fee0790>:18: FutureWarning: The frame.append method is deprecated and will be removed from pandas in a future version. Use pandas.concat instead.\n",
      "  df = df.append({\"Lr\":learning_rate,\n",
      "<ipython-input-22-89706fee0790>:18: FutureWarning: The frame.append method is deprecated and will be removed from pandas in a future version. Use pandas.concat instead.\n",
      "  df = df.append({\"Lr\":learning_rate,\n",
      "<ipython-input-22-89706fee0790>:18: FutureWarning: The frame.append method is deprecated and will be removed from pandas in a future version. Use pandas.concat instead.\n",
      "  df = df.append({\"Lr\":learning_rate,\n",
      "<ipython-input-22-89706fee0790>:18: FutureWarning: The frame.append method is deprecated and will be removed from pandas in a future version. Use pandas.concat instead.\n",
      "  df = df.append({\"Lr\":learning_rate,\n",
      "<ipython-input-22-89706fee0790>:18: FutureWarning: The frame.append method is deprecated and will be removed from pandas in a future version. Use pandas.concat instead.\n",
      "  df = df.append({\"Lr\":learning_rate,\n",
      "<ipython-input-22-89706fee0790>:18: FutureWarning: The frame.append method is deprecated and will be removed from pandas in a future version. Use pandas.concat instead.\n",
      "  df = df.append({\"Lr\":learning_rate,\n",
      "<ipython-input-22-89706fee0790>:18: FutureWarning: The frame.append method is deprecated and will be removed from pandas in a future version. Use pandas.concat instead.\n",
      "  df = df.append({\"Lr\":learning_rate,\n",
      "<ipython-input-22-89706fee0790>:18: FutureWarning: The frame.append method is deprecated and will be removed from pandas in a future version. Use pandas.concat instead.\n",
      "  df = df.append({\"Lr\":learning_rate,\n",
      "<ipython-input-22-89706fee0790>:18: FutureWarning: The frame.append method is deprecated and will be removed from pandas in a future version. Use pandas.concat instead.\n",
      "  df = df.append({\"Lr\":learning_rate,\n",
      "<ipython-input-22-89706fee0790>:18: FutureWarning: The frame.append method is deprecated and will be removed from pandas in a future version. Use pandas.concat instead.\n",
      "  df = df.append({\"Lr\":learning_rate,\n",
      "<ipython-input-22-89706fee0790>:18: FutureWarning: The frame.append method is deprecated and will be removed from pandas in a future version. Use pandas.concat instead.\n",
      "  df = df.append({\"Lr\":learning_rate,\n",
      "<ipython-input-22-89706fee0790>:18: FutureWarning: The frame.append method is deprecated and will be removed from pandas in a future version. Use pandas.concat instead.\n",
      "  df = df.append({\"Lr\":learning_rate,\n"
     ]
    },
    {
     "name": "stdout",
     "output_type": "stream",
     "text": [
      "lr=0.001 epoch=33 train_loss=3.909988299710676e-05 train_accu=1.0 valid_loss=7.803238868713379 valid_accu=0.0\n",
      "lr=0.001 epoch=34 train_loss=3.576214658096433e-05 train_accu=1.0 valid_loss=7.861556053161621 valid_accu=0.0\n",
      "lr=0.001 epoch=35 train_loss=3.302042750874534e-05 train_accu=1.0 valid_loss=7.914913177490234 valid_accu=0.0\n",
      "lr=0.001 epoch=36 train_loss=3.0636318115284666e-05 train_accu=1.0 valid_loss=7.963676929473877 valid_accu=0.0\n",
      "lr=0.001 epoch=37 train_loss=2.8609820219571702e-05 train_accu=1.0 valid_loss=8.008231163024902 valid_accu=0.0\n",
      "lr=0.001 epoch=38 train_loss=2.682172998902388e-05 train_accu=1.0 valid_loss=8.048924446105957 valid_accu=0.0\n",
      "lr=0.001 epoch=39 train_loss=2.539125671319198e-05 train_accu=1.0 valid_loss=8.086091041564941 valid_accu=0.0\n",
      "CPU times: user 647 ms, sys: 37.6 ms, total: 684 ms\n",
      "Wall time: 754 ms\n"
     ]
    },
    {
     "name": "stderr",
     "output_type": "stream",
     "text": [
      "<ipython-input-22-89706fee0790>:18: FutureWarning: The frame.append method is deprecated and will be removed from pandas in a future version. Use pandas.concat instead.\n",
      "  df = df.append({\"Lr\":learning_rate,\n",
      "<ipython-input-22-89706fee0790>:18: FutureWarning: The frame.append method is deprecated and will be removed from pandas in a future version. Use pandas.concat instead.\n",
      "  df = df.append({\"Lr\":learning_rate,\n",
      "<ipython-input-22-89706fee0790>:18: FutureWarning: The frame.append method is deprecated and will be removed from pandas in a future version. Use pandas.concat instead.\n",
      "  df = df.append({\"Lr\":learning_rate,\n",
      "<ipython-input-22-89706fee0790>:18: FutureWarning: The frame.append method is deprecated and will be removed from pandas in a future version. Use pandas.concat instead.\n",
      "  df = df.append({\"Lr\":learning_rate,\n",
      "<ipython-input-22-89706fee0790>:18: FutureWarning: The frame.append method is deprecated and will be removed from pandas in a future version. Use pandas.concat instead.\n",
      "  df = df.append({\"Lr\":learning_rate,\n",
      "<ipython-input-22-89706fee0790>:18: FutureWarning: The frame.append method is deprecated and will be removed from pandas in a future version. Use pandas.concat instead.\n",
      "  df = df.append({\"Lr\":learning_rate,\n",
      "<ipython-input-22-89706fee0790>:18: FutureWarning: The frame.append method is deprecated and will be removed from pandas in a future version. Use pandas.concat instead.\n",
      "  df = df.append({\"Lr\":learning_rate,\n"
     ]
    },
    {
     "data": {
      "text/html": [
       "\n",
       "  <div id=\"df-d04b5d83-34a2-482f-b4c3-89ad900d6ef5\" class=\"colab-df-container\">\n",
       "    <div>\n",
       "<style scoped>\n",
       "    .dataframe tbody tr th:only-of-type {\n",
       "        vertical-align: middle;\n",
       "    }\n",
       "\n",
       "    .dataframe tbody tr th {\n",
       "        vertical-align: top;\n",
       "    }\n",
       "\n",
       "    .dataframe thead th {\n",
       "        text-align: right;\n",
       "    }\n",
       "</style>\n",
       "<table border=\"1\" class=\"dataframe\">\n",
       "  <thead>\n",
       "    <tr style=\"text-align: right;\">\n",
       "      <th></th>\n",
       "      <th>Lr</th>\n",
       "      <th>epoch</th>\n",
       "      <th>train_loss</th>\n",
       "      <th>train_accu</th>\n",
       "      <th>valid_loss</th>\n",
       "      <th>valid_accu</th>\n",
       "      <th>model</th>\n",
       "    </tr>\n",
       "  </thead>\n",
       "  <tbody>\n",
       "    <tr>\n",
       "      <th>0</th>\n",
       "      <td>0.100</td>\n",
       "      <td>0</td>\n",
       "      <td>0.000000</td>\n",
       "      <td>1.0</td>\n",
       "      <td>156.053436</td>\n",
       "      <td>0.0</td>\n",
       "      <td>SinDropout</td>\n",
       "    </tr>\n",
       "    <tr>\n",
       "      <th>1</th>\n",
       "      <td>0.100</td>\n",
       "      <td>1</td>\n",
       "      <td>0.000000</td>\n",
       "      <td>1.0</td>\n",
       "      <td>417.346313</td>\n",
       "      <td>0.0</td>\n",
       "      <td>SinDropout</td>\n",
       "    </tr>\n",
       "    <tr>\n",
       "      <th>2</th>\n",
       "      <td>0.100</td>\n",
       "      <td>2</td>\n",
       "      <td>0.000000</td>\n",
       "      <td>1.0</td>\n",
       "      <td>705.570679</td>\n",
       "      <td>0.0</td>\n",
       "      <td>SinDropout</td>\n",
       "    </tr>\n",
       "    <tr>\n",
       "      <th>3</th>\n",
       "      <td>0.100</td>\n",
       "      <td>3</td>\n",
       "      <td>0.000000</td>\n",
       "      <td>1.0</td>\n",
       "      <td>997.696838</td>\n",
       "      <td>0.0</td>\n",
       "      <td>SinDropout</td>\n",
       "    </tr>\n",
       "    <tr>\n",
       "      <th>4</th>\n",
       "      <td>0.100</td>\n",
       "      <td>4</td>\n",
       "      <td>0.000000</td>\n",
       "      <td>1.0</td>\n",
       "      <td>1283.959473</td>\n",
       "      <td>0.0</td>\n",
       "      <td>SinDropout</td>\n",
       "    </tr>\n",
       "    <tr>\n",
       "      <th>...</th>\n",
       "      <td>...</td>\n",
       "      <td>...</td>\n",
       "      <td>...</td>\n",
       "      <td>...</td>\n",
       "      <td>...</td>\n",
       "      <td>...</td>\n",
       "      <td>...</td>\n",
       "    </tr>\n",
       "    <tr>\n",
       "      <th>115</th>\n",
       "      <td>0.001</td>\n",
       "      <td>35</td>\n",
       "      <td>0.000033</td>\n",
       "      <td>1.0</td>\n",
       "      <td>7.914913</td>\n",
       "      <td>0.0</td>\n",
       "      <td>SinDropout</td>\n",
       "    </tr>\n",
       "    <tr>\n",
       "      <th>116</th>\n",
       "      <td>0.001</td>\n",
       "      <td>36</td>\n",
       "      <td>0.000031</td>\n",
       "      <td>1.0</td>\n",
       "      <td>7.963677</td>\n",
       "      <td>0.0</td>\n",
       "      <td>SinDropout</td>\n",
       "    </tr>\n",
       "    <tr>\n",
       "      <th>117</th>\n",
       "      <td>0.001</td>\n",
       "      <td>37</td>\n",
       "      <td>0.000029</td>\n",
       "      <td>1.0</td>\n",
       "      <td>8.008231</td>\n",
       "      <td>0.0</td>\n",
       "      <td>SinDropout</td>\n",
       "    </tr>\n",
       "    <tr>\n",
       "      <th>118</th>\n",
       "      <td>0.001</td>\n",
       "      <td>38</td>\n",
       "      <td>0.000027</td>\n",
       "      <td>1.0</td>\n",
       "      <td>8.048924</td>\n",
       "      <td>0.0</td>\n",
       "      <td>SinDropout</td>\n",
       "    </tr>\n",
       "    <tr>\n",
       "      <th>119</th>\n",
       "      <td>0.001</td>\n",
       "      <td>39</td>\n",
       "      <td>0.000025</td>\n",
       "      <td>1.0</td>\n",
       "      <td>8.086091</td>\n",
       "      <td>0.0</td>\n",
       "      <td>SinDropout</td>\n",
       "    </tr>\n",
       "  </tbody>\n",
       "</table>\n",
       "<p>120 rows × 7 columns</p>\n",
       "</div>\n",
       "    <div class=\"colab-df-buttons\">\n",
       "\n",
       "  <div class=\"colab-df-container\">\n",
       "    <button class=\"colab-df-convert\" onclick=\"convertToInteractive('df-d04b5d83-34a2-482f-b4c3-89ad900d6ef5')\"\n",
       "            title=\"Convert this dataframe to an interactive table.\"\n",
       "            style=\"display:none;\">\n",
       "\n",
       "  <svg xmlns=\"http://www.w3.org/2000/svg\" height=\"24px\" viewBox=\"0 -960 960 960\">\n",
       "    <path d=\"M120-120v-720h720v720H120Zm60-500h600v-160H180v160Zm220 220h160v-160H400v160Zm0 220h160v-160H400v160ZM180-400h160v-160H180v160Zm440 0h160v-160H620v160ZM180-180h160v-160H180v160Zm440 0h160v-160H620v160Z\"/>\n",
       "  </svg>\n",
       "    </button>\n",
       "\n",
       "  <style>\n",
       "    .colab-df-container {\n",
       "      display:flex;\n",
       "      gap: 12px;\n",
       "    }\n",
       "\n",
       "    .colab-df-convert {\n",
       "      background-color: #E8F0FE;\n",
       "      border: none;\n",
       "      border-radius: 50%;\n",
       "      cursor: pointer;\n",
       "      display: none;\n",
       "      fill: #1967D2;\n",
       "      height: 32px;\n",
       "      padding: 0 0 0 0;\n",
       "      width: 32px;\n",
       "    }\n",
       "\n",
       "    .colab-df-convert:hover {\n",
       "      background-color: #E2EBFA;\n",
       "      box-shadow: 0px 1px 2px rgba(60, 64, 67, 0.3), 0px 1px 3px 1px rgba(60, 64, 67, 0.15);\n",
       "      fill: #174EA6;\n",
       "    }\n",
       "\n",
       "    .colab-df-buttons div {\n",
       "      margin-bottom: 4px;\n",
       "    }\n",
       "\n",
       "    [theme=dark] .colab-df-convert {\n",
       "      background-color: #3B4455;\n",
       "      fill: #D2E3FC;\n",
       "    }\n",
       "\n",
       "    [theme=dark] .colab-df-convert:hover {\n",
       "      background-color: #434B5C;\n",
       "      box-shadow: 0px 1px 3px 1px rgba(0, 0, 0, 0.15);\n",
       "      filter: drop-shadow(0px 1px 2px rgba(0, 0, 0, 0.3));\n",
       "      fill: #FFFFFF;\n",
       "    }\n",
       "  </style>\n",
       "\n",
       "    <script>\n",
       "      const buttonEl =\n",
       "        document.querySelector('#df-d04b5d83-34a2-482f-b4c3-89ad900d6ef5 button.colab-df-convert');\n",
       "      buttonEl.style.display =\n",
       "        google.colab.kernel.accessAllowed ? 'block' : 'none';\n",
       "\n",
       "      async function convertToInteractive(key) {\n",
       "        const element = document.querySelector('#df-d04b5d83-34a2-482f-b4c3-89ad900d6ef5');\n",
       "        const dataTable =\n",
       "          await google.colab.kernel.invokeFunction('convertToInteractive',\n",
       "                                                    [key], {});\n",
       "        if (!dataTable) return;\n",
       "\n",
       "        const docLinkHtml = 'Like what you see? Visit the ' +\n",
       "          '<a target=\"_blank\" href=https://colab.research.google.com/notebooks/data_table.ipynb>data table notebook</a>'\n",
       "          + ' to learn more about interactive tables.';\n",
       "        element.innerHTML = '';\n",
       "        dataTable['output_type'] = 'display_data';\n",
       "        await google.colab.output.renderOutput(dataTable, element);\n",
       "        const docLink = document.createElement('div');\n",
       "        docLink.innerHTML = docLinkHtml;\n",
       "        element.appendChild(docLink);\n",
       "      }\n",
       "    </script>\n",
       "  </div>\n",
       "\n",
       "\n",
       "<div id=\"df-03f7a358-c4d1-48c3-9fa5-dcd6af25c97d\">\n",
       "  <button class=\"colab-df-quickchart\" onclick=\"quickchart('df-03f7a358-c4d1-48c3-9fa5-dcd6af25c97d')\"\n",
       "            title=\"Suggest charts.\"\n",
       "            style=\"display:none;\">\n",
       "\n",
       "<svg xmlns=\"http://www.w3.org/2000/svg\" height=\"24px\"viewBox=\"0 0 24 24\"\n",
       "     width=\"24px\">\n",
       "    <g>\n",
       "        <path d=\"M19 3H5c-1.1 0-2 .9-2 2v14c0 1.1.9 2 2 2h14c1.1 0 2-.9 2-2V5c0-1.1-.9-2-2-2zM9 17H7v-7h2v7zm4 0h-2V7h2v10zm4 0h-2v-4h2v4z\"/>\n",
       "    </g>\n",
       "</svg>\n",
       "  </button>\n",
       "\n",
       "<style>\n",
       "  .colab-df-quickchart {\n",
       "      --bg-color: #E8F0FE;\n",
       "      --fill-color: #1967D2;\n",
       "      --hover-bg-color: #E2EBFA;\n",
       "      --hover-fill-color: #174EA6;\n",
       "      --disabled-fill-color: #AAA;\n",
       "      --disabled-bg-color: #DDD;\n",
       "  }\n",
       "\n",
       "  [theme=dark] .colab-df-quickchart {\n",
       "      --bg-color: #3B4455;\n",
       "      --fill-color: #D2E3FC;\n",
       "      --hover-bg-color: #434B5C;\n",
       "      --hover-fill-color: #FFFFFF;\n",
       "      --disabled-bg-color: #3B4455;\n",
       "      --disabled-fill-color: #666;\n",
       "  }\n",
       "\n",
       "  .colab-df-quickchart {\n",
       "    background-color: var(--bg-color);\n",
       "    border: none;\n",
       "    border-radius: 50%;\n",
       "    cursor: pointer;\n",
       "    display: none;\n",
       "    fill: var(--fill-color);\n",
       "    height: 32px;\n",
       "    padding: 0;\n",
       "    width: 32px;\n",
       "  }\n",
       "\n",
       "  .colab-df-quickchart:hover {\n",
       "    background-color: var(--hover-bg-color);\n",
       "    box-shadow: 0 1px 2px rgba(60, 64, 67, 0.3), 0 1px 3px 1px rgba(60, 64, 67, 0.15);\n",
       "    fill: var(--button-hover-fill-color);\n",
       "  }\n",
       "\n",
       "  .colab-df-quickchart-complete:disabled,\n",
       "  .colab-df-quickchart-complete:disabled:hover {\n",
       "    background-color: var(--disabled-bg-color);\n",
       "    fill: var(--disabled-fill-color);\n",
       "    box-shadow: none;\n",
       "  }\n",
       "\n",
       "  .colab-df-spinner {\n",
       "    border: 2px solid var(--fill-color);\n",
       "    border-color: transparent;\n",
       "    border-bottom-color: var(--fill-color);\n",
       "    animation:\n",
       "      spin 1s steps(1) infinite;\n",
       "  }\n",
       "\n",
       "  @keyframes spin {\n",
       "    0% {\n",
       "      border-color: transparent;\n",
       "      border-bottom-color: var(--fill-color);\n",
       "      border-left-color: var(--fill-color);\n",
       "    }\n",
       "    20% {\n",
       "      border-color: transparent;\n",
       "      border-left-color: var(--fill-color);\n",
       "      border-top-color: var(--fill-color);\n",
       "    }\n",
       "    30% {\n",
       "      border-color: transparent;\n",
       "      border-left-color: var(--fill-color);\n",
       "      border-top-color: var(--fill-color);\n",
       "      border-right-color: var(--fill-color);\n",
       "    }\n",
       "    40% {\n",
       "      border-color: transparent;\n",
       "      border-right-color: var(--fill-color);\n",
       "      border-top-color: var(--fill-color);\n",
       "    }\n",
       "    60% {\n",
       "      border-color: transparent;\n",
       "      border-right-color: var(--fill-color);\n",
       "    }\n",
       "    80% {\n",
       "      border-color: transparent;\n",
       "      border-right-color: var(--fill-color);\n",
       "      border-bottom-color: var(--fill-color);\n",
       "    }\n",
       "    90% {\n",
       "      border-color: transparent;\n",
       "      border-bottom-color: var(--fill-color);\n",
       "    }\n",
       "  }\n",
       "</style>\n",
       "\n",
       "  <script>\n",
       "    async function quickchart(key) {\n",
       "      const quickchartButtonEl =\n",
       "        document.querySelector('#' + key + ' button');\n",
       "      quickchartButtonEl.disabled = true;  // To prevent multiple clicks.\n",
       "      quickchartButtonEl.classList.add('colab-df-spinner');\n",
       "      try {\n",
       "        const charts = await google.colab.kernel.invokeFunction(\n",
       "            'suggestCharts', [key], {});\n",
       "      } catch (error) {\n",
       "        console.error('Error during call to suggestCharts:', error);\n",
       "      }\n",
       "      quickchartButtonEl.classList.remove('colab-df-spinner');\n",
       "      quickchartButtonEl.classList.add('colab-df-quickchart-complete');\n",
       "    }\n",
       "    (() => {\n",
       "      let quickchartButtonEl =\n",
       "        document.querySelector('#df-03f7a358-c4d1-48c3-9fa5-dcd6af25c97d button');\n",
       "      quickchartButtonEl.style.display =\n",
       "        google.colab.kernel.accessAllowed ? 'block' : 'none';\n",
       "    })();\n",
       "  </script>\n",
       "</div>\n",
       "    </div>\n",
       "  </div>\n"
      ],
      "text/plain": [
       "        Lr  epoch  train_loss  train_accu   valid_loss  valid_accu       model\n",
       "0    0.100      0    0.000000         1.0   156.053436         0.0  SinDropout\n",
       "1    0.100      1    0.000000         1.0   417.346313         0.0  SinDropout\n",
       "2    0.100      2    0.000000         1.0   705.570679         0.0  SinDropout\n",
       "3    0.100      3    0.000000         1.0   997.696838         0.0  SinDropout\n",
       "4    0.100      4    0.000000         1.0  1283.959473         0.0  SinDropout\n",
       "..     ...    ...         ...         ...          ...         ...         ...\n",
       "115  0.001     35    0.000033         1.0     7.914913         0.0  SinDropout\n",
       "116  0.001     36    0.000031         1.0     7.963677         0.0  SinDropout\n",
       "117  0.001     37    0.000029         1.0     8.008231         0.0  SinDropout\n",
       "118  0.001     38    0.000027         1.0     8.048924         0.0  SinDropout\n",
       "119  0.001     39    0.000025         1.0     8.086091         0.0  SinDropout\n",
       "\n",
       "[120 rows x 7 columns]"
      ]
     },
     "execution_count": 38,
     "metadata": {},
     "output_type": "execute_result"
    }
   ],
   "source": [
    "df_prueba = pd.DataFrame()\n",
    "\n",
    "%time  train_validation(Net(512),train_ejemplo_loader,val_ejemplo_loader,df_prueba)"
   ]
  },
  {
   "cell_type": "code",
   "execution_count": null,
   "id": "rKiVYaZxMj2r",
   "metadata": {
    "colab": {
     "base_uri": "https://localhost:8080/",
     "height": 1000
    },
    "id": "rKiVYaZxMj2r",
    "outputId": "61a4ef18-3261-44dd-dda9-7275f8f6449c"
   },
   "outputs": [
    {
     "name": "stdout",
     "output_type": "stream",
     "text": [
      "lr=0.1 epoch=0 train_loss=0.0 train_accu=1.0 valid_loss=145.8842010498047 valid_accu=0.0\n",
      "lr=0.1 epoch=1 train_loss=0.0 train_accu=1.0 valid_loss=390.67779541015625 valid_accu=0.0\n",
      "lr=0.1 epoch=2 train_loss=0.0 train_accu=1.0 valid_loss=660.8665771484375 valid_accu=0.0\n",
      "lr=0.1 epoch=3 train_loss=0.0 train_accu=1.0 valid_loss=934.787841796875 valid_accu=0.0\n",
      "lr=0.1 epoch=4 train_loss=0.0 train_accu=1.0 valid_loss=1203.253173828125 valid_accu=0.0\n",
      "lr=0.1 epoch=5 train_loss=0.0 train_accu=1.0 valid_loss=1461.7874755859375 valid_accu=0.0\n",
      "lr=0.1 epoch=6 train_loss=0.0 train_accu=1.0 valid_loss=1708.128662109375 valid_accu=0.0\n",
      "lr=0.1 epoch=7 train_loss=0.0 train_accu=1.0 valid_loss=1941.19287109375 valid_accu=0.0\n",
      "lr=0.1 epoch=8 train_loss=0.0 train_accu=1.0 valid_loss=2160.576416015625 valid_accu=0.0\n",
      "lr=0.1 epoch=9 train_loss=0.0 train_accu=1.0 valid_loss=2366.28662109375 valid_accu=0.0\n",
      "lr=0.1 epoch=10 train_loss=0.0 train_accu=1.0 valid_loss=2558.587646484375 valid_accu=0.0\n",
      "lr=0.1 epoch=11 train_loss=0.0 train_accu=1.0 valid_loss=2737.9052734375 valid_accu=0.0\n",
      "lr=0.1 epoch=12 train_loss=0.0 train_accu=1.0 valid_loss=2904.765380859375 valid_accu=0.0\n",
      "lr=0.1 epoch=13 train_loss=0.0 train_accu=1.0 valid_loss=3059.752685546875 valid_accu=0.0\n",
      "lr=0.1 epoch=14 train_loss=0.0 train_accu=1.0 valid_loss=3203.484619140625 valid_accu=0.0\n",
      "lr=0.1 epoch=15 train_loss=0.0 train_accu=1.0 valid_loss=3336.59130859375 valid_accu=0.0\n",
      "lr=0.1 epoch=16 train_loss=0.0 train_accu=1.0 valid_loss=3459.70263671875 valid_accu=0.0\n",
      "lr=0.1 epoch=17 train_loss=0.0 train_accu=1.0 valid_loss=3573.43798828125 valid_accu=0.0\n",
      "lr=0.1 epoch=18 train_loss=0.0 train_accu=1.0 valid_loss=3678.400634765625 valid_accu=0.0\n"
     ]
    },
    {
     "name": "stderr",
     "output_type": "stream",
     "text": [
      "<ipython-input-153-9c7d2f14ce03>:18: FutureWarning: The frame.append method is deprecated and will be removed from pandas in a future version. Use pandas.concat instead.\n",
      "  df = df.append({\"Lr\":learning_rate,\n",
      "<ipython-input-153-9c7d2f14ce03>:18: FutureWarning: The frame.append method is deprecated and will be removed from pandas in a future version. Use pandas.concat instead.\n",
      "  df = df.append({\"Lr\":learning_rate,\n",
      "<ipython-input-153-9c7d2f14ce03>:18: FutureWarning: The frame.append method is deprecated and will be removed from pandas in a future version. Use pandas.concat instead.\n",
      "  df = df.append({\"Lr\":learning_rate,\n",
      "<ipython-input-153-9c7d2f14ce03>:18: FutureWarning: The frame.append method is deprecated and will be removed from pandas in a future version. Use pandas.concat instead.\n",
      "  df = df.append({\"Lr\":learning_rate,\n",
      "<ipython-input-153-9c7d2f14ce03>:18: FutureWarning: The frame.append method is deprecated and will be removed from pandas in a future version. Use pandas.concat instead.\n",
      "  df = df.append({\"Lr\":learning_rate,\n",
      "<ipython-input-153-9c7d2f14ce03>:18: FutureWarning: The frame.append method is deprecated and will be removed from pandas in a future version. Use pandas.concat instead.\n",
      "  df = df.append({\"Lr\":learning_rate,\n",
      "<ipython-input-153-9c7d2f14ce03>:18: FutureWarning: The frame.append method is deprecated and will be removed from pandas in a future version. Use pandas.concat instead.\n",
      "  df = df.append({\"Lr\":learning_rate,\n",
      "<ipython-input-153-9c7d2f14ce03>:18: FutureWarning: The frame.append method is deprecated and will be removed from pandas in a future version. Use pandas.concat instead.\n",
      "  df = df.append({\"Lr\":learning_rate,\n",
      "<ipython-input-153-9c7d2f14ce03>:18: FutureWarning: The frame.append method is deprecated and will be removed from pandas in a future version. Use pandas.concat instead.\n",
      "  df = df.append({\"Lr\":learning_rate,\n",
      "<ipython-input-153-9c7d2f14ce03>:18: FutureWarning: The frame.append method is deprecated and will be removed from pandas in a future version. Use pandas.concat instead.\n",
      "  df = df.append({\"Lr\":learning_rate,\n",
      "<ipython-input-153-9c7d2f14ce03>:18: FutureWarning: The frame.append method is deprecated and will be removed from pandas in a future version. Use pandas.concat instead.\n",
      "  df = df.append({\"Lr\":learning_rate,\n",
      "<ipython-input-153-9c7d2f14ce03>:18: FutureWarning: The frame.append method is deprecated and will be removed from pandas in a future version. Use pandas.concat instead.\n",
      "  df = df.append({\"Lr\":learning_rate,\n",
      "<ipython-input-153-9c7d2f14ce03>:18: FutureWarning: The frame.append method is deprecated and will be removed from pandas in a future version. Use pandas.concat instead.\n",
      "  df = df.append({\"Lr\":learning_rate,\n",
      "<ipython-input-153-9c7d2f14ce03>:18: FutureWarning: The frame.append method is deprecated and will be removed from pandas in a future version. Use pandas.concat instead.\n",
      "  df = df.append({\"Lr\":learning_rate,\n",
      "<ipython-input-153-9c7d2f14ce03>:18: FutureWarning: The frame.append method is deprecated and will be removed from pandas in a future version. Use pandas.concat instead.\n",
      "  df = df.append({\"Lr\":learning_rate,\n",
      "<ipython-input-153-9c7d2f14ce03>:18: FutureWarning: The frame.append method is deprecated and will be removed from pandas in a future version. Use pandas.concat instead.\n",
      "  df = df.append({\"Lr\":learning_rate,\n",
      "<ipython-input-153-9c7d2f14ce03>:18: FutureWarning: The frame.append method is deprecated and will be removed from pandas in a future version. Use pandas.concat instead.\n",
      "  df = df.append({\"Lr\":learning_rate,\n",
      "<ipython-input-153-9c7d2f14ce03>:18: FutureWarning: The frame.append method is deprecated and will be removed from pandas in a future version. Use pandas.concat instead.\n",
      "  df = df.append({\"Lr\":learning_rate,\n",
      "<ipython-input-153-9c7d2f14ce03>:18: FutureWarning: The frame.append method is deprecated and will be removed from pandas in a future version. Use pandas.concat instead.\n",
      "  df = df.append({\"Lr\":learning_rate,\n"
     ]
    },
    {
     "name": "stdout",
     "output_type": "stream",
     "text": [
      "lr=0.1 epoch=19 train_loss=0.0 train_accu=1.0 valid_loss=3775.174072265625 valid_accu=0.0\n",
      "lr=0.1 epoch=20 train_loss=0.0 train_accu=1.0 valid_loss=3864.31640625 valid_accu=0.0\n",
      "lr=0.1 epoch=21 train_loss=0.0 train_accu=1.0 valid_loss=3946.3603515625 valid_accu=0.0\n",
      "lr=0.1 epoch=22 train_loss=0.0 train_accu=1.0 valid_loss=4021.811767578125 valid_accu=0.0\n",
      "lr=0.1 epoch=23 train_loss=0.0 train_accu=1.0 valid_loss=4091.14892578125 valid_accu=0.0\n",
      "lr=0.1 epoch=24 train_loss=0.0 train_accu=1.0 valid_loss=4154.82373046875 valid_accu=0.0\n",
      "lr=0.1 epoch=25 train_loss=0.0 train_accu=1.0 valid_loss=4213.259765625 valid_accu=0.0\n",
      "lr=0.1 epoch=26 train_loss=0.0 train_accu=1.0 valid_loss=4266.85546875 valid_accu=0.0\n",
      "lr=0.1 epoch=27 train_loss=0.0 train_accu=1.0 valid_loss=4315.98193359375 valid_accu=0.0\n",
      "lr=0.1 epoch=28 train_loss=0.0 train_accu=1.0 valid_loss=4360.98779296875 valid_accu=0.0\n",
      "lr=0.1 epoch=29 train_loss=0.0 train_accu=1.0 valid_loss=4402.1953125 valid_accu=0.0\n",
      "lr=0.1 epoch=30 train_loss=0.0 train_accu=1.0 valid_loss=4439.908203125 valid_accu=0.0\n",
      "lr=0.1 epoch=31 train_loss=0.0 train_accu=1.0 valid_loss=4474.4052734375 valid_accu=0.0\n",
      "lr=0.1 epoch=32 train_loss=0.0 train_accu=1.0 valid_loss=4505.94580078125 valid_accu=0.0\n",
      "lr=0.1 epoch=33 train_loss=0.0 train_accu=1.0 valid_loss=4534.771484375 valid_accu=0.0\n",
      "lr=0.1 epoch=34 train_loss=0.0 train_accu=1.0 valid_loss=4561.10498046875 valid_accu=0.0\n",
      "lr=0.1 epoch=35 train_loss=0.0 train_accu=1.0 valid_loss=4585.15234375 valid_accu=0.0\n",
      "lr=0.1 epoch=36 train_loss=0.0 train_accu=1.0 valid_loss=4607.1025390625 valid_accu=0.0\n",
      "lr=0.1 epoch=37 train_loss=0.0 train_accu=1.0 valid_loss=4627.1328125 valid_accu=0.0\n"
     ]
    },
    {
     "name": "stderr",
     "output_type": "stream",
     "text": [
      "<ipython-input-153-9c7d2f14ce03>:18: FutureWarning: The frame.append method is deprecated and will be removed from pandas in a future version. Use pandas.concat instead.\n",
      "  df = df.append({\"Lr\":learning_rate,\n",
      "<ipython-input-153-9c7d2f14ce03>:18: FutureWarning: The frame.append method is deprecated and will be removed from pandas in a future version. Use pandas.concat instead.\n",
      "  df = df.append({\"Lr\":learning_rate,\n",
      "<ipython-input-153-9c7d2f14ce03>:18: FutureWarning: The frame.append method is deprecated and will be removed from pandas in a future version. Use pandas.concat instead.\n",
      "  df = df.append({\"Lr\":learning_rate,\n",
      "<ipython-input-153-9c7d2f14ce03>:18: FutureWarning: The frame.append method is deprecated and will be removed from pandas in a future version. Use pandas.concat instead.\n",
      "  df = df.append({\"Lr\":learning_rate,\n",
      "<ipython-input-153-9c7d2f14ce03>:18: FutureWarning: The frame.append method is deprecated and will be removed from pandas in a future version. Use pandas.concat instead.\n",
      "  df = df.append({\"Lr\":learning_rate,\n",
      "<ipython-input-153-9c7d2f14ce03>:18: FutureWarning: The frame.append method is deprecated and will be removed from pandas in a future version. Use pandas.concat instead.\n",
      "  df = df.append({\"Lr\":learning_rate,\n",
      "<ipython-input-153-9c7d2f14ce03>:18: FutureWarning: The frame.append method is deprecated and will be removed from pandas in a future version. Use pandas.concat instead.\n",
      "  df = df.append({\"Lr\":learning_rate,\n",
      "<ipython-input-153-9c7d2f14ce03>:18: FutureWarning: The frame.append method is deprecated and will be removed from pandas in a future version. Use pandas.concat instead.\n",
      "  df = df.append({\"Lr\":learning_rate,\n",
      "<ipython-input-153-9c7d2f14ce03>:18: FutureWarning: The frame.append method is deprecated and will be removed from pandas in a future version. Use pandas.concat instead.\n",
      "  df = df.append({\"Lr\":learning_rate,\n",
      "<ipython-input-153-9c7d2f14ce03>:18: FutureWarning: The frame.append method is deprecated and will be removed from pandas in a future version. Use pandas.concat instead.\n",
      "  df = df.append({\"Lr\":learning_rate,\n",
      "<ipython-input-153-9c7d2f14ce03>:18: FutureWarning: The frame.append method is deprecated and will be removed from pandas in a future version. Use pandas.concat instead.\n",
      "  df = df.append({\"Lr\":learning_rate,\n",
      "<ipython-input-153-9c7d2f14ce03>:18: FutureWarning: The frame.append method is deprecated and will be removed from pandas in a future version. Use pandas.concat instead.\n",
      "  df = df.append({\"Lr\":learning_rate,\n",
      "<ipython-input-153-9c7d2f14ce03>:18: FutureWarning: The frame.append method is deprecated and will be removed from pandas in a future version. Use pandas.concat instead.\n",
      "  df = df.append({\"Lr\":learning_rate,\n",
      "<ipython-input-153-9c7d2f14ce03>:18: FutureWarning: The frame.append method is deprecated and will be removed from pandas in a future version. Use pandas.concat instead.\n",
      "  df = df.append({\"Lr\":learning_rate,\n",
      "<ipython-input-153-9c7d2f14ce03>:18: FutureWarning: The frame.append method is deprecated and will be removed from pandas in a future version. Use pandas.concat instead.\n",
      "  df = df.append({\"Lr\":learning_rate,\n",
      "<ipython-input-153-9c7d2f14ce03>:18: FutureWarning: The frame.append method is deprecated and will be removed from pandas in a future version. Use pandas.concat instead.\n",
      "  df = df.append({\"Lr\":learning_rate,\n",
      "<ipython-input-153-9c7d2f14ce03>:18: FutureWarning: The frame.append method is deprecated and will be removed from pandas in a future version. Use pandas.concat instead.\n",
      "  df = df.append({\"Lr\":learning_rate,\n",
      "<ipython-input-153-9c7d2f14ce03>:18: FutureWarning: The frame.append method is deprecated and will be removed from pandas in a future version. Use pandas.concat instead.\n",
      "  df = df.append({\"Lr\":learning_rate,\n",
      "<ipython-input-153-9c7d2f14ce03>:18: FutureWarning: The frame.append method is deprecated and will be removed from pandas in a future version. Use pandas.concat instead.\n",
      "  df = df.append({\"Lr\":learning_rate,\n"
     ]
    },
    {
     "name": "stdout",
     "output_type": "stream",
     "text": [
      "lr=0.1 epoch=38 train_loss=0.0 train_accu=1.0 valid_loss=4645.404296875 valid_accu=0.0\n",
      "lr=0.1 epoch=39 train_loss=0.0 train_accu=1.0 valid_loss=4662.0654296875 valid_accu=0.0\n",
      "lr=0.01 epoch=0 train_loss=0.0 train_accu=1.0 valid_loss=4662.0654296875 valid_accu=0.0\n",
      "lr=0.01 epoch=1 train_loss=0.0 train_accu=1.0 valid_loss=4662.0654296875 valid_accu=0.0\n",
      "lr=0.01 epoch=2 train_loss=0.0 train_accu=1.0 valid_loss=4662.0654296875 valid_accu=0.0\n",
      "lr=0.01 epoch=3 train_loss=0.0 train_accu=1.0 valid_loss=4662.0654296875 valid_accu=0.0\n",
      "lr=0.01 epoch=4 train_loss=0.0 train_accu=1.0 valid_loss=4662.0654296875 valid_accu=0.0\n",
      "lr=0.01 epoch=5 train_loss=0.0 train_accu=1.0 valid_loss=4662.0654296875 valid_accu=0.0\n",
      "lr=0.01 epoch=6 train_loss=0.0 train_accu=1.0 valid_loss=4662.0654296875 valid_accu=0.0\n",
      "lr=0.01 epoch=7 train_loss=0.0 train_accu=1.0 valid_loss=4662.0654296875 valid_accu=0.0\n",
      "lr=0.01 epoch=8 train_loss=0.0 train_accu=1.0 valid_loss=4662.0654296875 valid_accu=0.0\n",
      "lr=0.01 epoch=9 train_loss=0.0 train_accu=1.0 valid_loss=4662.0654296875 valid_accu=0.0\n",
      "lr=0.01 epoch=10 train_loss=0.0 train_accu=1.0 valid_loss=4662.0654296875 valid_accu=0.0\n",
      "lr=0.01 epoch=11 train_loss=0.0 train_accu=1.0 valid_loss=4662.0654296875 valid_accu=0.0\n",
      "lr=0.01 epoch=12 train_loss=0.0 train_accu=1.0 valid_loss=4662.0654296875 valid_accu=0.0\n",
      "lr=0.01 epoch=13 train_loss=0.0 train_accu=1.0 valid_loss=4662.0654296875 valid_accu=0.0\n",
      "lr=0.01 epoch=14 train_loss=0.0 train_accu=1.0 valid_loss=4662.0654296875 valid_accu=0.0\n",
      "lr=0.01 epoch=15 train_loss=0.0 train_accu=1.0 valid_loss=4662.0654296875 valid_accu=0.0\n",
      "lr=0.01 epoch=16 train_loss=0.0 train_accu=1.0 valid_loss=4662.0654296875 valid_accu=0.0\n",
      "lr=0.01 epoch=17 train_loss=0.0 train_accu=1.0 valid_loss=4662.0654296875 valid_accu=0.0\n"
     ]
    },
    {
     "name": "stderr",
     "output_type": "stream",
     "text": [
      "<ipython-input-153-9c7d2f14ce03>:18: FutureWarning: The frame.append method is deprecated and will be removed from pandas in a future version. Use pandas.concat instead.\n",
      "  df = df.append({\"Lr\":learning_rate,\n",
      "<ipython-input-153-9c7d2f14ce03>:18: FutureWarning: The frame.append method is deprecated and will be removed from pandas in a future version. Use pandas.concat instead.\n",
      "  df = df.append({\"Lr\":learning_rate,\n",
      "<ipython-input-153-9c7d2f14ce03>:18: FutureWarning: The frame.append method is deprecated and will be removed from pandas in a future version. Use pandas.concat instead.\n",
      "  df = df.append({\"Lr\":learning_rate,\n",
      "<ipython-input-153-9c7d2f14ce03>:18: FutureWarning: The frame.append method is deprecated and will be removed from pandas in a future version. Use pandas.concat instead.\n",
      "  df = df.append({\"Lr\":learning_rate,\n",
      "<ipython-input-153-9c7d2f14ce03>:18: FutureWarning: The frame.append method is deprecated and will be removed from pandas in a future version. Use pandas.concat instead.\n",
      "  df = df.append({\"Lr\":learning_rate,\n",
      "<ipython-input-153-9c7d2f14ce03>:18: FutureWarning: The frame.append method is deprecated and will be removed from pandas in a future version. Use pandas.concat instead.\n",
      "  df = df.append({\"Lr\":learning_rate,\n",
      "<ipython-input-153-9c7d2f14ce03>:18: FutureWarning: The frame.append method is deprecated and will be removed from pandas in a future version. Use pandas.concat instead.\n",
      "  df = df.append({\"Lr\":learning_rate,\n",
      "<ipython-input-153-9c7d2f14ce03>:18: FutureWarning: The frame.append method is deprecated and will be removed from pandas in a future version. Use pandas.concat instead.\n",
      "  df = df.append({\"Lr\":learning_rate,\n",
      "<ipython-input-153-9c7d2f14ce03>:18: FutureWarning: The frame.append method is deprecated and will be removed from pandas in a future version. Use pandas.concat instead.\n",
      "  df = df.append({\"Lr\":learning_rate,\n",
      "<ipython-input-153-9c7d2f14ce03>:18: FutureWarning: The frame.append method is deprecated and will be removed from pandas in a future version. Use pandas.concat instead.\n",
      "  df = df.append({\"Lr\":learning_rate,\n",
      "<ipython-input-153-9c7d2f14ce03>:18: FutureWarning: The frame.append method is deprecated and will be removed from pandas in a future version. Use pandas.concat instead.\n",
      "  df = df.append({\"Lr\":learning_rate,\n",
      "<ipython-input-153-9c7d2f14ce03>:18: FutureWarning: The frame.append method is deprecated and will be removed from pandas in a future version. Use pandas.concat instead.\n",
      "  df = df.append({\"Lr\":learning_rate,\n",
      "<ipython-input-153-9c7d2f14ce03>:18: FutureWarning: The frame.append method is deprecated and will be removed from pandas in a future version. Use pandas.concat instead.\n",
      "  df = df.append({\"Lr\":learning_rate,\n",
      "<ipython-input-153-9c7d2f14ce03>:18: FutureWarning: The frame.append method is deprecated and will be removed from pandas in a future version. Use pandas.concat instead.\n",
      "  df = df.append({\"Lr\":learning_rate,\n",
      "<ipython-input-153-9c7d2f14ce03>:18: FutureWarning: The frame.append method is deprecated and will be removed from pandas in a future version. Use pandas.concat instead.\n",
      "  df = df.append({\"Lr\":learning_rate,\n",
      "<ipython-input-153-9c7d2f14ce03>:18: FutureWarning: The frame.append method is deprecated and will be removed from pandas in a future version. Use pandas.concat instead.\n",
      "  df = df.append({\"Lr\":learning_rate,\n",
      "<ipython-input-153-9c7d2f14ce03>:18: FutureWarning: The frame.append method is deprecated and will be removed from pandas in a future version. Use pandas.concat instead.\n",
      "  df = df.append({\"Lr\":learning_rate,\n",
      "<ipython-input-153-9c7d2f14ce03>:18: FutureWarning: The frame.append method is deprecated and will be removed from pandas in a future version. Use pandas.concat instead.\n",
      "  df = df.append({\"Lr\":learning_rate,\n",
      "<ipython-input-153-9c7d2f14ce03>:18: FutureWarning: The frame.append method is deprecated and will be removed from pandas in a future version. Use pandas.concat instead.\n",
      "  df = df.append({\"Lr\":learning_rate,\n",
      "<ipython-input-153-9c7d2f14ce03>:18: FutureWarning: The frame.append method is deprecated and will be removed from pandas in a future version. Use pandas.concat instead.\n",
      "  df = df.append({\"Lr\":learning_rate,\n"
     ]
    },
    {
     "name": "stdout",
     "output_type": "stream",
     "text": [
      "lr=0.01 epoch=18 train_loss=0.0 train_accu=1.0 valid_loss=4662.0654296875 valid_accu=0.0\n",
      "lr=0.01 epoch=19 train_loss=0.0 train_accu=1.0 valid_loss=4662.0654296875 valid_accu=0.0\n",
      "lr=0.01 epoch=20 train_loss=0.0 train_accu=1.0 valid_loss=4662.0654296875 valid_accu=0.0\n",
      "lr=0.01 epoch=21 train_loss=0.0 train_accu=1.0 valid_loss=4662.0654296875 valid_accu=0.0\n",
      "lr=0.01 epoch=22 train_loss=0.0 train_accu=1.0 valid_loss=4662.0654296875 valid_accu=0.0\n",
      "lr=0.01 epoch=23 train_loss=0.0 train_accu=1.0 valid_loss=4662.0654296875 valid_accu=0.0\n",
      "lr=0.01 epoch=24 train_loss=0.0 train_accu=1.0 valid_loss=4662.0654296875 valid_accu=0.0\n",
      "lr=0.01 epoch=25 train_loss=0.0 train_accu=1.0 valid_loss=4662.0654296875 valid_accu=0.0\n",
      "lr=0.01 epoch=26 train_loss=0.0 train_accu=1.0 valid_loss=4662.0654296875 valid_accu=0.0\n",
      "lr=0.01 epoch=27 train_loss=0.0 train_accu=1.0 valid_loss=4662.0654296875 valid_accu=0.0\n",
      "lr=0.01 epoch=28 train_loss=0.0 train_accu=1.0 valid_loss=4662.0654296875 valid_accu=0.0\n",
      "lr=0.01 epoch=29 train_loss=0.0 train_accu=1.0 valid_loss=4662.0654296875 valid_accu=0.0\n",
      "lr=0.01 epoch=30 train_loss=0.0 train_accu=1.0 valid_loss=4662.0654296875 valid_accu=0.0\n",
      "lr=0.01 epoch=31 train_loss=0.0 train_accu=1.0 valid_loss=4662.0654296875 valid_accu=0.0\n",
      "lr=0.01 epoch=32 train_loss=0.0 train_accu=1.0 valid_loss=4662.0654296875 valid_accu=0.0\n",
      "lr=0.01 epoch=33 train_loss=0.0 train_accu=1.0 valid_loss=4662.0654296875 valid_accu=0.0\n",
      "lr=0.01 epoch=34 train_loss=0.0 train_accu=1.0 valid_loss=4662.0654296875 valid_accu=0.0\n",
      "lr=0.01 epoch=35 train_loss=0.0 train_accu=1.0 valid_loss=4662.0654296875 valid_accu=0.0\n",
      "lr=0.01 epoch=36 train_loss=0.0 train_accu=1.0 valid_loss=4662.0654296875 valid_accu=0.0\n",
      "lr=0.01 epoch=37 train_loss=0.0 train_accu=1.0 valid_loss=4662.0654296875 valid_accu=0.0\n"
     ]
    },
    {
     "name": "stderr",
     "output_type": "stream",
     "text": [
      "<ipython-input-153-9c7d2f14ce03>:18: FutureWarning: The frame.append method is deprecated and will be removed from pandas in a future version. Use pandas.concat instead.\n",
      "  df = df.append({\"Lr\":learning_rate,\n",
      "<ipython-input-153-9c7d2f14ce03>:18: FutureWarning: The frame.append method is deprecated and will be removed from pandas in a future version. Use pandas.concat instead.\n",
      "  df = df.append({\"Lr\":learning_rate,\n",
      "<ipython-input-153-9c7d2f14ce03>:18: FutureWarning: The frame.append method is deprecated and will be removed from pandas in a future version. Use pandas.concat instead.\n",
      "  df = df.append({\"Lr\":learning_rate,\n",
      "<ipython-input-153-9c7d2f14ce03>:18: FutureWarning: The frame.append method is deprecated and will be removed from pandas in a future version. Use pandas.concat instead.\n",
      "  df = df.append({\"Lr\":learning_rate,\n",
      "<ipython-input-153-9c7d2f14ce03>:18: FutureWarning: The frame.append method is deprecated and will be removed from pandas in a future version. Use pandas.concat instead.\n",
      "  df = df.append({\"Lr\":learning_rate,\n",
      "<ipython-input-153-9c7d2f14ce03>:18: FutureWarning: The frame.append method is deprecated and will be removed from pandas in a future version. Use pandas.concat instead.\n",
      "  df = df.append({\"Lr\":learning_rate,\n",
      "<ipython-input-153-9c7d2f14ce03>:18: FutureWarning: The frame.append method is deprecated and will be removed from pandas in a future version. Use pandas.concat instead.\n",
      "  df = df.append({\"Lr\":learning_rate,\n",
      "<ipython-input-153-9c7d2f14ce03>:18: FutureWarning: The frame.append method is deprecated and will be removed from pandas in a future version. Use pandas.concat instead.\n",
      "  df = df.append({\"Lr\":learning_rate,\n",
      "<ipython-input-153-9c7d2f14ce03>:18: FutureWarning: The frame.append method is deprecated and will be removed from pandas in a future version. Use pandas.concat instead.\n",
      "  df = df.append({\"Lr\":learning_rate,\n",
      "<ipython-input-153-9c7d2f14ce03>:18: FutureWarning: The frame.append method is deprecated and will be removed from pandas in a future version. Use pandas.concat instead.\n",
      "  df = df.append({\"Lr\":learning_rate,\n",
      "<ipython-input-153-9c7d2f14ce03>:18: FutureWarning: The frame.append method is deprecated and will be removed from pandas in a future version. Use pandas.concat instead.\n",
      "  df = df.append({\"Lr\":learning_rate,\n",
      "<ipython-input-153-9c7d2f14ce03>:18: FutureWarning: The frame.append method is deprecated and will be removed from pandas in a future version. Use pandas.concat instead.\n",
      "  df = df.append({\"Lr\":learning_rate,\n",
      "<ipython-input-153-9c7d2f14ce03>:18: FutureWarning: The frame.append method is deprecated and will be removed from pandas in a future version. Use pandas.concat instead.\n",
      "  df = df.append({\"Lr\":learning_rate,\n",
      "<ipython-input-153-9c7d2f14ce03>:18: FutureWarning: The frame.append method is deprecated and will be removed from pandas in a future version. Use pandas.concat instead.\n",
      "  df = df.append({\"Lr\":learning_rate,\n",
      "<ipython-input-153-9c7d2f14ce03>:18: FutureWarning: The frame.append method is deprecated and will be removed from pandas in a future version. Use pandas.concat instead.\n",
      "  df = df.append({\"Lr\":learning_rate,\n",
      "<ipython-input-153-9c7d2f14ce03>:18: FutureWarning: The frame.append method is deprecated and will be removed from pandas in a future version. Use pandas.concat instead.\n",
      "  df = df.append({\"Lr\":learning_rate,\n",
      "<ipython-input-153-9c7d2f14ce03>:18: FutureWarning: The frame.append method is deprecated and will be removed from pandas in a future version. Use pandas.concat instead.\n",
      "  df = df.append({\"Lr\":learning_rate,\n",
      "<ipython-input-153-9c7d2f14ce03>:18: FutureWarning: The frame.append method is deprecated and will be removed from pandas in a future version. Use pandas.concat instead.\n",
      "  df = df.append({\"Lr\":learning_rate,\n",
      "<ipython-input-153-9c7d2f14ce03>:18: FutureWarning: The frame.append method is deprecated and will be removed from pandas in a future version. Use pandas.concat instead.\n",
      "  df = df.append({\"Lr\":learning_rate,\n",
      "<ipython-input-153-9c7d2f14ce03>:18: FutureWarning: The frame.append method is deprecated and will be removed from pandas in a future version. Use pandas.concat instead.\n",
      "  df = df.append({\"Lr\":learning_rate,\n"
     ]
    },
    {
     "name": "stdout",
     "output_type": "stream",
     "text": [
      "lr=0.01 epoch=38 train_loss=0.0 train_accu=1.0 valid_loss=4662.0654296875 valid_accu=0.0\n",
      "lr=0.01 epoch=39 train_loss=0.0 train_accu=1.0 valid_loss=4662.0654296875 valid_accu=0.0\n",
      "lr=0.001 epoch=0 train_loss=0.0 train_accu=1.0 valid_loss=4662.0654296875 valid_accu=0.0\n",
      "lr=0.001 epoch=1 train_loss=0.0 train_accu=1.0 valid_loss=4662.0654296875 valid_accu=0.0\n",
      "lr=0.001 epoch=2 train_loss=0.0 train_accu=1.0 valid_loss=4662.0654296875 valid_accu=0.0\n",
      "lr=0.001 epoch=3 train_loss=0.0 train_accu=1.0 valid_loss=4662.0654296875 valid_accu=0.0\n",
      "lr=0.001 epoch=4 train_loss=0.0 train_accu=1.0 valid_loss=4662.0654296875 valid_accu=0.0\n",
      "lr=0.001 epoch=5 train_loss=0.0 train_accu=1.0 valid_loss=4662.0654296875 valid_accu=0.0\n",
      "lr=0.001 epoch=6 train_loss=0.0 train_accu=1.0 valid_loss=4662.0654296875 valid_accu=0.0\n",
      "lr=0.001 epoch=7 train_loss=0.0 train_accu=1.0 valid_loss=4662.0654296875 valid_accu=0.0\n",
      "lr=0.001 epoch=8 train_loss=0.0 train_accu=1.0 valid_loss=4662.0654296875 valid_accu=0.0\n",
      "lr=0.001 epoch=9 train_loss=0.0 train_accu=1.0 valid_loss=4662.0654296875 valid_accu=0.0\n",
      "lr=0.001 epoch=10 train_loss=0.0 train_accu=1.0 valid_loss=4662.0654296875 valid_accu=0.0\n",
      "lr=0.001 epoch=11 train_loss=0.0 train_accu=1.0 valid_loss=4662.0654296875 valid_accu=0.0\n",
      "lr=0.001 epoch=12 train_loss=0.0 train_accu=1.0 valid_loss=4662.0654296875 valid_accu=0.0\n",
      "lr=0.001 epoch=13 train_loss=0.0 train_accu=1.0 valid_loss=4662.0654296875 valid_accu=0.0\n",
      "lr=0.001 epoch=14 train_loss=0.0 train_accu=1.0 valid_loss=4662.0654296875 valid_accu=0.0\n",
      "lr=0.001 epoch=15 train_loss=0.0 train_accu=1.0 valid_loss=4662.0654296875 valid_accu=0.0\n",
      "lr=0.001 epoch=16 train_loss=0.0 train_accu=1.0 valid_loss=4662.0654296875 valid_accu=0.0\n",
      "lr=0.001 epoch=17 train_loss=0.0 train_accu=1.0 valid_loss=4662.0654296875 valid_accu=0.0\n"
     ]
    },
    {
     "name": "stderr",
     "output_type": "stream",
     "text": [
      "<ipython-input-153-9c7d2f14ce03>:18: FutureWarning: The frame.append method is deprecated and will be removed from pandas in a future version. Use pandas.concat instead.\n",
      "  df = df.append({\"Lr\":learning_rate,\n",
      "<ipython-input-153-9c7d2f14ce03>:18: FutureWarning: The frame.append method is deprecated and will be removed from pandas in a future version. Use pandas.concat instead.\n",
      "  df = df.append({\"Lr\":learning_rate,\n",
      "<ipython-input-153-9c7d2f14ce03>:18: FutureWarning: The frame.append method is deprecated and will be removed from pandas in a future version. Use pandas.concat instead.\n",
      "  df = df.append({\"Lr\":learning_rate,\n",
      "<ipython-input-153-9c7d2f14ce03>:18: FutureWarning: The frame.append method is deprecated and will be removed from pandas in a future version. Use pandas.concat instead.\n",
      "  df = df.append({\"Lr\":learning_rate,\n",
      "<ipython-input-153-9c7d2f14ce03>:18: FutureWarning: The frame.append method is deprecated and will be removed from pandas in a future version. Use pandas.concat instead.\n",
      "  df = df.append({\"Lr\":learning_rate,\n",
      "<ipython-input-153-9c7d2f14ce03>:18: FutureWarning: The frame.append method is deprecated and will be removed from pandas in a future version. Use pandas.concat instead.\n",
      "  df = df.append({\"Lr\":learning_rate,\n",
      "<ipython-input-153-9c7d2f14ce03>:18: FutureWarning: The frame.append method is deprecated and will be removed from pandas in a future version. Use pandas.concat instead.\n",
      "  df = df.append({\"Lr\":learning_rate,\n",
      "<ipython-input-153-9c7d2f14ce03>:18: FutureWarning: The frame.append method is deprecated and will be removed from pandas in a future version. Use pandas.concat instead.\n",
      "  df = df.append({\"Lr\":learning_rate,\n",
      "<ipython-input-153-9c7d2f14ce03>:18: FutureWarning: The frame.append method is deprecated and will be removed from pandas in a future version. Use pandas.concat instead.\n",
      "  df = df.append({\"Lr\":learning_rate,\n",
      "<ipython-input-153-9c7d2f14ce03>:18: FutureWarning: The frame.append method is deprecated and will be removed from pandas in a future version. Use pandas.concat instead.\n",
      "  df = df.append({\"Lr\":learning_rate,\n",
      "<ipython-input-153-9c7d2f14ce03>:18: FutureWarning: The frame.append method is deprecated and will be removed from pandas in a future version. Use pandas.concat instead.\n",
      "  df = df.append({\"Lr\":learning_rate,\n",
      "<ipython-input-153-9c7d2f14ce03>:18: FutureWarning: The frame.append method is deprecated and will be removed from pandas in a future version. Use pandas.concat instead.\n",
      "  df = df.append({\"Lr\":learning_rate,\n",
      "<ipython-input-153-9c7d2f14ce03>:18: FutureWarning: The frame.append method is deprecated and will be removed from pandas in a future version. Use pandas.concat instead.\n",
      "  df = df.append({\"Lr\":learning_rate,\n",
      "<ipython-input-153-9c7d2f14ce03>:18: FutureWarning: The frame.append method is deprecated and will be removed from pandas in a future version. Use pandas.concat instead.\n",
      "  df = df.append({\"Lr\":learning_rate,\n",
      "<ipython-input-153-9c7d2f14ce03>:18: FutureWarning: The frame.append method is deprecated and will be removed from pandas in a future version. Use pandas.concat instead.\n",
      "  df = df.append({\"Lr\":learning_rate,\n",
      "<ipython-input-153-9c7d2f14ce03>:18: FutureWarning: The frame.append method is deprecated and will be removed from pandas in a future version. Use pandas.concat instead.\n",
      "  df = df.append({\"Lr\":learning_rate,\n",
      "<ipython-input-153-9c7d2f14ce03>:18: FutureWarning: The frame.append method is deprecated and will be removed from pandas in a future version. Use pandas.concat instead.\n",
      "  df = df.append({\"Lr\":learning_rate,\n",
      "<ipython-input-153-9c7d2f14ce03>:18: FutureWarning: The frame.append method is deprecated and will be removed from pandas in a future version. Use pandas.concat instead.\n",
      "  df = df.append({\"Lr\":learning_rate,\n",
      "<ipython-input-153-9c7d2f14ce03>:18: FutureWarning: The frame.append method is deprecated and will be removed from pandas in a future version. Use pandas.concat instead.\n",
      "  df = df.append({\"Lr\":learning_rate,\n",
      "<ipython-input-153-9c7d2f14ce03>:18: FutureWarning: The frame.append method is deprecated and will be removed from pandas in a future version. Use pandas.concat instead.\n",
      "  df = df.append({\"Lr\":learning_rate,\n"
     ]
    },
    {
     "name": "stdout",
     "output_type": "stream",
     "text": [
      "lr=0.001 epoch=18 train_loss=0.0 train_accu=1.0 valid_loss=4662.0654296875 valid_accu=0.0\n",
      "lr=0.001 epoch=19 train_loss=0.0 train_accu=1.0 valid_loss=4662.0654296875 valid_accu=0.0\n",
      "lr=0.001 epoch=20 train_loss=0.0 train_accu=1.0 valid_loss=4662.0654296875 valid_accu=0.0\n",
      "lr=0.001 epoch=21 train_loss=0.0 train_accu=1.0 valid_loss=4662.0654296875 valid_accu=0.0\n",
      "lr=0.001 epoch=22 train_loss=0.0 train_accu=1.0 valid_loss=4662.0654296875 valid_accu=0.0\n",
      "lr=0.001 epoch=23 train_loss=0.0 train_accu=1.0 valid_loss=4662.0654296875 valid_accu=0.0\n",
      "lr=0.001 epoch=24 train_loss=0.0 train_accu=1.0 valid_loss=4662.0654296875 valid_accu=0.0\n",
      "lr=0.001 epoch=25 train_loss=0.0 train_accu=1.0 valid_loss=4662.0654296875 valid_accu=0.0\n",
      "lr=0.001 epoch=26 train_loss=0.0 train_accu=1.0 valid_loss=4662.0654296875 valid_accu=0.0\n",
      "lr=0.001 epoch=27 train_loss=0.0 train_accu=1.0 valid_loss=4662.0654296875 valid_accu=0.0\n",
      "lr=0.001 epoch=28 train_loss=0.0 train_accu=1.0 valid_loss=4662.0654296875 valid_accu=0.0\n",
      "lr=0.001 epoch=29 train_loss=0.0 train_accu=1.0 valid_loss=4662.0654296875 valid_accu=0.0\n",
      "lr=0.001 epoch=30 train_loss=0.0 train_accu=1.0 valid_loss=4662.0654296875 valid_accu=0.0\n",
      "lr=0.001 epoch=31 train_loss=0.0 train_accu=1.0 valid_loss=4662.0654296875 valid_accu=0.0\n",
      "lr=0.001 epoch=32 train_loss=0.0 train_accu=1.0 valid_loss=4662.0654296875 valid_accu=0.0\n",
      "lr=0.001 epoch=33 train_loss=0.0 train_accu=1.0 valid_loss=4662.0654296875 valid_accu=0.0\n",
      "lr=0.001 epoch=34 train_loss=0.0 train_accu=1.0 valid_loss=4662.0654296875 valid_accu=0.0\n",
      "lr=0.001 epoch=35 train_loss=0.0 train_accu=1.0 valid_loss=4662.0654296875 valid_accu=0.0\n",
      "lr=0.001 epoch=36 train_loss=0.0 train_accu=1.0 valid_loss=4662.0654296875 valid_accu=0.0\n",
      "lr=0.001 epoch=37 train_loss=0.0 train_accu=1.0 valid_loss=4662.0654296875 valid_accu=0.0\n"
     ]
    },
    {
     "name": "stderr",
     "output_type": "stream",
     "text": [
      "<ipython-input-153-9c7d2f14ce03>:18: FutureWarning: The frame.append method is deprecated and will be removed from pandas in a future version. Use pandas.concat instead.\n",
      "  df = df.append({\"Lr\":learning_rate,\n",
      "<ipython-input-153-9c7d2f14ce03>:18: FutureWarning: The frame.append method is deprecated and will be removed from pandas in a future version. Use pandas.concat instead.\n",
      "  df = df.append({\"Lr\":learning_rate,\n",
      "<ipython-input-153-9c7d2f14ce03>:18: FutureWarning: The frame.append method is deprecated and will be removed from pandas in a future version. Use pandas.concat instead.\n",
      "  df = df.append({\"Lr\":learning_rate,\n",
      "<ipython-input-153-9c7d2f14ce03>:18: FutureWarning: The frame.append method is deprecated and will be removed from pandas in a future version. Use pandas.concat instead.\n",
      "  df = df.append({\"Lr\":learning_rate,\n",
      "<ipython-input-153-9c7d2f14ce03>:18: FutureWarning: The frame.append method is deprecated and will be removed from pandas in a future version. Use pandas.concat instead.\n",
      "  df = df.append({\"Lr\":learning_rate,\n",
      "<ipython-input-153-9c7d2f14ce03>:18: FutureWarning: The frame.append method is deprecated and will be removed from pandas in a future version. Use pandas.concat instead.\n",
      "  df = df.append({\"Lr\":learning_rate,\n",
      "<ipython-input-153-9c7d2f14ce03>:18: FutureWarning: The frame.append method is deprecated and will be removed from pandas in a future version. Use pandas.concat instead.\n",
      "  df = df.append({\"Lr\":learning_rate,\n",
      "<ipython-input-153-9c7d2f14ce03>:18: FutureWarning: The frame.append method is deprecated and will be removed from pandas in a future version. Use pandas.concat instead.\n",
      "  df = df.append({\"Lr\":learning_rate,\n",
      "<ipython-input-153-9c7d2f14ce03>:18: FutureWarning: The frame.append method is deprecated and will be removed from pandas in a future version. Use pandas.concat instead.\n",
      "  df = df.append({\"Lr\":learning_rate,\n",
      "<ipython-input-153-9c7d2f14ce03>:18: FutureWarning: The frame.append method is deprecated and will be removed from pandas in a future version. Use pandas.concat instead.\n",
      "  df = df.append({\"Lr\":learning_rate,\n",
      "<ipython-input-153-9c7d2f14ce03>:18: FutureWarning: The frame.append method is deprecated and will be removed from pandas in a future version. Use pandas.concat instead.\n",
      "  df = df.append({\"Lr\":learning_rate,\n",
      "<ipython-input-153-9c7d2f14ce03>:18: FutureWarning: The frame.append method is deprecated and will be removed from pandas in a future version. Use pandas.concat instead.\n",
      "  df = df.append({\"Lr\":learning_rate,\n",
      "<ipython-input-153-9c7d2f14ce03>:18: FutureWarning: The frame.append method is deprecated and will be removed from pandas in a future version. Use pandas.concat instead.\n",
      "  df = df.append({\"Lr\":learning_rate,\n",
      "<ipython-input-153-9c7d2f14ce03>:18: FutureWarning: The frame.append method is deprecated and will be removed from pandas in a future version. Use pandas.concat instead.\n",
      "  df = df.append({\"Lr\":learning_rate,\n",
      "<ipython-input-153-9c7d2f14ce03>:18: FutureWarning: The frame.append method is deprecated and will be removed from pandas in a future version. Use pandas.concat instead.\n",
      "  df = df.append({\"Lr\":learning_rate,\n",
      "<ipython-input-153-9c7d2f14ce03>:18: FutureWarning: The frame.append method is deprecated and will be removed from pandas in a future version. Use pandas.concat instead.\n",
      "  df = df.append({\"Lr\":learning_rate,\n",
      "<ipython-input-153-9c7d2f14ce03>:18: FutureWarning: The frame.append method is deprecated and will be removed from pandas in a future version. Use pandas.concat instead.\n",
      "  df = df.append({\"Lr\":learning_rate,\n",
      "<ipython-input-153-9c7d2f14ce03>:18: FutureWarning: The frame.append method is deprecated and will be removed from pandas in a future version. Use pandas.concat instead.\n",
      "  df = df.append({\"Lr\":learning_rate,\n",
      "<ipython-input-153-9c7d2f14ce03>:18: FutureWarning: The frame.append method is deprecated and will be removed from pandas in a future version. Use pandas.concat instead.\n",
      "  df = df.append({\"Lr\":learning_rate,\n",
      "<ipython-input-153-9c7d2f14ce03>:18: FutureWarning: The frame.append method is deprecated and will be removed from pandas in a future version. Use pandas.concat instead.\n",
      "  df = df.append({\"Lr\":learning_rate,\n"
     ]
    },
    {
     "name": "stdout",
     "output_type": "stream",
     "text": [
      "lr=0.001 epoch=38 train_loss=0.0 train_accu=1.0 valid_loss=4662.0654296875 valid_accu=0.0\n",
      "lr=0.001 epoch=39 train_loss=0.0 train_accu=1.0 valid_loss=4662.0654296875 valid_accu=0.0\n",
      "CPU times: user 1.29 s, sys: 30.8 ms, total: 1.32 s\n",
      "Wall time: 1.33 s\n"
     ]
    },
    {
     "name": "stderr",
     "output_type": "stream",
     "text": [
      "<ipython-input-153-9c7d2f14ce03>:18: FutureWarning: The frame.append method is deprecated and will be removed from pandas in a future version. Use pandas.concat instead.\n",
      "  df = df.append({\"Lr\":learning_rate,\n",
      "<ipython-input-153-9c7d2f14ce03>:18: FutureWarning: The frame.append method is deprecated and will be removed from pandas in a future version. Use pandas.concat instead.\n",
      "  df = df.append({\"Lr\":learning_rate,\n"
     ]
    },
    {
     "data": {
      "text/html": [
       "\n",
       "  <div id=\"df-c5dd04bc-35c0-4cc5-988b-3cf6e61a02cb\" class=\"colab-df-container\">\n",
       "    <div>\n",
       "<style scoped>\n",
       "    .dataframe tbody tr th:only-of-type {\n",
       "        vertical-align: middle;\n",
       "    }\n",
       "\n",
       "    .dataframe tbody tr th {\n",
       "        vertical-align: top;\n",
       "    }\n",
       "\n",
       "    .dataframe thead th {\n",
       "        text-align: right;\n",
       "    }\n",
       "</style>\n",
       "<table border=\"1\" class=\"dataframe\">\n",
       "  <thead>\n",
       "    <tr style=\"text-align: right;\">\n",
       "      <th></th>\n",
       "      <th>Lr</th>\n",
       "      <th>epoch</th>\n",
       "      <th>train_loss</th>\n",
       "      <th>train_accu</th>\n",
       "      <th>valid_loss</th>\n",
       "      <th>valid_accu</th>\n",
       "      <th>model</th>\n",
       "    </tr>\n",
       "  </thead>\n",
       "  <tbody>\n",
       "    <tr>\n",
       "      <th>0</th>\n",
       "      <td>0.100</td>\n",
       "      <td>0</td>\n",
       "      <td>0.0</td>\n",
       "      <td>1.0</td>\n",
       "      <td>145.884201</td>\n",
       "      <td>0.0</td>\n",
       "      <td>DropOut</td>\n",
       "    </tr>\n",
       "    <tr>\n",
       "      <th>1</th>\n",
       "      <td>0.100</td>\n",
       "      <td>1</td>\n",
       "      <td>0.0</td>\n",
       "      <td>1.0</td>\n",
       "      <td>390.677795</td>\n",
       "      <td>0.0</td>\n",
       "      <td>DropOut</td>\n",
       "    </tr>\n",
       "    <tr>\n",
       "      <th>2</th>\n",
       "      <td>0.100</td>\n",
       "      <td>2</td>\n",
       "      <td>0.0</td>\n",
       "      <td>1.0</td>\n",
       "      <td>660.866577</td>\n",
       "      <td>0.0</td>\n",
       "      <td>DropOut</td>\n",
       "    </tr>\n",
       "    <tr>\n",
       "      <th>3</th>\n",
       "      <td>0.100</td>\n",
       "      <td>3</td>\n",
       "      <td>0.0</td>\n",
       "      <td>1.0</td>\n",
       "      <td>934.787842</td>\n",
       "      <td>0.0</td>\n",
       "      <td>DropOut</td>\n",
       "    </tr>\n",
       "    <tr>\n",
       "      <th>4</th>\n",
       "      <td>0.100</td>\n",
       "      <td>4</td>\n",
       "      <td>0.0</td>\n",
       "      <td>1.0</td>\n",
       "      <td>1203.253174</td>\n",
       "      <td>0.0</td>\n",
       "      <td>DropOut</td>\n",
       "    </tr>\n",
       "    <tr>\n",
       "      <th>...</th>\n",
       "      <td>...</td>\n",
       "      <td>...</td>\n",
       "      <td>...</td>\n",
       "      <td>...</td>\n",
       "      <td>...</td>\n",
       "      <td>...</td>\n",
       "      <td>...</td>\n",
       "    </tr>\n",
       "    <tr>\n",
       "      <th>115</th>\n",
       "      <td>0.001</td>\n",
       "      <td>35</td>\n",
       "      <td>0.0</td>\n",
       "      <td>1.0</td>\n",
       "      <td>4662.065430</td>\n",
       "      <td>0.0</td>\n",
       "      <td>DropOut</td>\n",
       "    </tr>\n",
       "    <tr>\n",
       "      <th>116</th>\n",
       "      <td>0.001</td>\n",
       "      <td>36</td>\n",
       "      <td>0.0</td>\n",
       "      <td>1.0</td>\n",
       "      <td>4662.065430</td>\n",
       "      <td>0.0</td>\n",
       "      <td>DropOut</td>\n",
       "    </tr>\n",
       "    <tr>\n",
       "      <th>117</th>\n",
       "      <td>0.001</td>\n",
       "      <td>37</td>\n",
       "      <td>0.0</td>\n",
       "      <td>1.0</td>\n",
       "      <td>4662.065430</td>\n",
       "      <td>0.0</td>\n",
       "      <td>DropOut</td>\n",
       "    </tr>\n",
       "    <tr>\n",
       "      <th>118</th>\n",
       "      <td>0.001</td>\n",
       "      <td>38</td>\n",
       "      <td>0.0</td>\n",
       "      <td>1.0</td>\n",
       "      <td>4662.065430</td>\n",
       "      <td>0.0</td>\n",
       "      <td>DropOut</td>\n",
       "    </tr>\n",
       "    <tr>\n",
       "      <th>119</th>\n",
       "      <td>0.001</td>\n",
       "      <td>39</td>\n",
       "      <td>0.0</td>\n",
       "      <td>1.0</td>\n",
       "      <td>4662.065430</td>\n",
       "      <td>0.0</td>\n",
       "      <td>DropOut</td>\n",
       "    </tr>\n",
       "  </tbody>\n",
       "</table>\n",
       "<p>120 rows × 7 columns</p>\n",
       "</div>\n",
       "    <div class=\"colab-df-buttons\">\n",
       "\n",
       "  <div class=\"colab-df-container\">\n",
       "    <button class=\"colab-df-convert\" onclick=\"convertToInteractive('df-c5dd04bc-35c0-4cc5-988b-3cf6e61a02cb')\"\n",
       "            title=\"Convert this dataframe to an interactive table.\"\n",
       "            style=\"display:none;\">\n",
       "\n",
       "  <svg xmlns=\"http://www.w3.org/2000/svg\" height=\"24px\" viewBox=\"0 -960 960 960\">\n",
       "    <path d=\"M120-120v-720h720v720H120Zm60-500h600v-160H180v160Zm220 220h160v-160H400v160Zm0 220h160v-160H400v160ZM180-400h160v-160H180v160Zm440 0h160v-160H620v160ZM180-180h160v-160H180v160Zm440 0h160v-160H620v160Z\"/>\n",
       "  </svg>\n",
       "    </button>\n",
       "\n",
       "  <style>\n",
       "    .colab-df-container {\n",
       "      display:flex;\n",
       "      gap: 12px;\n",
       "    }\n",
       "\n",
       "    .colab-df-convert {\n",
       "      background-color: #E8F0FE;\n",
       "      border: none;\n",
       "      border-radius: 50%;\n",
       "      cursor: pointer;\n",
       "      display: none;\n",
       "      fill: #1967D2;\n",
       "      height: 32px;\n",
       "      padding: 0 0 0 0;\n",
       "      width: 32px;\n",
       "    }\n",
       "\n",
       "    .colab-df-convert:hover {\n",
       "      background-color: #E2EBFA;\n",
       "      box-shadow: 0px 1px 2px rgba(60, 64, 67, 0.3), 0px 1px 3px 1px rgba(60, 64, 67, 0.15);\n",
       "      fill: #174EA6;\n",
       "    }\n",
       "\n",
       "    .colab-df-buttons div {\n",
       "      margin-bottom: 4px;\n",
       "    }\n",
       "\n",
       "    [theme=dark] .colab-df-convert {\n",
       "      background-color: #3B4455;\n",
       "      fill: #D2E3FC;\n",
       "    }\n",
       "\n",
       "    [theme=dark] .colab-df-convert:hover {\n",
       "      background-color: #434B5C;\n",
       "      box-shadow: 0px 1px 3px 1px rgba(0, 0, 0, 0.15);\n",
       "      filter: drop-shadow(0px 1px 2px rgba(0, 0, 0, 0.3));\n",
       "      fill: #FFFFFF;\n",
       "    }\n",
       "  </style>\n",
       "\n",
       "    <script>\n",
       "      const buttonEl =\n",
       "        document.querySelector('#df-c5dd04bc-35c0-4cc5-988b-3cf6e61a02cb button.colab-df-convert');\n",
       "      buttonEl.style.display =\n",
       "        google.colab.kernel.accessAllowed ? 'block' : 'none';\n",
       "\n",
       "      async function convertToInteractive(key) {\n",
       "        const element = document.querySelector('#df-c5dd04bc-35c0-4cc5-988b-3cf6e61a02cb');\n",
       "        const dataTable =\n",
       "          await google.colab.kernel.invokeFunction('convertToInteractive',\n",
       "                                                    [key], {});\n",
       "        if (!dataTable) return;\n",
       "\n",
       "        const docLinkHtml = 'Like what you see? Visit the ' +\n",
       "          '<a target=\"_blank\" href=https://colab.research.google.com/notebooks/data_table.ipynb>data table notebook</a>'\n",
       "          + ' to learn more about interactive tables.';\n",
       "        element.innerHTML = '';\n",
       "        dataTable['output_type'] = 'display_data';\n",
       "        await google.colab.output.renderOutput(dataTable, element);\n",
       "        const docLink = document.createElement('div');\n",
       "        docLink.innerHTML = docLinkHtml;\n",
       "        element.appendChild(docLink);\n",
       "      }\n",
       "    </script>\n",
       "  </div>\n",
       "\n",
       "\n",
       "<div id=\"df-3a6ad23a-1222-4a2a-936e-ee2c3c4a3056\">\n",
       "  <button class=\"colab-df-quickchart\" onclick=\"quickchart('df-3a6ad23a-1222-4a2a-936e-ee2c3c4a3056')\"\n",
       "            title=\"Suggest charts.\"\n",
       "            style=\"display:none;\">\n",
       "\n",
       "<svg xmlns=\"http://www.w3.org/2000/svg\" height=\"24px\"viewBox=\"0 0 24 24\"\n",
       "     width=\"24px\">\n",
       "    <g>\n",
       "        <path d=\"M19 3H5c-1.1 0-2 .9-2 2v14c0 1.1.9 2 2 2h14c1.1 0 2-.9 2-2V5c0-1.1-.9-2-2-2zM9 17H7v-7h2v7zm4 0h-2V7h2v10zm4 0h-2v-4h2v4z\"/>\n",
       "    </g>\n",
       "</svg>\n",
       "  </button>\n",
       "\n",
       "<style>\n",
       "  .colab-df-quickchart {\n",
       "      --bg-color: #E8F0FE;\n",
       "      --fill-color: #1967D2;\n",
       "      --hover-bg-color: #E2EBFA;\n",
       "      --hover-fill-color: #174EA6;\n",
       "      --disabled-fill-color: #AAA;\n",
       "      --disabled-bg-color: #DDD;\n",
       "  }\n",
       "\n",
       "  [theme=dark] .colab-df-quickchart {\n",
       "      --bg-color: #3B4455;\n",
       "      --fill-color: #D2E3FC;\n",
       "      --hover-bg-color: #434B5C;\n",
       "      --hover-fill-color: #FFFFFF;\n",
       "      --disabled-bg-color: #3B4455;\n",
       "      --disabled-fill-color: #666;\n",
       "  }\n",
       "\n",
       "  .colab-df-quickchart {\n",
       "    background-color: var(--bg-color);\n",
       "    border: none;\n",
       "    border-radius: 50%;\n",
       "    cursor: pointer;\n",
       "    display: none;\n",
       "    fill: var(--fill-color);\n",
       "    height: 32px;\n",
       "    padding: 0;\n",
       "    width: 32px;\n",
       "  }\n",
       "\n",
       "  .colab-df-quickchart:hover {\n",
       "    background-color: var(--hover-bg-color);\n",
       "    box-shadow: 0 1px 2px rgba(60, 64, 67, 0.3), 0 1px 3px 1px rgba(60, 64, 67, 0.15);\n",
       "    fill: var(--button-hover-fill-color);\n",
       "  }\n",
       "\n",
       "  .colab-df-quickchart-complete:disabled,\n",
       "  .colab-df-quickchart-complete:disabled:hover {\n",
       "    background-color: var(--disabled-bg-color);\n",
       "    fill: var(--disabled-fill-color);\n",
       "    box-shadow: none;\n",
       "  }\n",
       "\n",
       "  .colab-df-spinner {\n",
       "    border: 2px solid var(--fill-color);\n",
       "    border-color: transparent;\n",
       "    border-bottom-color: var(--fill-color);\n",
       "    animation:\n",
       "      spin 1s steps(1) infinite;\n",
       "  }\n",
       "\n",
       "  @keyframes spin {\n",
       "    0% {\n",
       "      border-color: transparent;\n",
       "      border-bottom-color: var(--fill-color);\n",
       "      border-left-color: var(--fill-color);\n",
       "    }\n",
       "    20% {\n",
       "      border-color: transparent;\n",
       "      border-left-color: var(--fill-color);\n",
       "      border-top-color: var(--fill-color);\n",
       "    }\n",
       "    30% {\n",
       "      border-color: transparent;\n",
       "      border-left-color: var(--fill-color);\n",
       "      border-top-color: var(--fill-color);\n",
       "      border-right-color: var(--fill-color);\n",
       "    }\n",
       "    40% {\n",
       "      border-color: transparent;\n",
       "      border-right-color: var(--fill-color);\n",
       "      border-top-color: var(--fill-color);\n",
       "    }\n",
       "    60% {\n",
       "      border-color: transparent;\n",
       "      border-right-color: var(--fill-color);\n",
       "    }\n",
       "    80% {\n",
       "      border-color: transparent;\n",
       "      border-right-color: var(--fill-color);\n",
       "      border-bottom-color: var(--fill-color);\n",
       "    }\n",
       "    90% {\n",
       "      border-color: transparent;\n",
       "      border-bottom-color: var(--fill-color);\n",
       "    }\n",
       "  }\n",
       "</style>\n",
       "\n",
       "  <script>\n",
       "    async function quickchart(key) {\n",
       "      const quickchartButtonEl =\n",
       "        document.querySelector('#' + key + ' button');\n",
       "      quickchartButtonEl.disabled = true;  // To prevent multiple clicks.\n",
       "      quickchartButtonEl.classList.add('colab-df-spinner');\n",
       "      try {\n",
       "        const charts = await google.colab.kernel.invokeFunction(\n",
       "            'suggestCharts', [key], {});\n",
       "      } catch (error) {\n",
       "        console.error('Error during call to suggestCharts:', error);\n",
       "      }\n",
       "      quickchartButtonEl.classList.remove('colab-df-spinner');\n",
       "      quickchartButtonEl.classList.add('colab-df-quickchart-complete');\n",
       "    }\n",
       "    (() => {\n",
       "      let quickchartButtonEl =\n",
       "        document.querySelector('#df-3a6ad23a-1222-4a2a-936e-ee2c3c4a3056 button');\n",
       "      quickchartButtonEl.style.display =\n",
       "        google.colab.kernel.accessAllowed ? 'block' : 'none';\n",
       "    })();\n",
       "  </script>\n",
       "</div>\n",
       "    </div>\n",
       "  </div>\n"
      ],
      "text/plain": [
       "        Lr  epoch  train_loss  train_accu   valid_loss  valid_accu    model\n",
       "0    0.100      0         0.0         1.0   145.884201         0.0  DropOut\n",
       "1    0.100      1         0.0         1.0   390.677795         0.0  DropOut\n",
       "2    0.100      2         0.0         1.0   660.866577         0.0  DropOut\n",
       "3    0.100      3         0.0         1.0   934.787842         0.0  DropOut\n",
       "4    0.100      4         0.0         1.0  1203.253174         0.0  DropOut\n",
       "..     ...    ...         ...         ...          ...         ...      ...\n",
       "115  0.001     35         0.0         1.0  4662.065430         0.0  DropOut\n",
       "116  0.001     36         0.0         1.0  4662.065430         0.0  DropOut\n",
       "117  0.001     37         0.0         1.0  4662.065430         0.0  DropOut\n",
       "118  0.001     38         0.0         1.0  4662.065430         0.0  DropOut\n",
       "119  0.001     39         0.0         1.0  4662.065430         0.0  DropOut\n",
       "\n",
       "[120 rows x 7 columns]"
      ]
     },
     "execution_count": 155,
     "metadata": {},
     "output_type": "execute_result"
    }
   ],
   "source": [
    "df_prueba2 = pd.DataFrame()\n",
    "%time  train_validation(DropOut(0.2,512),train_ejemplo_loader,val_ejemplo_loader,df_prueba2)"
   ]
  },
  {
   "cell_type": "code",
   "execution_count": null,
   "id": "SL4yXMRcMkLr",
   "metadata": {
    "colab": {
     "base_uri": "https://localhost:8080/",
     "height": 1000
    },
    "id": "SL4yXMRcMkLr",
    "outputId": "3925b52c-ece7-43f5-fe2d-2a6034414d79"
   },
   "outputs": [
    {
     "name": "stdout",
     "output_type": "stream",
     "text": [
      "lr=0.1 epoch=0 train_loss=0.0 train_accu=1.0 valid_loss=167.4718017578125 valid_accu=0.0\n",
      "lr=0.1 epoch=1 train_loss=0.0 train_accu=1.0 valid_loss=446.08837890625 valid_accu=0.0\n",
      "lr=0.1 epoch=2 train_loss=0.0 train_accu=1.0 valid_loss=752.984619140625 valid_accu=0.0\n",
      "lr=0.1 epoch=3 train_loss=0.0 train_accu=1.0 valid_loss=1063.836181640625 valid_accu=0.0\n",
      "lr=0.1 epoch=4 train_loss=0.0 train_accu=1.0 valid_loss=1368.335693359375 valid_accu=0.0\n",
      "lr=0.1 epoch=5 train_loss=0.0 train_accu=1.0 valid_loss=1661.468994140625 valid_accu=0.0\n",
      "lr=0.1 epoch=6 train_loss=0.0 train_accu=1.0 valid_loss=1940.7088623046875 valid_accu=0.0\n",
      "lr=0.1 epoch=7 train_loss=0.0 train_accu=1.0 valid_loss=2204.849609375 valid_accu=0.0\n",
      "lr=0.1 epoch=8 train_loss=0.0 train_accu=1.0 valid_loss=2453.449462890625 valid_accu=0.0\n",
      "lr=0.1 epoch=9 train_loss=0.0 train_accu=1.0 valid_loss=2686.528564453125 valid_accu=0.0\n",
      "lr=0.1 epoch=10 train_loss=0.0 train_accu=1.0 valid_loss=2904.394287109375 valid_accu=0.0\n",
      "lr=0.1 epoch=11 train_loss=0.0 train_accu=1.0 valid_loss=3107.53515625 valid_accu=0.0\n",
      "lr=0.1 epoch=12 train_loss=0.0 train_accu=1.0 valid_loss=3296.55029296875 valid_accu=0.0\n",
      "lr=0.1 epoch=13 train_loss=0.0 train_accu=1.0 valid_loss=3472.10693359375 valid_accu=0.0\n",
      "lr=0.1 epoch=14 train_loss=0.0 train_accu=1.0 valid_loss=3634.90673828125 valid_accu=0.0\n",
      "lr=0.1 epoch=15 train_loss=0.0 train_accu=1.0 valid_loss=3785.66552734375 valid_accu=0.0\n",
      "lr=0.1 epoch=16 train_loss=0.0 train_accu=1.0 valid_loss=3925.098388671875 valid_accu=0.0\n",
      "lr=0.1 epoch=17 train_loss=0.0 train_accu=1.0 valid_loss=4053.908203125 valid_accu=0.0\n",
      "lr=0.1 epoch=18 train_loss=0.0 train_accu=1.0 valid_loss=4172.7802734375 valid_accu=0.0\n"
     ]
    },
    {
     "name": "stderr",
     "output_type": "stream",
     "text": [
      "<ipython-input-160-89706fee0790>:18: FutureWarning: The frame.append method is deprecated and will be removed from pandas in a future version. Use pandas.concat instead.\n",
      "  df = df.append({\"Lr\":learning_rate,\n",
      "<ipython-input-160-89706fee0790>:18: FutureWarning: The frame.append method is deprecated and will be removed from pandas in a future version. Use pandas.concat instead.\n",
      "  df = df.append({\"Lr\":learning_rate,\n",
      "<ipython-input-160-89706fee0790>:18: FutureWarning: The frame.append method is deprecated and will be removed from pandas in a future version. Use pandas.concat instead.\n",
      "  df = df.append({\"Lr\":learning_rate,\n",
      "<ipython-input-160-89706fee0790>:18: FutureWarning: The frame.append method is deprecated and will be removed from pandas in a future version. Use pandas.concat instead.\n",
      "  df = df.append({\"Lr\":learning_rate,\n",
      "<ipython-input-160-89706fee0790>:18: FutureWarning: The frame.append method is deprecated and will be removed from pandas in a future version. Use pandas.concat instead.\n",
      "  df = df.append({\"Lr\":learning_rate,\n",
      "<ipython-input-160-89706fee0790>:18: FutureWarning: The frame.append method is deprecated and will be removed from pandas in a future version. Use pandas.concat instead.\n",
      "  df = df.append({\"Lr\":learning_rate,\n",
      "<ipython-input-160-89706fee0790>:18: FutureWarning: The frame.append method is deprecated and will be removed from pandas in a future version. Use pandas.concat instead.\n",
      "  df = df.append({\"Lr\":learning_rate,\n",
      "<ipython-input-160-89706fee0790>:18: FutureWarning: The frame.append method is deprecated and will be removed from pandas in a future version. Use pandas.concat instead.\n",
      "  df = df.append({\"Lr\":learning_rate,\n",
      "<ipython-input-160-89706fee0790>:18: FutureWarning: The frame.append method is deprecated and will be removed from pandas in a future version. Use pandas.concat instead.\n",
      "  df = df.append({\"Lr\":learning_rate,\n",
      "<ipython-input-160-89706fee0790>:18: FutureWarning: The frame.append method is deprecated and will be removed from pandas in a future version. Use pandas.concat instead.\n",
      "  df = df.append({\"Lr\":learning_rate,\n",
      "<ipython-input-160-89706fee0790>:18: FutureWarning: The frame.append method is deprecated and will be removed from pandas in a future version. Use pandas.concat instead.\n",
      "  df = df.append({\"Lr\":learning_rate,\n",
      "<ipython-input-160-89706fee0790>:18: FutureWarning: The frame.append method is deprecated and will be removed from pandas in a future version. Use pandas.concat instead.\n",
      "  df = df.append({\"Lr\":learning_rate,\n",
      "<ipython-input-160-89706fee0790>:18: FutureWarning: The frame.append method is deprecated and will be removed from pandas in a future version. Use pandas.concat instead.\n",
      "  df = df.append({\"Lr\":learning_rate,\n",
      "<ipython-input-160-89706fee0790>:18: FutureWarning: The frame.append method is deprecated and will be removed from pandas in a future version. Use pandas.concat instead.\n",
      "  df = df.append({\"Lr\":learning_rate,\n",
      "<ipython-input-160-89706fee0790>:18: FutureWarning: The frame.append method is deprecated and will be removed from pandas in a future version. Use pandas.concat instead.\n",
      "  df = df.append({\"Lr\":learning_rate,\n",
      "<ipython-input-160-89706fee0790>:18: FutureWarning: The frame.append method is deprecated and will be removed from pandas in a future version. Use pandas.concat instead.\n",
      "  df = df.append({\"Lr\":learning_rate,\n",
      "<ipython-input-160-89706fee0790>:18: FutureWarning: The frame.append method is deprecated and will be removed from pandas in a future version. Use pandas.concat instead.\n",
      "  df = df.append({\"Lr\":learning_rate,\n",
      "<ipython-input-160-89706fee0790>:18: FutureWarning: The frame.append method is deprecated and will be removed from pandas in a future version. Use pandas.concat instead.\n",
      "  df = df.append({\"Lr\":learning_rate,\n",
      "<ipython-input-160-89706fee0790>:18: FutureWarning: The frame.append method is deprecated and will be removed from pandas in a future version. Use pandas.concat instead.\n",
      "  df = df.append({\"Lr\":learning_rate,\n"
     ]
    },
    {
     "name": "stdout",
     "output_type": "stream",
     "text": [
      "lr=0.1 epoch=19 train_loss=0.0 train_accu=1.0 valid_loss=4282.3740234375 valid_accu=0.0\n",
      "lr=0.1 epoch=20 train_loss=0.0 train_accu=1.0 valid_loss=4383.32421875 valid_accu=0.0\n",
      "lr=0.1 epoch=21 train_loss=0.0 train_accu=1.0 valid_loss=4476.2333984375 valid_accu=0.0\n",
      "lr=0.1 epoch=22 train_loss=0.0 train_accu=1.0 valid_loss=4561.67578125 valid_accu=0.0\n",
      "lr=0.1 epoch=23 train_loss=0.0 train_accu=1.0 valid_loss=4640.19384765625 valid_accu=0.0\n",
      "lr=0.1 epoch=24 train_loss=0.0 train_accu=1.0 valid_loss=4712.298828125 valid_accu=0.0\n",
      "lr=0.1 epoch=25 train_loss=0.0 train_accu=1.0 valid_loss=4778.470703125 valid_accu=0.0\n",
      "lr=0.1 epoch=26 train_loss=0.0 train_accu=1.0 valid_loss=4839.1591796875 valid_accu=0.0\n",
      "lr=0.1 epoch=27 train_loss=0.0 train_accu=1.0 valid_loss=4894.7880859375 valid_accu=0.0\n",
      "lr=0.1 epoch=28 train_loss=0.0 train_accu=1.0 valid_loss=4945.75 valid_accu=0.0\n",
      "lr=0.1 epoch=29 train_loss=0.0 train_accu=1.0 valid_loss=4992.41064453125 valid_accu=0.0\n",
      "lr=0.1 epoch=30 train_loss=0.0 train_accu=1.0 valid_loss=5035.11376953125 valid_accu=0.0\n",
      "lr=0.1 epoch=31 train_loss=0.0 train_accu=1.0 valid_loss=5074.17578125 valid_accu=0.0\n",
      "lr=0.1 epoch=32 train_loss=0.0 train_accu=1.0 valid_loss=5109.8896484375 valid_accu=0.0\n",
      "lr=0.1 epoch=33 train_loss=0.0 train_accu=1.0 valid_loss=5142.52880859375 valid_accu=0.0\n",
      "lr=0.1 epoch=34 train_loss=0.0 train_accu=1.0 valid_loss=5172.345703125 valid_accu=0.0\n",
      "lr=0.1 epoch=35 train_loss=0.0 train_accu=1.0 valid_loss=5199.57470703125 valid_accu=0.0\n",
      "lr=0.1 epoch=36 train_loss=0.0 train_accu=1.0 valid_loss=5224.42919921875 valid_accu=0.0\n",
      "lr=0.1 epoch=37 train_loss=0.0 train_accu=1.0 valid_loss=5247.10888671875 valid_accu=0.0\n"
     ]
    },
    {
     "name": "stderr",
     "output_type": "stream",
     "text": [
      "<ipython-input-160-89706fee0790>:18: FutureWarning: The frame.append method is deprecated and will be removed from pandas in a future version. Use pandas.concat instead.\n",
      "  df = df.append({\"Lr\":learning_rate,\n",
      "<ipython-input-160-89706fee0790>:18: FutureWarning: The frame.append method is deprecated and will be removed from pandas in a future version. Use pandas.concat instead.\n",
      "  df = df.append({\"Lr\":learning_rate,\n",
      "<ipython-input-160-89706fee0790>:18: FutureWarning: The frame.append method is deprecated and will be removed from pandas in a future version. Use pandas.concat instead.\n",
      "  df = df.append({\"Lr\":learning_rate,\n",
      "<ipython-input-160-89706fee0790>:18: FutureWarning: The frame.append method is deprecated and will be removed from pandas in a future version. Use pandas.concat instead.\n",
      "  df = df.append({\"Lr\":learning_rate,\n",
      "<ipython-input-160-89706fee0790>:18: FutureWarning: The frame.append method is deprecated and will be removed from pandas in a future version. Use pandas.concat instead.\n",
      "  df = df.append({\"Lr\":learning_rate,\n",
      "<ipython-input-160-89706fee0790>:18: FutureWarning: The frame.append method is deprecated and will be removed from pandas in a future version. Use pandas.concat instead.\n",
      "  df = df.append({\"Lr\":learning_rate,\n",
      "<ipython-input-160-89706fee0790>:18: FutureWarning: The frame.append method is deprecated and will be removed from pandas in a future version. Use pandas.concat instead.\n",
      "  df = df.append({\"Lr\":learning_rate,\n",
      "<ipython-input-160-89706fee0790>:18: FutureWarning: The frame.append method is deprecated and will be removed from pandas in a future version. Use pandas.concat instead.\n",
      "  df = df.append({\"Lr\":learning_rate,\n",
      "<ipython-input-160-89706fee0790>:18: FutureWarning: The frame.append method is deprecated and will be removed from pandas in a future version. Use pandas.concat instead.\n",
      "  df = df.append({\"Lr\":learning_rate,\n",
      "<ipython-input-160-89706fee0790>:18: FutureWarning: The frame.append method is deprecated and will be removed from pandas in a future version. Use pandas.concat instead.\n",
      "  df = df.append({\"Lr\":learning_rate,\n",
      "<ipython-input-160-89706fee0790>:18: FutureWarning: The frame.append method is deprecated and will be removed from pandas in a future version. Use pandas.concat instead.\n",
      "  df = df.append({\"Lr\":learning_rate,\n",
      "<ipython-input-160-89706fee0790>:18: FutureWarning: The frame.append method is deprecated and will be removed from pandas in a future version. Use pandas.concat instead.\n",
      "  df = df.append({\"Lr\":learning_rate,\n",
      "<ipython-input-160-89706fee0790>:18: FutureWarning: The frame.append method is deprecated and will be removed from pandas in a future version. Use pandas.concat instead.\n",
      "  df = df.append({\"Lr\":learning_rate,\n",
      "<ipython-input-160-89706fee0790>:18: FutureWarning: The frame.append method is deprecated and will be removed from pandas in a future version. Use pandas.concat instead.\n",
      "  df = df.append({\"Lr\":learning_rate,\n",
      "<ipython-input-160-89706fee0790>:18: FutureWarning: The frame.append method is deprecated and will be removed from pandas in a future version. Use pandas.concat instead.\n",
      "  df = df.append({\"Lr\":learning_rate,\n",
      "<ipython-input-160-89706fee0790>:18: FutureWarning: The frame.append method is deprecated and will be removed from pandas in a future version. Use pandas.concat instead.\n",
      "  df = df.append({\"Lr\":learning_rate,\n",
      "<ipython-input-160-89706fee0790>:18: FutureWarning: The frame.append method is deprecated and will be removed from pandas in a future version. Use pandas.concat instead.\n",
      "  df = df.append({\"Lr\":learning_rate,\n",
      "<ipython-input-160-89706fee0790>:18: FutureWarning: The frame.append method is deprecated and will be removed from pandas in a future version. Use pandas.concat instead.\n",
      "  df = df.append({\"Lr\":learning_rate,\n",
      "<ipython-input-160-89706fee0790>:18: FutureWarning: The frame.append method is deprecated and will be removed from pandas in a future version. Use pandas.concat instead.\n",
      "  df = df.append({\"Lr\":learning_rate,\n"
     ]
    },
    {
     "name": "stdout",
     "output_type": "stream",
     "text": [
      "lr=0.1 epoch=38 train_loss=0.0 train_accu=1.0 valid_loss=5267.79736328125 valid_accu=0.0\n",
      "lr=0.1 epoch=39 train_loss=0.0 train_accu=1.0 valid_loss=5286.6630859375 valid_accu=0.0\n",
      "lr=0.01 epoch=0 train_loss=0.04260975494980812 train_accu=1.0 valid_loss=3.8033406734466553 valid_accu=0.0\n",
      "lr=0.01 epoch=1 train_loss=2.4676019165781327e-05 train_accu=1.0 valid_loss=8.56676959991455 valid_accu=0.0\n",
      "lr=0.01 epoch=2 train_loss=0.0 train_accu=1.0 valid_loss=14.000452041625977 valid_accu=0.0\n",
      "lr=0.01 epoch=3 train_loss=0.0 train_accu=1.0 valid_loss=19.43389892578125 valid_accu=0.0\n",
      "lr=0.01 epoch=4 train_loss=0.0 train_accu=1.0 valid_loss=24.71900177001953 valid_accu=0.0\n",
      "lr=0.01 epoch=5 train_loss=0.0 train_accu=1.0 valid_loss=29.783042907714844 valid_accu=0.0\n",
      "lr=0.01 epoch=6 train_loss=0.0 train_accu=1.0 valid_loss=34.59061050415039 valid_accu=0.0\n",
      "lr=0.01 epoch=7 train_loss=0.0 train_accu=1.0 valid_loss=39.1263427734375 valid_accu=0.0\n",
      "lr=0.01 epoch=8 train_loss=0.0 train_accu=1.0 valid_loss=43.38633346557617 valid_accu=0.0\n",
      "lr=0.01 epoch=9 train_loss=0.0 train_accu=1.0 valid_loss=47.37358474731445 valid_accu=0.0\n",
      "lr=0.01 epoch=10 train_loss=0.0 train_accu=1.0 valid_loss=51.095314025878906 valid_accu=0.0\n",
      "lr=0.01 epoch=11 train_loss=0.0 train_accu=1.0 valid_loss=54.56134033203125 valid_accu=0.0\n",
      "lr=0.01 epoch=12 train_loss=0.0 train_accu=1.0 valid_loss=57.78302764892578 valid_accu=0.0\n",
      "lr=0.01 epoch=13 train_loss=0.0 train_accu=1.0 valid_loss=60.77265167236328 valid_accu=0.0\n",
      "lr=0.01 epoch=14 train_loss=0.0 train_accu=1.0 valid_loss=63.54285430908203 valid_accu=0.0\n",
      "lr=0.01 epoch=15 train_loss=0.0 train_accu=1.0 valid_loss=66.10639190673828 valid_accu=0.0\n",
      "lr=0.01 epoch=16 train_loss=0.0 train_accu=1.0 valid_loss=68.47588348388672 valid_accu=0.0\n"
     ]
    },
    {
     "name": "stderr",
     "output_type": "stream",
     "text": [
      "<ipython-input-160-89706fee0790>:18: FutureWarning: The frame.append method is deprecated and will be removed from pandas in a future version. Use pandas.concat instead.\n",
      "  df = df.append({\"Lr\":learning_rate,\n",
      "<ipython-input-160-89706fee0790>:18: FutureWarning: The frame.append method is deprecated and will be removed from pandas in a future version. Use pandas.concat instead.\n",
      "  df = df.append({\"Lr\":learning_rate,\n",
      "<ipython-input-160-89706fee0790>:18: FutureWarning: The frame.append method is deprecated and will be removed from pandas in a future version. Use pandas.concat instead.\n",
      "  df = df.append({\"Lr\":learning_rate,\n",
      "<ipython-input-160-89706fee0790>:18: FutureWarning: The frame.append method is deprecated and will be removed from pandas in a future version. Use pandas.concat instead.\n",
      "  df = df.append({\"Lr\":learning_rate,\n",
      "<ipython-input-160-89706fee0790>:18: FutureWarning: The frame.append method is deprecated and will be removed from pandas in a future version. Use pandas.concat instead.\n",
      "  df = df.append({\"Lr\":learning_rate,\n",
      "<ipython-input-160-89706fee0790>:18: FutureWarning: The frame.append method is deprecated and will be removed from pandas in a future version. Use pandas.concat instead.\n",
      "  df = df.append({\"Lr\":learning_rate,\n",
      "<ipython-input-160-89706fee0790>:18: FutureWarning: The frame.append method is deprecated and will be removed from pandas in a future version. Use pandas.concat instead.\n",
      "  df = df.append({\"Lr\":learning_rate,\n",
      "<ipython-input-160-89706fee0790>:18: FutureWarning: The frame.append method is deprecated and will be removed from pandas in a future version. Use pandas.concat instead.\n",
      "  df = df.append({\"Lr\":learning_rate,\n",
      "<ipython-input-160-89706fee0790>:18: FutureWarning: The frame.append method is deprecated and will be removed from pandas in a future version. Use pandas.concat instead.\n",
      "  df = df.append({\"Lr\":learning_rate,\n",
      "<ipython-input-160-89706fee0790>:18: FutureWarning: The frame.append method is deprecated and will be removed from pandas in a future version. Use pandas.concat instead.\n",
      "  df = df.append({\"Lr\":learning_rate,\n",
      "<ipython-input-160-89706fee0790>:18: FutureWarning: The frame.append method is deprecated and will be removed from pandas in a future version. Use pandas.concat instead.\n",
      "  df = df.append({\"Lr\":learning_rate,\n",
      "<ipython-input-160-89706fee0790>:18: FutureWarning: The frame.append method is deprecated and will be removed from pandas in a future version. Use pandas.concat instead.\n",
      "  df = df.append({\"Lr\":learning_rate,\n",
      "<ipython-input-160-89706fee0790>:18: FutureWarning: The frame.append method is deprecated and will be removed from pandas in a future version. Use pandas.concat instead.\n",
      "  df = df.append({\"Lr\":learning_rate,\n",
      "<ipython-input-160-89706fee0790>:18: FutureWarning: The frame.append method is deprecated and will be removed from pandas in a future version. Use pandas.concat instead.\n",
      "  df = df.append({\"Lr\":learning_rate,\n",
      "<ipython-input-160-89706fee0790>:18: FutureWarning: The frame.append method is deprecated and will be removed from pandas in a future version. Use pandas.concat instead.\n",
      "  df = df.append({\"Lr\":learning_rate,\n",
      "<ipython-input-160-89706fee0790>:18: FutureWarning: The frame.append method is deprecated and will be removed from pandas in a future version. Use pandas.concat instead.\n",
      "  df = df.append({\"Lr\":learning_rate,\n",
      "<ipython-input-160-89706fee0790>:18: FutureWarning: The frame.append method is deprecated and will be removed from pandas in a future version. Use pandas.concat instead.\n",
      "  df = df.append({\"Lr\":learning_rate,\n",
      "<ipython-input-160-89706fee0790>:18: FutureWarning: The frame.append method is deprecated and will be removed from pandas in a future version. Use pandas.concat instead.\n",
      "  df = df.append({\"Lr\":learning_rate,\n",
      "<ipython-input-160-89706fee0790>:18: FutureWarning: The frame.append method is deprecated and will be removed from pandas in a future version. Use pandas.concat instead.\n",
      "  df = df.append({\"Lr\":learning_rate,\n"
     ]
    },
    {
     "name": "stdout",
     "output_type": "stream",
     "text": [
      "lr=0.01 epoch=17 train_loss=0.0 train_accu=1.0 valid_loss=70.66365051269531 valid_accu=0.0\n",
      "lr=0.01 epoch=18 train_loss=0.0 train_accu=1.0 valid_loss=72.68161010742188 valid_accu=0.0\n",
      "lr=0.01 epoch=19 train_loss=0.0 train_accu=1.0 valid_loss=74.54125213623047 valid_accu=0.0\n",
      "lr=0.01 epoch=20 train_loss=0.0 train_accu=1.0 valid_loss=76.25350952148438 valid_accu=0.0\n",
      "lr=0.01 epoch=21 train_loss=0.0 train_accu=1.0 valid_loss=77.82882690429688 valid_accu=0.0\n",
      "lr=0.01 epoch=22 train_loss=0.0 train_accu=1.0 valid_loss=79.27703094482422 valid_accu=0.0\n",
      "lr=0.01 epoch=23 train_loss=0.0 train_accu=1.0 valid_loss=80.60746765136719 valid_accu=0.0\n",
      "lr=0.01 epoch=24 train_loss=0.0 train_accu=1.0 valid_loss=81.82887268066406 valid_accu=0.0\n",
      "lr=0.01 epoch=25 train_loss=0.0 train_accu=1.0 valid_loss=82.94949340820312 valid_accu=0.0\n",
      "lr=0.01 epoch=26 train_loss=0.0 train_accu=1.0 valid_loss=83.97702026367188 valid_accu=0.0\n",
      "lr=0.01 epoch=27 train_loss=0.0 train_accu=1.0 valid_loss=84.91864776611328 valid_accu=0.0\n",
      "lr=0.01 epoch=28 train_loss=0.0 train_accu=1.0 valid_loss=85.78109741210938 valid_accu=0.0\n",
      "lr=0.01 epoch=29 train_loss=0.0 train_accu=1.0 valid_loss=86.57063293457031 valid_accu=0.0\n",
      "lr=0.01 epoch=30 train_loss=0.0 train_accu=1.0 valid_loss=87.29304504394531 valid_accu=0.0\n",
      "lr=0.01 epoch=31 train_loss=0.0 train_accu=1.0 valid_loss=87.9537353515625 valid_accu=0.0\n",
      "lr=0.01 epoch=32 train_loss=0.0 train_accu=1.0 valid_loss=88.55772399902344 valid_accu=0.0\n",
      "lr=0.01 epoch=33 train_loss=0.0 train_accu=1.0 valid_loss=89.10962677001953 valid_accu=0.0\n",
      "lr=0.01 epoch=34 train_loss=0.0 train_accu=1.0 valid_loss=89.61373901367188 valid_accu=0.0\n",
      "lr=0.01 epoch=35 train_loss=0.0 train_accu=1.0 valid_loss=90.07402038574219 valid_accu=0.0\n"
     ]
    },
    {
     "name": "stderr",
     "output_type": "stream",
     "text": [
      "<ipython-input-160-89706fee0790>:18: FutureWarning: The frame.append method is deprecated and will be removed from pandas in a future version. Use pandas.concat instead.\n",
      "  df = df.append({\"Lr\":learning_rate,\n",
      "<ipython-input-160-89706fee0790>:18: FutureWarning: The frame.append method is deprecated and will be removed from pandas in a future version. Use pandas.concat instead.\n",
      "  df = df.append({\"Lr\":learning_rate,\n",
      "<ipython-input-160-89706fee0790>:18: FutureWarning: The frame.append method is deprecated and will be removed from pandas in a future version. Use pandas.concat instead.\n",
      "  df = df.append({\"Lr\":learning_rate,\n",
      "<ipython-input-160-89706fee0790>:18: FutureWarning: The frame.append method is deprecated and will be removed from pandas in a future version. Use pandas.concat instead.\n",
      "  df = df.append({\"Lr\":learning_rate,\n",
      "<ipython-input-160-89706fee0790>:18: FutureWarning: The frame.append method is deprecated and will be removed from pandas in a future version. Use pandas.concat instead.\n",
      "  df = df.append({\"Lr\":learning_rate,\n",
      "<ipython-input-160-89706fee0790>:18: FutureWarning: The frame.append method is deprecated and will be removed from pandas in a future version. Use pandas.concat instead.\n",
      "  df = df.append({\"Lr\":learning_rate,\n",
      "<ipython-input-160-89706fee0790>:18: FutureWarning: The frame.append method is deprecated and will be removed from pandas in a future version. Use pandas.concat instead.\n",
      "  df = df.append({\"Lr\":learning_rate,\n",
      "<ipython-input-160-89706fee0790>:18: FutureWarning: The frame.append method is deprecated and will be removed from pandas in a future version. Use pandas.concat instead.\n",
      "  df = df.append({\"Lr\":learning_rate,\n",
      "<ipython-input-160-89706fee0790>:18: FutureWarning: The frame.append method is deprecated and will be removed from pandas in a future version. Use pandas.concat instead.\n",
      "  df = df.append({\"Lr\":learning_rate,\n",
      "<ipython-input-160-89706fee0790>:18: FutureWarning: The frame.append method is deprecated and will be removed from pandas in a future version. Use pandas.concat instead.\n",
      "  df = df.append({\"Lr\":learning_rate,\n",
      "<ipython-input-160-89706fee0790>:18: FutureWarning: The frame.append method is deprecated and will be removed from pandas in a future version. Use pandas.concat instead.\n",
      "  df = df.append({\"Lr\":learning_rate,\n",
      "<ipython-input-160-89706fee0790>:18: FutureWarning: The frame.append method is deprecated and will be removed from pandas in a future version. Use pandas.concat instead.\n",
      "  df = df.append({\"Lr\":learning_rate,\n",
      "<ipython-input-160-89706fee0790>:18: FutureWarning: The frame.append method is deprecated and will be removed from pandas in a future version. Use pandas.concat instead.\n",
      "  df = df.append({\"Lr\":learning_rate,\n",
      "<ipython-input-160-89706fee0790>:18: FutureWarning: The frame.append method is deprecated and will be removed from pandas in a future version. Use pandas.concat instead.\n",
      "  df = df.append({\"Lr\":learning_rate,\n",
      "<ipython-input-160-89706fee0790>:18: FutureWarning: The frame.append method is deprecated and will be removed from pandas in a future version. Use pandas.concat instead.\n",
      "  df = df.append({\"Lr\":learning_rate,\n",
      "<ipython-input-160-89706fee0790>:18: FutureWarning: The frame.append method is deprecated and will be removed from pandas in a future version. Use pandas.concat instead.\n",
      "  df = df.append({\"Lr\":learning_rate,\n",
      "<ipython-input-160-89706fee0790>:18: FutureWarning: The frame.append method is deprecated and will be removed from pandas in a future version. Use pandas.concat instead.\n",
      "  df = df.append({\"Lr\":learning_rate,\n",
      "<ipython-input-160-89706fee0790>:18: FutureWarning: The frame.append method is deprecated and will be removed from pandas in a future version. Use pandas.concat instead.\n",
      "  df = df.append({\"Lr\":learning_rate,\n",
      "<ipython-input-160-89706fee0790>:18: FutureWarning: The frame.append method is deprecated and will be removed from pandas in a future version. Use pandas.concat instead.\n",
      "  df = df.append({\"Lr\":learning_rate,\n"
     ]
    },
    {
     "name": "stdout",
     "output_type": "stream",
     "text": [
      "lr=0.01 epoch=36 train_loss=0.0 train_accu=1.0 valid_loss=90.49413299560547 valid_accu=0.0\n",
      "lr=0.01 epoch=37 train_loss=0.0 train_accu=1.0 valid_loss=90.87742614746094 valid_accu=0.0\n",
      "lr=0.01 epoch=38 train_loss=0.0 train_accu=1.0 valid_loss=91.22703552246094 valid_accu=0.0\n",
      "lr=0.01 epoch=39 train_loss=0.0 train_accu=1.0 valid_loss=91.5457992553711 valid_accu=0.0\n",
      "lr=0.001 epoch=0 train_loss=1.8405505418777466 train_accu=1.0 valid_loss=2.406906843185425 valid_accu=0.0\n",
      "lr=0.001 epoch=1 train_loss=1.438433051109314 train_accu=1.0 valid_loss=2.455456018447876 valid_accu=0.0\n",
      "lr=0.001 epoch=2 train_loss=1.1046521663665771 train_accu=1.0 valid_loss=2.5034024715423584 valid_accu=0.0\n",
      "lr=0.001 epoch=3 train_loss=0.8157387971878052 train_accu=1.0 valid_loss=2.565998077392578 valid_accu=0.0\n",
      "lr=0.001 epoch=4 train_loss=0.5675080418586731 train_accu=1.0 valid_loss=2.6581711769104004 valid_accu=0.0\n",
      "lr=0.001 epoch=5 train_loss=0.3731674253940582 train_accu=1.0 valid_loss=2.7805886268615723 valid_accu=0.0\n",
      "lr=0.001 epoch=6 train_loss=0.23263879120349884 train_accu=1.0 valid_loss=2.9407999515533447 valid_accu=0.0\n",
      "lr=0.001 epoch=7 train_loss=0.139282688498497 train_accu=1.0 valid_loss=3.13687801361084 valid_accu=0.0\n",
      "lr=0.001 epoch=8 train_loss=0.08185740560293198 train_accu=1.0 valid_loss=3.3644981384277344 valid_accu=0.0\n",
      "lr=0.001 epoch=9 train_loss=0.04762573167681694 train_accu=1.0 valid_loss=3.6209354400634766 valid_accu=0.0\n",
      "lr=0.001 epoch=10 train_loss=0.02797110565006733 train_accu=1.0 valid_loss=3.8942151069641113 valid_accu=0.0\n",
      "lr=0.001 epoch=11 train_loss=0.016727661713957787 train_accu=1.0 valid_loss=4.175153732299805 valid_accu=0.0\n",
      "lr=0.001 epoch=12 train_loss=0.010160154663026333 train_accu=1.0 valid_loss=4.460141658782959 valid_accu=0.0\n",
      "lr=0.001 epoch=13 train_loss=0.006345481611788273 train_accu=1.0 valid_loss=4.738359451293945 valid_accu=0.0\n",
      "lr=0.001 epoch=14 train_loss=0.004076386336237192 train_accu=1.0 valid_loss=5.006282806396484 valid_accu=0.0\n"
     ]
    },
    {
     "name": "stderr",
     "output_type": "stream",
     "text": [
      "<ipython-input-160-89706fee0790>:18: FutureWarning: The frame.append method is deprecated and will be removed from pandas in a future version. Use pandas.concat instead.\n",
      "  df = df.append({\"Lr\":learning_rate,\n",
      "<ipython-input-160-89706fee0790>:18: FutureWarning: The frame.append method is deprecated and will be removed from pandas in a future version. Use pandas.concat instead.\n",
      "  df = df.append({\"Lr\":learning_rate,\n",
      "<ipython-input-160-89706fee0790>:18: FutureWarning: The frame.append method is deprecated and will be removed from pandas in a future version. Use pandas.concat instead.\n",
      "  df = df.append({\"Lr\":learning_rate,\n",
      "<ipython-input-160-89706fee0790>:18: FutureWarning: The frame.append method is deprecated and will be removed from pandas in a future version. Use pandas.concat instead.\n",
      "  df = df.append({\"Lr\":learning_rate,\n",
      "<ipython-input-160-89706fee0790>:18: FutureWarning: The frame.append method is deprecated and will be removed from pandas in a future version. Use pandas.concat instead.\n",
      "  df = df.append({\"Lr\":learning_rate,\n",
      "<ipython-input-160-89706fee0790>:18: FutureWarning: The frame.append method is deprecated and will be removed from pandas in a future version. Use pandas.concat instead.\n",
      "  df = df.append({\"Lr\":learning_rate,\n",
      "<ipython-input-160-89706fee0790>:18: FutureWarning: The frame.append method is deprecated and will be removed from pandas in a future version. Use pandas.concat instead.\n",
      "  df = df.append({\"Lr\":learning_rate,\n",
      "<ipython-input-160-89706fee0790>:18: FutureWarning: The frame.append method is deprecated and will be removed from pandas in a future version. Use pandas.concat instead.\n",
      "  df = df.append({\"Lr\":learning_rate,\n",
      "<ipython-input-160-89706fee0790>:18: FutureWarning: The frame.append method is deprecated and will be removed from pandas in a future version. Use pandas.concat instead.\n",
      "  df = df.append({\"Lr\":learning_rate,\n",
      "<ipython-input-160-89706fee0790>:18: FutureWarning: The frame.append method is deprecated and will be removed from pandas in a future version. Use pandas.concat instead.\n",
      "  df = df.append({\"Lr\":learning_rate,\n",
      "<ipython-input-160-89706fee0790>:18: FutureWarning: The frame.append method is deprecated and will be removed from pandas in a future version. Use pandas.concat instead.\n",
      "  df = df.append({\"Lr\":learning_rate,\n",
      "<ipython-input-160-89706fee0790>:18: FutureWarning: The frame.append method is deprecated and will be removed from pandas in a future version. Use pandas.concat instead.\n",
      "  df = df.append({\"Lr\":learning_rate,\n",
      "<ipython-input-160-89706fee0790>:18: FutureWarning: The frame.append method is deprecated and will be removed from pandas in a future version. Use pandas.concat instead.\n",
      "  df = df.append({\"Lr\":learning_rate,\n",
      "<ipython-input-160-89706fee0790>:18: FutureWarning: The frame.append method is deprecated and will be removed from pandas in a future version. Use pandas.concat instead.\n",
      "  df = df.append({\"Lr\":learning_rate,\n",
      "<ipython-input-160-89706fee0790>:18: FutureWarning: The frame.append method is deprecated and will be removed from pandas in a future version. Use pandas.concat instead.\n",
      "  df = df.append({\"Lr\":learning_rate,\n",
      "<ipython-input-160-89706fee0790>:18: FutureWarning: The frame.append method is deprecated and will be removed from pandas in a future version. Use pandas.concat instead.\n",
      "  df = df.append({\"Lr\":learning_rate,\n",
      "<ipython-input-160-89706fee0790>:18: FutureWarning: The frame.append method is deprecated and will be removed from pandas in a future version. Use pandas.concat instead.\n",
      "  df = df.append({\"Lr\":learning_rate,\n",
      "<ipython-input-160-89706fee0790>:18: FutureWarning: The frame.append method is deprecated and will be removed from pandas in a future version. Use pandas.concat instead.\n",
      "  df = df.append({\"Lr\":learning_rate,\n",
      "<ipython-input-160-89706fee0790>:18: FutureWarning: The frame.append method is deprecated and will be removed from pandas in a future version. Use pandas.concat instead.\n",
      "  df = df.append({\"Lr\":learning_rate,\n"
     ]
    },
    {
     "name": "stdout",
     "output_type": "stream",
     "text": [
      "lr=0.001 epoch=15 train_loss=0.0026935983914881945 train_accu=1.0 valid_loss=5.261538505554199 valid_accu=0.0\n",
      "lr=0.001 epoch=16 train_loss=0.001830213237553835 train_accu=1.0 valid_loss=5.502714157104492 valid_accu=0.0\n",
      "lr=0.001 epoch=17 train_loss=0.0012760362587869167 train_accu=1.0 valid_loss=5.7298994064331055 valid_accu=0.0\n",
      "lr=0.001 epoch=18 train_loss=0.0009126074146479368 train_accu=1.0 valid_loss=5.942551136016846 valid_accu=0.0\n",
      "lr=0.001 epoch=19 train_loss=0.000668659748043865 train_accu=1.0 valid_loss=6.140891075134277 valid_accu=0.0\n",
      "lr=0.001 epoch=20 train_loss=0.0005013877525925636 train_accu=1.0 valid_loss=6.3251752853393555 valid_accu=0.0\n",
      "lr=0.001 epoch=21 train_loss=0.00038413776201196015 train_accu=1.0 valid_loss=6.496191024780273 valid_accu=0.0\n",
      "lr=0.001 epoch=22 train_loss=0.0003003622987307608 train_accu=1.0 valid_loss=6.654672145843506 valid_accu=0.0\n",
      "lr=0.001 epoch=23 train_loss=0.00023922442051116377 train_accu=1.0 valid_loss=6.801158905029297 valid_accu=0.0\n",
      "lr=0.001 epoch=24 train_loss=0.00019405389321036637 train_accu=1.0 valid_loss=6.936346530914307 valid_accu=0.0\n",
      "lr=0.001 epoch=25 train_loss=0.0001599660754436627 train_accu=1.0 valid_loss=7.0609331130981445 valid_accu=0.0\n",
      "lr=0.001 epoch=26 train_loss=0.00013398226292338222 train_accu=1.0 valid_loss=7.175570964813232 valid_accu=0.0\n",
      "lr=0.001 epoch=27 train_loss=0.00011395759065635502 train_accu=1.0 valid_loss=7.280974388122559 valid_accu=0.0\n",
      "lr=0.001 epoch=28 train_loss=9.810443589231e-05 train_accu=1.0 valid_loss=7.377815246582031 valid_accu=0.0\n",
      "lr=0.001 epoch=29 train_loss=8.546940807718784e-05 train_accu=1.0 valid_loss=7.466724395751953 valid_accu=0.0\n",
      "lr=0.001 epoch=30 train_loss=7.545663538621739e-05 train_accu=1.0 valid_loss=7.548272132873535 valid_accu=0.0\n",
      "lr=0.001 epoch=31 train_loss=6.711257447022945e-05 train_accu=1.0 valid_loss=7.623043060302734 valid_accu=0.0\n",
      "lr=0.001 epoch=32 train_loss=6.0437283536884934e-05 train_accu=1.0 valid_loss=7.691550254821777 valid_accu=0.0\n",
      "lr=0.001 epoch=33 train_loss=5.4834770708112046e-05 train_accu=1.0 valid_loss=7.7543044090271 valid_accu=0.0\n"
     ]
    },
    {
     "name": "stderr",
     "output_type": "stream",
     "text": [
      "<ipython-input-160-89706fee0790>:18: FutureWarning: The frame.append method is deprecated and will be removed from pandas in a future version. Use pandas.concat instead.\n",
      "  df = df.append({\"Lr\":learning_rate,\n",
      "<ipython-input-160-89706fee0790>:18: FutureWarning: The frame.append method is deprecated and will be removed from pandas in a future version. Use pandas.concat instead.\n",
      "  df = df.append({\"Lr\":learning_rate,\n",
      "<ipython-input-160-89706fee0790>:18: FutureWarning: The frame.append method is deprecated and will be removed from pandas in a future version. Use pandas.concat instead.\n",
      "  df = df.append({\"Lr\":learning_rate,\n",
      "<ipython-input-160-89706fee0790>:18: FutureWarning: The frame.append method is deprecated and will be removed from pandas in a future version. Use pandas.concat instead.\n",
      "  df = df.append({\"Lr\":learning_rate,\n",
      "<ipython-input-160-89706fee0790>:18: FutureWarning: The frame.append method is deprecated and will be removed from pandas in a future version. Use pandas.concat instead.\n",
      "  df = df.append({\"Lr\":learning_rate,\n",
      "<ipython-input-160-89706fee0790>:18: FutureWarning: The frame.append method is deprecated and will be removed from pandas in a future version. Use pandas.concat instead.\n",
      "  df = df.append({\"Lr\":learning_rate,\n",
      "<ipython-input-160-89706fee0790>:18: FutureWarning: The frame.append method is deprecated and will be removed from pandas in a future version. Use pandas.concat instead.\n",
      "  df = df.append({\"Lr\":learning_rate,\n",
      "<ipython-input-160-89706fee0790>:18: FutureWarning: The frame.append method is deprecated and will be removed from pandas in a future version. Use pandas.concat instead.\n",
      "  df = df.append({\"Lr\":learning_rate,\n",
      "<ipython-input-160-89706fee0790>:18: FutureWarning: The frame.append method is deprecated and will be removed from pandas in a future version. Use pandas.concat instead.\n",
      "  df = df.append({\"Lr\":learning_rate,\n",
      "<ipython-input-160-89706fee0790>:18: FutureWarning: The frame.append method is deprecated and will be removed from pandas in a future version. Use pandas.concat instead.\n",
      "  df = df.append({\"Lr\":learning_rate,\n",
      "<ipython-input-160-89706fee0790>:18: FutureWarning: The frame.append method is deprecated and will be removed from pandas in a future version. Use pandas.concat instead.\n",
      "  df = df.append({\"Lr\":learning_rate,\n",
      "<ipython-input-160-89706fee0790>:18: FutureWarning: The frame.append method is deprecated and will be removed from pandas in a future version. Use pandas.concat instead.\n",
      "  df = df.append({\"Lr\":learning_rate,\n",
      "<ipython-input-160-89706fee0790>:18: FutureWarning: The frame.append method is deprecated and will be removed from pandas in a future version. Use pandas.concat instead.\n",
      "  df = df.append({\"Lr\":learning_rate,\n",
      "<ipython-input-160-89706fee0790>:18: FutureWarning: The frame.append method is deprecated and will be removed from pandas in a future version. Use pandas.concat instead.\n",
      "  df = df.append({\"Lr\":learning_rate,\n",
      "<ipython-input-160-89706fee0790>:18: FutureWarning: The frame.append method is deprecated and will be removed from pandas in a future version. Use pandas.concat instead.\n",
      "  df = df.append({\"Lr\":learning_rate,\n",
      "<ipython-input-160-89706fee0790>:18: FutureWarning: The frame.append method is deprecated and will be removed from pandas in a future version. Use pandas.concat instead.\n",
      "  df = df.append({\"Lr\":learning_rate,\n",
      "<ipython-input-160-89706fee0790>:18: FutureWarning: The frame.append method is deprecated and will be removed from pandas in a future version. Use pandas.concat instead.\n",
      "  df = df.append({\"Lr\":learning_rate,\n",
      "<ipython-input-160-89706fee0790>:18: FutureWarning: The frame.append method is deprecated and will be removed from pandas in a future version. Use pandas.concat instead.\n",
      "  df = df.append({\"Lr\":learning_rate,\n",
      "<ipython-input-160-89706fee0790>:18: FutureWarning: The frame.append method is deprecated and will be removed from pandas in a future version. Use pandas.concat instead.\n",
      "  df = df.append({\"Lr\":learning_rate,\n"
     ]
    },
    {
     "name": "stdout",
     "output_type": "stream",
     "text": [
      "lr=0.001 epoch=34 train_loss=5.018585216021165e-05 train_accu=1.0 valid_loss=7.811725616455078 valid_accu=0.0\n",
      "lr=0.001 epoch=35 train_loss=4.625213477993384e-05 train_accu=1.0 valid_loss=7.864267826080322 valid_accu=0.0\n",
      "lr=0.001 epoch=36 train_loss=4.303362584323622e-05 train_accu=1.0 valid_loss=7.9123125076293945 valid_accu=0.0\n",
      "lr=0.001 epoch=37 train_loss=4.029192859889008e-05 train_accu=1.0 valid_loss=7.956259727478027 valid_accu=0.0\n",
      "lr=0.001 epoch=38 train_loss=3.7788631743751466e-05 train_accu=1.0 valid_loss=7.996408939361572 valid_accu=0.0\n",
      "lr=0.001 epoch=39 train_loss=3.576214658096433e-05 train_accu=1.0 valid_loss=8.033095359802246 valid_accu=0.0\n",
      "CPU times: user 1.35 s, sys: 34.1 ms, total: 1.39 s\n",
      "Wall time: 1.37 s\n"
     ]
    },
    {
     "name": "stderr",
     "output_type": "stream",
     "text": [
      "<ipython-input-160-89706fee0790>:18: FutureWarning: The frame.append method is deprecated and will be removed from pandas in a future version. Use pandas.concat instead.\n",
      "  df = df.append({\"Lr\":learning_rate,\n",
      "<ipython-input-160-89706fee0790>:18: FutureWarning: The frame.append method is deprecated and will be removed from pandas in a future version. Use pandas.concat instead.\n",
      "  df = df.append({\"Lr\":learning_rate,\n",
      "<ipython-input-160-89706fee0790>:18: FutureWarning: The frame.append method is deprecated and will be removed from pandas in a future version. Use pandas.concat instead.\n",
      "  df = df.append({\"Lr\":learning_rate,\n",
      "<ipython-input-160-89706fee0790>:18: FutureWarning: The frame.append method is deprecated and will be removed from pandas in a future version. Use pandas.concat instead.\n",
      "  df = df.append({\"Lr\":learning_rate,\n",
      "<ipython-input-160-89706fee0790>:18: FutureWarning: The frame.append method is deprecated and will be removed from pandas in a future version. Use pandas.concat instead.\n",
      "  df = df.append({\"Lr\":learning_rate,\n",
      "<ipython-input-160-89706fee0790>:18: FutureWarning: The frame.append method is deprecated and will be removed from pandas in a future version. Use pandas.concat instead.\n",
      "  df = df.append({\"Lr\":learning_rate,\n"
     ]
    },
    {
     "data": {
      "text/html": [
       "\n",
       "  <div id=\"df-a69aa832-4882-4f75-97fd-8d9d5be2ef77\" class=\"colab-df-container\">\n",
       "    <div>\n",
       "<style scoped>\n",
       "    .dataframe tbody tr th:only-of-type {\n",
       "        vertical-align: middle;\n",
       "    }\n",
       "\n",
       "    .dataframe tbody tr th {\n",
       "        vertical-align: top;\n",
       "    }\n",
       "\n",
       "    .dataframe thead th {\n",
       "        text-align: right;\n",
       "    }\n",
       "</style>\n",
       "<table border=\"1\" class=\"dataframe\">\n",
       "  <thead>\n",
       "    <tr style=\"text-align: right;\">\n",
       "      <th></th>\n",
       "      <th>Lr</th>\n",
       "      <th>epoch</th>\n",
       "      <th>train_loss</th>\n",
       "      <th>train_accu</th>\n",
       "      <th>valid_loss</th>\n",
       "      <th>valid_accu</th>\n",
       "      <th>model</th>\n",
       "    </tr>\n",
       "  </thead>\n",
       "  <tbody>\n",
       "    <tr>\n",
       "      <th>0</th>\n",
       "      <td>0.100</td>\n",
       "      <td>0</td>\n",
       "      <td>0.000000</td>\n",
       "      <td>1.0</td>\n",
       "      <td>167.471802</td>\n",
       "      <td>0.0</td>\n",
       "      <td>ManualDropOut</td>\n",
       "    </tr>\n",
       "    <tr>\n",
       "      <th>1</th>\n",
       "      <td>0.100</td>\n",
       "      <td>1</td>\n",
       "      <td>0.000000</td>\n",
       "      <td>1.0</td>\n",
       "      <td>446.088379</td>\n",
       "      <td>0.0</td>\n",
       "      <td>ManualDropOut</td>\n",
       "    </tr>\n",
       "    <tr>\n",
       "      <th>2</th>\n",
       "      <td>0.100</td>\n",
       "      <td>2</td>\n",
       "      <td>0.000000</td>\n",
       "      <td>1.0</td>\n",
       "      <td>752.984619</td>\n",
       "      <td>0.0</td>\n",
       "      <td>ManualDropOut</td>\n",
       "    </tr>\n",
       "    <tr>\n",
       "      <th>3</th>\n",
       "      <td>0.100</td>\n",
       "      <td>3</td>\n",
       "      <td>0.000000</td>\n",
       "      <td>1.0</td>\n",
       "      <td>1063.836182</td>\n",
       "      <td>0.0</td>\n",
       "      <td>ManualDropOut</td>\n",
       "    </tr>\n",
       "    <tr>\n",
       "      <th>4</th>\n",
       "      <td>0.100</td>\n",
       "      <td>4</td>\n",
       "      <td>0.000000</td>\n",
       "      <td>1.0</td>\n",
       "      <td>1368.335693</td>\n",
       "      <td>0.0</td>\n",
       "      <td>ManualDropOut</td>\n",
       "    </tr>\n",
       "    <tr>\n",
       "      <th>...</th>\n",
       "      <td>...</td>\n",
       "      <td>...</td>\n",
       "      <td>...</td>\n",
       "      <td>...</td>\n",
       "      <td>...</td>\n",
       "      <td>...</td>\n",
       "      <td>...</td>\n",
       "    </tr>\n",
       "    <tr>\n",
       "      <th>115</th>\n",
       "      <td>0.001</td>\n",
       "      <td>35</td>\n",
       "      <td>0.000046</td>\n",
       "      <td>1.0</td>\n",
       "      <td>7.864268</td>\n",
       "      <td>0.0</td>\n",
       "      <td>ManualDropOut</td>\n",
       "    </tr>\n",
       "    <tr>\n",
       "      <th>116</th>\n",
       "      <td>0.001</td>\n",
       "      <td>36</td>\n",
       "      <td>0.000043</td>\n",
       "      <td>1.0</td>\n",
       "      <td>7.912313</td>\n",
       "      <td>0.0</td>\n",
       "      <td>ManualDropOut</td>\n",
       "    </tr>\n",
       "    <tr>\n",
       "      <th>117</th>\n",
       "      <td>0.001</td>\n",
       "      <td>37</td>\n",
       "      <td>0.000040</td>\n",
       "      <td>1.0</td>\n",
       "      <td>7.956260</td>\n",
       "      <td>0.0</td>\n",
       "      <td>ManualDropOut</td>\n",
       "    </tr>\n",
       "    <tr>\n",
       "      <th>118</th>\n",
       "      <td>0.001</td>\n",
       "      <td>38</td>\n",
       "      <td>0.000038</td>\n",
       "      <td>1.0</td>\n",
       "      <td>7.996409</td>\n",
       "      <td>0.0</td>\n",
       "      <td>ManualDropOut</td>\n",
       "    </tr>\n",
       "    <tr>\n",
       "      <th>119</th>\n",
       "      <td>0.001</td>\n",
       "      <td>39</td>\n",
       "      <td>0.000036</td>\n",
       "      <td>1.0</td>\n",
       "      <td>8.033095</td>\n",
       "      <td>0.0</td>\n",
       "      <td>ManualDropOut</td>\n",
       "    </tr>\n",
       "  </tbody>\n",
       "</table>\n",
       "<p>120 rows × 7 columns</p>\n",
       "</div>\n",
       "    <div class=\"colab-df-buttons\">\n",
       "\n",
       "  <div class=\"colab-df-container\">\n",
       "    <button class=\"colab-df-convert\" onclick=\"convertToInteractive('df-a69aa832-4882-4f75-97fd-8d9d5be2ef77')\"\n",
       "            title=\"Convert this dataframe to an interactive table.\"\n",
       "            style=\"display:none;\">\n",
       "\n",
       "  <svg xmlns=\"http://www.w3.org/2000/svg\" height=\"24px\" viewBox=\"0 -960 960 960\">\n",
       "    <path d=\"M120-120v-720h720v720H120Zm60-500h600v-160H180v160Zm220 220h160v-160H400v160Zm0 220h160v-160H400v160ZM180-400h160v-160H180v160Zm440 0h160v-160H620v160ZM180-180h160v-160H180v160Zm440 0h160v-160H620v160Z\"/>\n",
       "  </svg>\n",
       "    </button>\n",
       "\n",
       "  <style>\n",
       "    .colab-df-container {\n",
       "      display:flex;\n",
       "      gap: 12px;\n",
       "    }\n",
       "\n",
       "    .colab-df-convert {\n",
       "      background-color: #E8F0FE;\n",
       "      border: none;\n",
       "      border-radius: 50%;\n",
       "      cursor: pointer;\n",
       "      display: none;\n",
       "      fill: #1967D2;\n",
       "      height: 32px;\n",
       "      padding: 0 0 0 0;\n",
       "      width: 32px;\n",
       "    }\n",
       "\n",
       "    .colab-df-convert:hover {\n",
       "      background-color: #E2EBFA;\n",
       "      box-shadow: 0px 1px 2px rgba(60, 64, 67, 0.3), 0px 1px 3px 1px rgba(60, 64, 67, 0.15);\n",
       "      fill: #174EA6;\n",
       "    }\n",
       "\n",
       "    .colab-df-buttons div {\n",
       "      margin-bottom: 4px;\n",
       "    }\n",
       "\n",
       "    [theme=dark] .colab-df-convert {\n",
       "      background-color: #3B4455;\n",
       "      fill: #D2E3FC;\n",
       "    }\n",
       "\n",
       "    [theme=dark] .colab-df-convert:hover {\n",
       "      background-color: #434B5C;\n",
       "      box-shadow: 0px 1px 3px 1px rgba(0, 0, 0, 0.15);\n",
       "      filter: drop-shadow(0px 1px 2px rgba(0, 0, 0, 0.3));\n",
       "      fill: #FFFFFF;\n",
       "    }\n",
       "  </style>\n",
       "\n",
       "    <script>\n",
       "      const buttonEl =\n",
       "        document.querySelector('#df-a69aa832-4882-4f75-97fd-8d9d5be2ef77 button.colab-df-convert');\n",
       "      buttonEl.style.display =\n",
       "        google.colab.kernel.accessAllowed ? 'block' : 'none';\n",
       "\n",
       "      async function convertToInteractive(key) {\n",
       "        const element = document.querySelector('#df-a69aa832-4882-4f75-97fd-8d9d5be2ef77');\n",
       "        const dataTable =\n",
       "          await google.colab.kernel.invokeFunction('convertToInteractive',\n",
       "                                                    [key], {});\n",
       "        if (!dataTable) return;\n",
       "\n",
       "        const docLinkHtml = 'Like what you see? Visit the ' +\n",
       "          '<a target=\"_blank\" href=https://colab.research.google.com/notebooks/data_table.ipynb>data table notebook</a>'\n",
       "          + ' to learn more about interactive tables.';\n",
       "        element.innerHTML = '';\n",
       "        dataTable['output_type'] = 'display_data';\n",
       "        await google.colab.output.renderOutput(dataTable, element);\n",
       "        const docLink = document.createElement('div');\n",
       "        docLink.innerHTML = docLinkHtml;\n",
       "        element.appendChild(docLink);\n",
       "      }\n",
       "    </script>\n",
       "  </div>\n",
       "\n",
       "\n",
       "<div id=\"df-db37f6e9-8eed-4085-a0db-7a27e0cab3c1\">\n",
       "  <button class=\"colab-df-quickchart\" onclick=\"quickchart('df-db37f6e9-8eed-4085-a0db-7a27e0cab3c1')\"\n",
       "            title=\"Suggest charts.\"\n",
       "            style=\"display:none;\">\n",
       "\n",
       "<svg xmlns=\"http://www.w3.org/2000/svg\" height=\"24px\"viewBox=\"0 0 24 24\"\n",
       "     width=\"24px\">\n",
       "    <g>\n",
       "        <path d=\"M19 3H5c-1.1 0-2 .9-2 2v14c0 1.1.9 2 2 2h14c1.1 0 2-.9 2-2V5c0-1.1-.9-2-2-2zM9 17H7v-7h2v7zm4 0h-2V7h2v10zm4 0h-2v-4h2v4z\"/>\n",
       "    </g>\n",
       "</svg>\n",
       "  </button>\n",
       "\n",
       "<style>\n",
       "  .colab-df-quickchart {\n",
       "      --bg-color: #E8F0FE;\n",
       "      --fill-color: #1967D2;\n",
       "      --hover-bg-color: #E2EBFA;\n",
       "      --hover-fill-color: #174EA6;\n",
       "      --disabled-fill-color: #AAA;\n",
       "      --disabled-bg-color: #DDD;\n",
       "  }\n",
       "\n",
       "  [theme=dark] .colab-df-quickchart {\n",
       "      --bg-color: #3B4455;\n",
       "      --fill-color: #D2E3FC;\n",
       "      --hover-bg-color: #434B5C;\n",
       "      --hover-fill-color: #FFFFFF;\n",
       "      --disabled-bg-color: #3B4455;\n",
       "      --disabled-fill-color: #666;\n",
       "  }\n",
       "\n",
       "  .colab-df-quickchart {\n",
       "    background-color: var(--bg-color);\n",
       "    border: none;\n",
       "    border-radius: 50%;\n",
       "    cursor: pointer;\n",
       "    display: none;\n",
       "    fill: var(--fill-color);\n",
       "    height: 32px;\n",
       "    padding: 0;\n",
       "    width: 32px;\n",
       "  }\n",
       "\n",
       "  .colab-df-quickchart:hover {\n",
       "    background-color: var(--hover-bg-color);\n",
       "    box-shadow: 0 1px 2px rgba(60, 64, 67, 0.3), 0 1px 3px 1px rgba(60, 64, 67, 0.15);\n",
       "    fill: var(--button-hover-fill-color);\n",
       "  }\n",
       "\n",
       "  .colab-df-quickchart-complete:disabled,\n",
       "  .colab-df-quickchart-complete:disabled:hover {\n",
       "    background-color: var(--disabled-bg-color);\n",
       "    fill: var(--disabled-fill-color);\n",
       "    box-shadow: none;\n",
       "  }\n",
       "\n",
       "  .colab-df-spinner {\n",
       "    border: 2px solid var(--fill-color);\n",
       "    border-color: transparent;\n",
       "    border-bottom-color: var(--fill-color);\n",
       "    animation:\n",
       "      spin 1s steps(1) infinite;\n",
       "  }\n",
       "\n",
       "  @keyframes spin {\n",
       "    0% {\n",
       "      border-color: transparent;\n",
       "      border-bottom-color: var(--fill-color);\n",
       "      border-left-color: var(--fill-color);\n",
       "    }\n",
       "    20% {\n",
       "      border-color: transparent;\n",
       "      border-left-color: var(--fill-color);\n",
       "      border-top-color: var(--fill-color);\n",
       "    }\n",
       "    30% {\n",
       "      border-color: transparent;\n",
       "      border-left-color: var(--fill-color);\n",
       "      border-top-color: var(--fill-color);\n",
       "      border-right-color: var(--fill-color);\n",
       "    }\n",
       "    40% {\n",
       "      border-color: transparent;\n",
       "      border-right-color: var(--fill-color);\n",
       "      border-top-color: var(--fill-color);\n",
       "    }\n",
       "    60% {\n",
       "      border-color: transparent;\n",
       "      border-right-color: var(--fill-color);\n",
       "    }\n",
       "    80% {\n",
       "      border-color: transparent;\n",
       "      border-right-color: var(--fill-color);\n",
       "      border-bottom-color: var(--fill-color);\n",
       "    }\n",
       "    90% {\n",
       "      border-color: transparent;\n",
       "      border-bottom-color: var(--fill-color);\n",
       "    }\n",
       "  }\n",
       "</style>\n",
       "\n",
       "  <script>\n",
       "    async function quickchart(key) {\n",
       "      const quickchartButtonEl =\n",
       "        document.querySelector('#' + key + ' button');\n",
       "      quickchartButtonEl.disabled = true;  // To prevent multiple clicks.\n",
       "      quickchartButtonEl.classList.add('colab-df-spinner');\n",
       "      try {\n",
       "        const charts = await google.colab.kernel.invokeFunction(\n",
       "            'suggestCharts', [key], {});\n",
       "      } catch (error) {\n",
       "        console.error('Error during call to suggestCharts:', error);\n",
       "      }\n",
       "      quickchartButtonEl.classList.remove('colab-df-spinner');\n",
       "      quickchartButtonEl.classList.add('colab-df-quickchart-complete');\n",
       "    }\n",
       "    (() => {\n",
       "      let quickchartButtonEl =\n",
       "        document.querySelector('#df-db37f6e9-8eed-4085-a0db-7a27e0cab3c1 button');\n",
       "      quickchartButtonEl.style.display =\n",
       "        google.colab.kernel.accessAllowed ? 'block' : 'none';\n",
       "    })();\n",
       "  </script>\n",
       "</div>\n",
       "    </div>\n",
       "  </div>\n"
      ],
      "text/plain": [
       "        Lr  epoch  train_loss  train_accu   valid_loss  valid_accu  \\\n",
       "0    0.100      0    0.000000         1.0   167.471802         0.0   \n",
       "1    0.100      1    0.000000         1.0   446.088379         0.0   \n",
       "2    0.100      2    0.000000         1.0   752.984619         0.0   \n",
       "3    0.100      3    0.000000         1.0  1063.836182         0.0   \n",
       "4    0.100      4    0.000000         1.0  1368.335693         0.0   \n",
       "..     ...    ...         ...         ...          ...         ...   \n",
       "115  0.001     35    0.000046         1.0     7.864268         0.0   \n",
       "116  0.001     36    0.000043         1.0     7.912313         0.0   \n",
       "117  0.001     37    0.000040         1.0     7.956260         0.0   \n",
       "118  0.001     38    0.000038         1.0     7.996409         0.0   \n",
       "119  0.001     39    0.000036         1.0     8.033095         0.0   \n",
       "\n",
       "             model  \n",
       "0    ManualDropOut  \n",
       "1    ManualDropOut  \n",
       "2    ManualDropOut  \n",
       "3    ManualDropOut  \n",
       "4    ManualDropOut  \n",
       "..             ...  \n",
       "115  ManualDropOut  \n",
       "116  ManualDropOut  \n",
       "117  ManualDropOut  \n",
       "118  ManualDropOut  \n",
       "119  ManualDropOut  \n",
       "\n",
       "[120 rows x 7 columns]"
      ]
     },
     "execution_count": 163,
     "metadata": {},
     "output_type": "execute_result"
    }
   ],
   "source": [
    "df_prueba3 = pd.DataFrame()\n",
    "#model = ManualDropOut(1,512)\n",
    "%time  train_validation(ManualDropOut(1,512),train_ejemplo_loader,val_ejemplo_loader,df_prueba3)"
   ]
  },
  {
   "cell_type": "markdown",
   "id": "D8GiMq1DEMSF",
   "metadata": {
    "id": "D8GiMq1DEMSF"
   },
   "source": [
    "### Now we train and validate each model \n"
   ]
  },
  {
   "cell_type": "code",
   "execution_count": null,
   "id": "045ecfd8",
   "metadata": {
    "colab": {
     "base_uri": "https://localhost:8080/",
     "height": 217
    },
    "id": "045ecfd8",
    "outputId": "9ee4eda5-75a7-43c7-9db4-1130a04df8de"
   },
   "outputs": [
    {
     "ename": "TypeError",
     "evalue": "ignored",
     "output_type": "error",
     "traceback": [
      "\u001b[0;31m---------------------------------------------------------------------------\u001b[0m",
      "\u001b[0;31mTypeError\u001b[0m                                 Traceback (most recent call last)",
      "\u001b[0;32m<ipython-input-137-ed855c850e13>\u001b[0m in \u001b[0;36m<cell line: 1>\u001b[0;34m()\u001b[0m\n\u001b[0;32m----> 1\u001b[0;31m \u001b[0mmodel\u001b[0m \u001b[0;34m=\u001b[0m \u001b[0mNet\u001b[0m\u001b[0;34m(\u001b[0m\u001b[0;34m)\u001b[0m\u001b[0;34m\u001b[0m\u001b[0;34m\u001b[0m\u001b[0m\n\u001b[0m\u001b[1;32m      2\u001b[0m \u001b[0mmodel\u001b[0m\u001b[0;34m.\u001b[0m\u001b[0mto\u001b[0m\u001b[0;34m(\u001b[0m\u001b[0mdevice\u001b[0m\u001b[0;34m)\u001b[0m\u001b[0;34m\u001b[0m\u001b[0;34m\u001b[0m\u001b[0m\n\u001b[1;32m      3\u001b[0m \u001b[0mdf\u001b[0m \u001b[0;34m=\u001b[0m \u001b[0mtrain_validation\u001b[0m\u001b[0;34m(\u001b[0m\u001b[0mmodel\u001b[0m\u001b[0;34m,\u001b[0m\u001b[0mtrain_loader\u001b[0m\u001b[0;34m,\u001b[0m\u001b[0mtest_loader\u001b[0m\u001b[0;34m,\u001b[0m\u001b[0mdf\u001b[0m\u001b[0;34m)\u001b[0m\u001b[0;34m\u001b[0m\u001b[0;34m\u001b[0m\u001b[0m\n",
      "\u001b[0;31mTypeError\u001b[0m: Net.__init__() missing 1 required positional argument: 'n'"
     ]
    }
   ],
   "source": [
    "df_sin\n",
    "df_sin = train_validation(model,train_loader,test_loader,df_sin)"
   ]
  },
  {
   "cell_type": "code",
   "execution_count": null,
   "id": "61f8c7dc",
   "metadata": {
    "colab": {
     "base_uri": "https://localhost:8080/"
    },
    "id": "61f8c7dc",
    "outputId": "8eecfc91-de6c-4177-bffd-45da7aa1bb72"
   },
   "outputs": [
    {
     "name": "stderr",
     "output_type": "stream",
     "text": [
      "<ipython-input-29-9edd636534b7>:1: FutureWarning: pivot_table dropped a column because it failed to aggregate. This behavior is deprecated and will raise in a future version of pandas. Select only the columns that can be aggregated.\n",
      "  df3 = df.pivot_table(index=[\"Lr\",\"epoch\"],aggfunc=\"mean\").reset_index()\n"
     ]
    }
   ],
   "source": [
    "df1 = df_sin.pivot_table(index=[\"Lr\",\"epoch\"],aggfunc=\"mean\").reset_index()\n",
    "#df3"
   ]
  },
  {
   "cell_type": "code",
   "execution_count": null,
   "id": "a465f3d3",
   "metadata": {
    "colab": {
     "base_uri": "https://localhost:8080/",
     "height": 606
    },
    "id": "a465f3d3",
    "outputId": "5179c22e-2f9a-441e-f84a-a2772bd03b17"
   },
   "outputs": [
    {
     "data": {
      "image/png": "[encoded data removed]",
      "text/plain": [
       "<Figure size 1200x600 with 2 Axes>"
      ]
     },
     "metadata": {},
     "output_type": "display_data"
    }
   ],
   "source": [
    "from matplotlib import cm\n",
    "fig,axes=plt.subplots(1,2)\n",
    "fig.set_size_inches(12.0,6.0)\n",
    "colors = cm.Dark2.colors\n",
    "for color,learning_rate in zip(colors,df1[\"Lr\"].unique()):\n",
    "    dfn = df1[df1[\"Lr\"]==learning_rate]\n",
    "    x = dfn[\"epoch\"]\n",
    "    ax = axes[0]\n",
    "    ax.set_xlabel(\"epoch\")\n",
    "    ax.set_ylabel(\"loss\")\n",
    "    ax.plot(x+1,dfn[\"train_loss\"],label=f\"train lr={learning_rate}\",color=color)\n",
    "    ax.plot(x+1,dfn[\"valid_loss\"],label=f\"valid lr={learning_rate}\",color=color,linestyle='--')\n",
    "    ax.legend()\n",
    "    ax = axes[1]\n",
    "    ax.set_xlabel(\"epoch\")\n",
    "    ax.set_ylabel(\"accuracy\")\n",
    "    ax.plot(x+1,dfn[\"train_accu\"],label=f\"train lr={learning_rate}\",color=color)\n",
    "    ax.plot(x+1,dfn[\"valid_accu\"],label=f\"valid lr={learning_rate}\",color=color,linestyle='--')\n",
    "    ax.legend()\n",
    "fig.tight_layout()\n",
    "plt.show()"
   ]
  },
  {
   "cell_type": "markdown",
   "id": "pRN_uqzA8R1P",
   "metadata": {
    "id": "pRN_uqzA8R1P"
   },
   "source": [
    "## Entrenamiento modelo ManualDropOut()."
   ]
  },
  {
   "cell_type": "code",
   "execution_count": null,
   "id": "pTi75iugoUxp",
   "metadata": {
    "id": "pTi75iugoUxp"
   },
   "outputs": [],
   "source": [
    "df_manual = pd.DataFrame()"
   ]
  },
  {
   "cell_type": "code",
   "execution_count": null,
   "id": "h_Z5H8x8odlc",
   "metadata": {
    "id": "h_Z5H8x8odlc"
   },
   "outputs": [],
   "source": [
    "#modelo_manual = ManualDropOut(0.2,512)"
   ]
  },
  {
   "cell_type": "code",
   "execution_count": null,
   "id": "zwEvhC0HojtQ",
   "metadata": {
    "colab": {
     "base_uri": "https://localhost:8080/"
    },
    "id": "zwEvhC0HojtQ",
    "outputId": "abdc82ab-b8da-4af3-f91a-0a3dfc891f89"
   },
   "outputs": [
    {
     "name": "stdout",
     "output_type": "stream",
     "text": [
      "lr=0.1 epoch=0 train_loss=0.9762465579232682 train_accu=0.7260333333333333 valid_loss=0.9867617831488323 valid_accu=0.728\n"
     ]
    },
    {
     "name": "stderr",
     "output_type": "stream",
     "text": [
      "<ipython-input-22-89706fee0790>:18: FutureWarning: The frame.append method is deprecated and will be removed from pandas in a future version. Use pandas.concat instead.\n",
      "  df = df.append({\"Lr\":learning_rate,\n"
     ]
    },
    {
     "name": "stdout",
     "output_type": "stream",
     "text": [
      "lr=0.1 epoch=1 train_loss=1.1730810626864687 train_accu=0.6166333333333334 valid_loss=1.1869166884452673 valid_accu=0.6198\n"
     ]
    },
    {
     "name": "stderr",
     "output_type": "stream",
     "text": [
      "<ipython-input-22-89706fee0790>:18: FutureWarning: The frame.append method is deprecated and will be removed from pandas in a future version. Use pandas.concat instead.\n",
      "  df = df.append({\"Lr\":learning_rate,\n"
     ]
    },
    {
     "name": "stdout",
     "output_type": "stream",
     "text": [
      "lr=0.1 epoch=2 train_loss=1.238036762867401 train_accu=0.5802666666666667 valid_loss=1.2529322956777682 valid_accu=0.5806\n"
     ]
    },
    {
     "name": "stderr",
     "output_type": "stream",
     "text": [
      "<ipython-input-22-89706fee0790>:18: FutureWarning: The frame.append method is deprecated and will be removed from pandas in a future version. Use pandas.concat instead.\n",
      "  df = df.append({\"Lr\":learning_rate,\n"
     ]
    },
    {
     "name": "stdout",
     "output_type": "stream",
     "text": [
      "lr=0.1 epoch=3 train_loss=1.1701895140889864 train_accu=0.59585 valid_loss=1.2275634168819258 valid_accu=0.5953\n"
     ]
    },
    {
     "name": "stderr",
     "output_type": "stream",
     "text": [
      "<ipython-input-22-89706fee0790>:18: FutureWarning: The frame.append method is deprecated and will be removed from pandas in a future version. Use pandas.concat instead.\n",
      "  df = df.append({\"Lr\":learning_rate,\n"
     ]
    },
    {
     "name": "stdout",
     "output_type": "stream",
     "text": [
      "lr=0.1 epoch=4 train_loss=1.2751854973942487 train_accu=0.5400833333333334 valid_loss=1.4372465861071446 valid_accu=0.5338\n"
     ]
    },
    {
     "name": "stderr",
     "output_type": "stream",
     "text": [
      "<ipython-input-22-89706fee0790>:18: FutureWarning: The frame.append method is deprecated and will be removed from pandas in a future version. Use pandas.concat instead.\n",
      "  df = df.append({\"Lr\":learning_rate,\n"
     ]
    },
    {
     "name": "stdout",
     "output_type": "stream",
     "text": [
      "lr=0.1 epoch=5 train_loss=1.2327855924553455 train_accu=0.5695166666666667 valid_loss=1.338466236166134 valid_accu=0.5669\n"
     ]
    },
    {
     "name": "stderr",
     "output_type": "stream",
     "text": [
      "<ipython-input-22-89706fee0790>:18: FutureWarning: The frame.append method is deprecated and will be removed from pandas in a future version. Use pandas.concat instead.\n",
      "  df = df.append({\"Lr\":learning_rate,\n"
     ]
    },
    {
     "name": "stdout",
     "output_type": "stream",
     "text": [
      "lr=0.1 epoch=6 train_loss=1.242462229690572 train_accu=0.5583833333333333 valid_loss=1.4884117978393652 valid_accu=0.5565\n"
     ]
    },
    {
     "name": "stderr",
     "output_type": "stream",
     "text": [
      "<ipython-input-22-89706fee0790>:18: FutureWarning: The frame.append method is deprecated and will be removed from pandas in a future version. Use pandas.concat instead.\n",
      "  df = df.append({\"Lr\":learning_rate,\n"
     ]
    },
    {
     "name": "stdout",
     "output_type": "stream",
     "text": [
      "lr=0.1 epoch=7 train_loss=1.3011565208435059 train_accu=0.5403666666666667 valid_loss=1.5216596494814394 valid_accu=0.5365\n"
     ]
    },
    {
     "name": "stderr",
     "output_type": "stream",
     "text": [
      "<ipython-input-22-89706fee0790>:18: FutureWarning: The frame.append method is deprecated and will be removed from pandas in a future version. Use pandas.concat instead.\n",
      "  df = df.append({\"Lr\":learning_rate,\n"
     ]
    },
    {
     "name": "stdout",
     "output_type": "stream",
     "text": [
      "lr=0.1 epoch=8 train_loss=1.4922503268540794 train_accu=0.5574166666666667 valid_loss=1.8119931949931345 valid_accu=0.5555\n"
     ]
    },
    {
     "name": "stderr",
     "output_type": "stream",
     "text": [
      "<ipython-input-22-89706fee0790>:18: FutureWarning: The frame.append method is deprecated and will be removed from pandas in a future version. Use pandas.concat instead.\n",
      "  df = df.append({\"Lr\":learning_rate,\n"
     ]
    },
    {
     "name": "stdout",
     "output_type": "stream",
     "text": [
      "lr=0.1 epoch=9 train_loss=1.131140777551289 train_accu=0.6297166666666667 valid_loss=1.4040800602572738 valid_accu=0.6336\n"
     ]
    },
    {
     "name": "stderr",
     "output_type": "stream",
     "text": [
      "<ipython-input-22-89706fee0790>:18: FutureWarning: The frame.append method is deprecated and will be removed from pandas in a future version. Use pandas.concat instead.\n",
      "  df = df.append({\"Lr\":learning_rate,\n"
     ]
    },
    {
     "name": "stdout",
     "output_type": "stream",
     "text": [
      "lr=0.1 epoch=10 train_loss=1.2940408295786965 train_accu=0.5256333333333333 valid_loss=1.5007737442186684 valid_accu=0.5226\n"
     ]
    },
    {
     "name": "stderr",
     "output_type": "stream",
     "text": [
      "<ipython-input-22-89706fee0790>:18: FutureWarning: The frame.append method is deprecated and will be removed from pandas in a future version. Use pandas.concat instead.\n",
      "  df = df.append({\"Lr\":learning_rate,\n"
     ]
    },
    {
     "name": "stdout",
     "output_type": "stream",
     "text": [
      "lr=0.1 epoch=11 train_loss=1.176749887496932 train_accu=0.6103 valid_loss=1.6594311291245138 valid_accu=0.6167\n"
     ]
    },
    {
     "name": "stderr",
     "output_type": "stream",
     "text": [
      "<ipython-input-22-89706fee0790>:18: FutureWarning: The frame.append method is deprecated and will be removed from pandas in a future version. Use pandas.concat instead.\n",
      "  df = df.append({\"Lr\":learning_rate,\n"
     ]
    },
    {
     "name": "stdout",
     "output_type": "stream",
     "text": [
      "lr=0.1 epoch=12 train_loss=1.1870634836047442 train_accu=0.5983833333333334 valid_loss=1.5392131854774087 valid_accu=0.593\n"
     ]
    },
    {
     "name": "stderr",
     "output_type": "stream",
     "text": [
      "<ipython-input-22-89706fee0790>:18: FutureWarning: The frame.append method is deprecated and will be removed from pandas in a future version. Use pandas.concat instead.\n",
      "  df = df.append({\"Lr\":learning_rate,\n"
     ]
    },
    {
     "name": "stdout",
     "output_type": "stream",
     "text": [
      "lr=0.1 epoch=13 train_loss=1.147274740977582 train_accu=0.60745 valid_loss=1.593751703477969 valid_accu=0.6033\n"
     ]
    },
    {
     "name": "stderr",
     "output_type": "stream",
     "text": [
      "<ipython-input-22-89706fee0790>:18: FutureWarning: The frame.append method is deprecated and will be removed from pandas in a future version. Use pandas.concat instead.\n",
      "  df = df.append({\"Lr\":learning_rate,\n"
     ]
    },
    {
     "name": "stdout",
     "output_type": "stream",
     "text": [
      "lr=0.1 epoch=14 train_loss=1.1613137776663562 train_accu=0.5859833333333333 valid_loss=1.4532586058993249 valid_accu=0.5789\n"
     ]
    },
    {
     "name": "stderr",
     "output_type": "stream",
     "text": [
      "<ipython-input-22-89706fee0790>:18: FutureWarning: The frame.append method is deprecated and will be removed from pandas in a future version. Use pandas.concat instead.\n",
      "  df = df.append({\"Lr\":learning_rate,\n"
     ]
    },
    {
     "name": "stdout",
     "output_type": "stream",
     "text": [
      "lr=0.1 epoch=15 train_loss=1.135832993524161 train_accu=0.5962333333333333 valid_loss=1.434981307026687 valid_accu=0.5955\n"
     ]
    },
    {
     "name": "stderr",
     "output_type": "stream",
     "text": [
      "<ipython-input-22-89706fee0790>:18: FutureWarning: The frame.append method is deprecated and will be removed from pandas in a future version. Use pandas.concat instead.\n",
      "  df = df.append({\"Lr\":learning_rate,\n"
     ]
    },
    {
     "name": "stdout",
     "output_type": "stream",
     "text": [
      "lr=0.1 epoch=16 train_loss=1.1163565592089695 train_accu=0.607 valid_loss=1.3648861739665838 valid_accu=0.6089\n"
     ]
    },
    {
     "name": "stderr",
     "output_type": "stream",
     "text": [
      "<ipython-input-22-89706fee0790>:18: FutureWarning: The frame.append method is deprecated and will be removed from pandas in a future version. Use pandas.concat instead.\n",
      "  df = df.append({\"Lr\":learning_rate,\n"
     ]
    },
    {
     "name": "stdout",
     "output_type": "stream",
     "text": [
      "lr=0.1 epoch=17 train_loss=1.0825718433490947 train_accu=0.6109666666666667 valid_loss=1.23023131964313 valid_accu=0.6156\n"
     ]
    },
    {
     "name": "stderr",
     "output_type": "stream",
     "text": [
      "<ipython-input-22-89706fee0790>:18: FutureWarning: The frame.append method is deprecated and will be removed from pandas in a future version. Use pandas.concat instead.\n",
      "  df = df.append({\"Lr\":learning_rate,\n"
     ]
    },
    {
     "name": "stdout",
     "output_type": "stream",
     "text": [
      "lr=0.1 epoch=18 train_loss=1.215863130430677 train_accu=0.5757833333333333 valid_loss=1.5542482608442854 valid_accu=0.5753\n"
     ]
    },
    {
     "name": "stderr",
     "output_type": "stream",
     "text": [
      "<ipython-input-22-89706fee0790>:18: FutureWarning: The frame.append method is deprecated and will be removed from pandas in a future version. Use pandas.concat instead.\n",
      "  df = df.append({\"Lr\":learning_rate,\n"
     ]
    },
    {
     "name": "stdout",
     "output_type": "stream",
     "text": [
      "lr=0.1 epoch=19 train_loss=1.3829096819419089 train_accu=0.60765 valid_loss=2.204115207787532 valid_accu=0.6104\n"
     ]
    },
    {
     "name": "stderr",
     "output_type": "stream",
     "text": [
      "<ipython-input-22-89706fee0790>:18: FutureWarning: The frame.append method is deprecated and will be removed from pandas in a future version. Use pandas.concat instead.\n",
      "  df = df.append({\"Lr\":learning_rate,\n"
     ]
    },
    {
     "name": "stdout",
     "output_type": "stream",
     "text": [
      "lr=0.1 epoch=20 train_loss=1.1738568029042755 train_accu=0.5962833333333334 valid_loss=1.566698436524458 valid_accu=0.5986\n"
     ]
    },
    {
     "name": "stderr",
     "output_type": "stream",
     "text": [
      "<ipython-input-22-89706fee0790>:18: FutureWarning: The frame.append method is deprecated and will be removed from pandas in a future version. Use pandas.concat instead.\n",
      "  df = df.append({\"Lr\":learning_rate,\n"
     ]
    },
    {
     "name": "stdout",
     "output_type": "stream",
     "text": [
      "lr=0.1 epoch=21 train_loss=1.2383293663896222 train_accu=0.6101666666666666 valid_loss=1.7674050452602896 valid_accu=0.6109\n"
     ]
    },
    {
     "name": "stderr",
     "output_type": "stream",
     "text": [
      "<ipython-input-22-89706fee0790>:18: FutureWarning: The frame.append method is deprecated and will be removed from pandas in a future version. Use pandas.concat instead.\n",
      "  df = df.append({\"Lr\":learning_rate,\n"
     ]
    },
    {
     "name": "stdout",
     "output_type": "stream",
     "text": [
      "lr=0.1 epoch=22 train_loss=1.0888752433409823 train_accu=0.6210833333333333 valid_loss=1.6712517985113107 valid_accu=0.6157\n"
     ]
    },
    {
     "name": "stderr",
     "output_type": "stream",
     "text": [
      "<ipython-input-22-89706fee0790>:18: FutureWarning: The frame.append method is deprecated and will be removed from pandas in a future version. Use pandas.concat instead.\n",
      "  df = df.append({\"Lr\":learning_rate,\n"
     ]
    },
    {
     "name": "stdout",
     "output_type": "stream",
     "text": [
      "lr=0.1 epoch=23 train_loss=1.1549984432741014 train_accu=0.59875 valid_loss=1.6096225549840624 valid_accu=0.5958\n"
     ]
    },
    {
     "name": "stderr",
     "output_type": "stream",
     "text": [
      "<ipython-input-22-89706fee0790>:18: FutureWarning: The frame.append method is deprecated and will be removed from pandas in a future version. Use pandas.concat instead.\n",
      "  df = df.append({\"Lr\":learning_rate,\n"
     ]
    },
    {
     "name": "stdout",
     "output_type": "stream",
     "text": [
      "lr=0.1 epoch=24 train_loss=1.2052700840460975 train_accu=0.59385 valid_loss=1.6993373264173033 valid_accu=0.5927\n"
     ]
    },
    {
     "name": "stderr",
     "output_type": "stream",
     "text": [
      "<ipython-input-22-89706fee0790>:18: FutureWarning: The frame.append method is deprecated and will be removed from pandas in a future version. Use pandas.concat instead.\n",
      "  df = df.append({\"Lr\":learning_rate,\n"
     ]
    },
    {
     "name": "stdout",
     "output_type": "stream",
     "text": [
      "lr=0.1 epoch=25 train_loss=1.0877166333864492 train_accu=0.60735 valid_loss=1.5881733017362607 valid_accu=0.6046\n"
     ]
    },
    {
     "name": "stderr",
     "output_type": "stream",
     "text": [
      "<ipython-input-22-89706fee0790>:18: FutureWarning: The frame.append method is deprecated and will be removed from pandas in a future version. Use pandas.concat instead.\n",
      "  df = df.append({\"Lr\":learning_rate,\n"
     ]
    },
    {
     "name": "stdout",
     "output_type": "stream",
     "text": [
      "lr=0.1 epoch=26 train_loss=1.116808080342787 train_accu=0.5897333333333333 valid_loss=1.5905198701627694 valid_accu=0.5876\n"
     ]
    },
    {
     "name": "stderr",
     "output_type": "stream",
     "text": [
      "<ipython-input-22-89706fee0790>:18: FutureWarning: The frame.append method is deprecated and will be removed from pandas in a future version. Use pandas.concat instead.\n",
      "  df = df.append({\"Lr\":learning_rate,\n"
     ]
    },
    {
     "name": "stdout",
     "output_type": "stream",
     "text": [
      "lr=0.1 epoch=27 train_loss=1.0956375911545906 train_accu=0.5945666666666667 valid_loss=1.564664787927251 valid_accu=0.5958\n"
     ]
    },
    {
     "name": "stderr",
     "output_type": "stream",
     "text": [
      "<ipython-input-22-89706fee0790>:18: FutureWarning: The frame.append method is deprecated and will be removed from pandas in a future version. Use pandas.concat instead.\n",
      "  df = df.append({\"Lr\":learning_rate,\n"
     ]
    },
    {
     "name": "stdout",
     "output_type": "stream",
     "text": [
      "lr=0.1 epoch=28 train_loss=1.1849469329629625 train_accu=0.5680833333333334 valid_loss=1.6848686470347605 valid_accu=0.5663\n"
     ]
    },
    {
     "name": "stderr",
     "output_type": "stream",
     "text": [
      "<ipython-input-22-89706fee0790>:18: FutureWarning: The frame.append method is deprecated and will be removed from pandas in a future version. Use pandas.concat instead.\n",
      "  df = df.append({\"Lr\":learning_rate,\n"
     ]
    },
    {
     "name": "stdout",
     "output_type": "stream",
     "text": [
      "lr=0.1 epoch=29 train_loss=1.1320460793941514 train_accu=0.5878666666666666 valid_loss=1.6357556000636642 valid_accu=0.583\n"
     ]
    },
    {
     "name": "stderr",
     "output_type": "stream",
     "text": [
      "<ipython-input-22-89706fee0790>:18: FutureWarning: The frame.append method is deprecated and will be removed from pandas in a future version. Use pandas.concat instead.\n",
      "  df = df.append({\"Lr\":learning_rate,\n"
     ]
    },
    {
     "name": "stdout",
     "output_type": "stream",
     "text": [
      "lr=0.1 epoch=30 train_loss=1.1414282244405767 train_accu=0.60575 valid_loss=1.987343770303544 valid_accu=0.605\n"
     ]
    },
    {
     "name": "stderr",
     "output_type": "stream",
     "text": [
      "<ipython-input-22-89706fee0790>:18: FutureWarning: The frame.append method is deprecated and will be removed from pandas in a future version. Use pandas.concat instead.\n",
      "  df = df.append({\"Lr\":learning_rate,\n"
     ]
    },
    {
     "name": "stdout",
     "output_type": "stream",
     "text": [
      "lr=0.1 epoch=31 train_loss=1.122372076328375 train_accu=0.5896333333333333 valid_loss=1.8391914751119673 valid_accu=0.5845\n"
     ]
    },
    {
     "name": "stderr",
     "output_type": "stream",
     "text": [
      "<ipython-input-22-89706fee0790>:18: FutureWarning: The frame.append method is deprecated and will be removed from pandas in a future version. Use pandas.concat instead.\n",
      "  df = df.append({\"Lr\":learning_rate,\n"
     ]
    },
    {
     "name": "stdout",
     "output_type": "stream",
     "text": [
      "lr=0.1 epoch=32 train_loss=1.1028809855614643 train_accu=0.5964166666666667 valid_loss=1.7912445436617372 valid_accu=0.5918\n"
     ]
    },
    {
     "name": "stderr",
     "output_type": "stream",
     "text": [
      "<ipython-input-22-89706fee0790>:18: FutureWarning: The frame.append method is deprecated and will be removed from pandas in a future version. Use pandas.concat instead.\n",
      "  df = df.append({\"Lr\":learning_rate,\n"
     ]
    },
    {
     "name": "stdout",
     "output_type": "stream",
     "text": [
      "lr=0.1 epoch=33 train_loss=1.0567325942043557 train_accu=0.62055 valid_loss=1.9033370371077472 valid_accu=0.6194\n"
     ]
    },
    {
     "name": "stderr",
     "output_type": "stream",
     "text": [
      "<ipython-input-22-89706fee0790>:18: FutureWarning: The frame.append method is deprecated and will be removed from pandas in a future version. Use pandas.concat instead.\n",
      "  df = df.append({\"Lr\":learning_rate,\n"
     ]
    },
    {
     "name": "stdout",
     "output_type": "stream",
     "text": [
      "lr=0.1 epoch=34 train_loss=1.1159444704238795 train_accu=0.58805 valid_loss=1.8348588746064787 valid_accu=0.5892\n"
     ]
    },
    {
     "name": "stderr",
     "output_type": "stream",
     "text": [
      "<ipython-input-22-89706fee0790>:18: FutureWarning: The frame.append method is deprecated and will be removed from pandas in a future version. Use pandas.concat instead.\n",
      "  df = df.append({\"Lr\":learning_rate,\n"
     ]
    },
    {
     "name": "stdout",
     "output_type": "stream",
     "text": [
      "lr=0.1 epoch=35 train_loss=1.158647731740846 train_accu=0.5940833333333333 valid_loss=1.884727325598905 valid_accu=0.5951\n"
     ]
    },
    {
     "name": "stderr",
     "output_type": "stream",
     "text": [
      "<ipython-input-22-89706fee0790>:18: FutureWarning: The frame.append method is deprecated and will be removed from pandas in a future version. Use pandas.concat instead.\n",
      "  df = df.append({\"Lr\":learning_rate,\n"
     ]
    },
    {
     "name": "stdout",
     "output_type": "stream",
     "text": [
      "lr=0.1 epoch=36 train_loss=1.1110376256234102 train_accu=0.59845 valid_loss=1.8979093128708517 valid_accu=0.5935\n"
     ]
    },
    {
     "name": "stderr",
     "output_type": "stream",
     "text": [
      "<ipython-input-22-89706fee0790>:18: FutureWarning: The frame.append method is deprecated and will be removed from pandas in a future version. Use pandas.concat instead.\n",
      "  df = df.append({\"Lr\":learning_rate,\n"
     ]
    },
    {
     "name": "stdout",
     "output_type": "stream",
     "text": [
      "lr=0.1 epoch=37 train_loss=1.1560200599592123 train_accu=0.5734666666666667 valid_loss=2.0032438802870973 valid_accu=0.5713\n"
     ]
    },
    {
     "name": "stderr",
     "output_type": "stream",
     "text": [
      "<ipython-input-22-89706fee0790>:18: FutureWarning: The frame.append method is deprecated and will be removed from pandas in a future version. Use pandas.concat instead.\n",
      "  df = df.append({\"Lr\":learning_rate,\n"
     ]
    },
    {
     "name": "stdout",
     "output_type": "stream",
     "text": [
      "lr=0.1 epoch=38 train_loss=1.1514701289790017 train_accu=0.5710833333333334 valid_loss=1.8328901631816936 valid_accu=0.5656\n"
     ]
    },
    {
     "name": "stderr",
     "output_type": "stream",
     "text": [
      "<ipython-input-22-89706fee0790>:18: FutureWarning: The frame.append method is deprecated and will be removed from pandas in a future version. Use pandas.concat instead.\n",
      "  df = df.append({\"Lr\":learning_rate,\n"
     ]
    },
    {
     "name": "stdout",
     "output_type": "stream",
     "text": [
      "lr=0.1 epoch=39 train_loss=1.0769611271713841 train_accu=0.6107 valid_loss=1.7264524690664498 valid_accu=0.6122\n"
     ]
    },
    {
     "name": "stderr",
     "output_type": "stream",
     "text": [
      "<ipython-input-22-89706fee0790>:18: FutureWarning: The frame.append method is deprecated and will be removed from pandas in a future version. Use pandas.concat instead.\n",
      "  df = df.append({\"Lr\":learning_rate,\n"
     ]
    },
    {
     "name": "stdout",
     "output_type": "stream",
     "text": [
      "lr=0.01 epoch=0 train_loss=0.15281750973580138 train_accu=0.9546833333333333 valid_loss=0.17546694450878247 valid_accu=0.9504\n"
     ]
    },
    {
     "name": "stderr",
     "output_type": "stream",
     "text": [
      "<ipython-input-22-89706fee0790>:18: FutureWarning: The frame.append method is deprecated and will be removed from pandas in a future version. Use pandas.concat instead.\n",
      "  df = df.append({\"Lr\":learning_rate,\n"
     ]
    },
    {
     "name": "stdout",
     "output_type": "stream",
     "text": [
      "lr=0.01 epoch=1 train_loss=0.13062881400534657 train_accu=0.9634833333333334 valid_loss=0.17709827644062365 valid_accu=0.955\n"
     ]
    },
    {
     "name": "stderr",
     "output_type": "stream",
     "text": [
      "<ipython-input-22-89706fee0790>:18: FutureWarning: The frame.append method is deprecated and will be removed from pandas in a future version. Use pandas.concat instead.\n",
      "  df = df.append({\"Lr\":learning_rate,\n"
     ]
    },
    {
     "name": "stdout",
     "output_type": "stream",
     "text": [
      "lr=0.01 epoch=2 train_loss=0.10062924548879322 train_accu=0.9707333333333333 valid_loss=0.14881245261054504 valid_accu=0.9606\n"
     ]
    },
    {
     "name": "stderr",
     "output_type": "stream",
     "text": [
      "<ipython-input-22-89706fee0790>:18: FutureWarning: The frame.append method is deprecated and will be removed from pandas in a future version. Use pandas.concat instead.\n",
      "  df = df.append({\"Lr\":learning_rate,\n"
     ]
    },
    {
     "name": "stdout",
     "output_type": "stream",
     "text": [
      "lr=0.01 epoch=3 train_loss=0.08333518865830036 train_accu=0.9759 valid_loss=0.1402884570877646 valid_accu=0.9641\n"
     ]
    },
    {
     "name": "stderr",
     "output_type": "stream",
     "text": [
      "<ipython-input-22-89706fee0790>:18: FutureWarning: The frame.append method is deprecated and will be removed from pandas in a future version. Use pandas.concat instead.\n",
      "  df = df.append({\"Lr\":learning_rate,\n"
     ]
    },
    {
     "name": "stdout",
     "output_type": "stream",
     "text": [
      "lr=0.01 epoch=4 train_loss=0.07424275930881548 train_accu=0.97885 valid_loss=0.15780554906128472 valid_accu=0.9645\n"
     ]
    },
    {
     "name": "stderr",
     "output_type": "stream",
     "text": [
      "<ipython-input-22-89706fee0790>:18: FutureWarning: The frame.append method is deprecated and will be removed from pandas in a future version. Use pandas.concat instead.\n",
      "  df = df.append({\"Lr\":learning_rate,\n"
     ]
    },
    {
     "name": "stdout",
     "output_type": "stream",
     "text": [
      "lr=0.01 epoch=5 train_loss=0.07962982415685245 train_accu=0.9781833333333333 valid_loss=0.15434183521287265 valid_accu=0.9685\n"
     ]
    },
    {
     "name": "stderr",
     "output_type": "stream",
     "text": [
      "<ipython-input-22-89706fee0790>:18: FutureWarning: The frame.append method is deprecated and will be removed from pandas in a future version. Use pandas.concat instead.\n",
      "  df = df.append({\"Lr\":learning_rate,\n"
     ]
    },
    {
     "name": "stdout",
     "output_type": "stream",
     "text": [
      "lr=0.01 epoch=6 train_loss=0.07661631525855815 train_accu=0.9784 valid_loss=0.17148455781765282 valid_accu=0.9661\n"
     ]
    },
    {
     "name": "stderr",
     "output_type": "stream",
     "text": [
      "<ipython-input-22-89706fee0790>:18: FutureWarning: The frame.append method is deprecated and will be removed from pandas in a future version. Use pandas.concat instead.\n",
      "  df = df.append({\"Lr\":learning_rate,\n"
     ]
    },
    {
     "name": "stdout",
     "output_type": "stream",
     "text": [
      "lr=0.01 epoch=7 train_loss=0.06161467891782142 train_accu=0.98325 valid_loss=0.16457334139644225 valid_accu=0.969\n"
     ]
    },
    {
     "name": "stderr",
     "output_type": "stream",
     "text": [
      "<ipython-input-22-89706fee0790>:18: FutureWarning: The frame.append method is deprecated and will be removed from pandas in a future version. Use pandas.concat instead.\n",
      "  df = df.append({\"Lr\":learning_rate,\n"
     ]
    },
    {
     "name": "stdout",
     "output_type": "stream",
     "text": [
      "lr=0.01 epoch=8 train_loss=0.06995199280353186 train_accu=0.9822 valid_loss=0.20566644347724547 valid_accu=0.9672\n"
     ]
    },
    {
     "name": "stderr",
     "output_type": "stream",
     "text": [
      "<ipython-input-22-89706fee0790>:18: FutureWarning: The frame.append method is deprecated and will be removed from pandas in a future version. Use pandas.concat instead.\n",
      "  df = df.append({\"Lr\":learning_rate,\n"
     ]
    },
    {
     "name": "stdout",
     "output_type": "stream",
     "text": [
      "lr=0.01 epoch=9 train_loss=0.0619366906664229 train_accu=0.98305 valid_loss=0.17355590948339278 valid_accu=0.9702\n"
     ]
    },
    {
     "name": "stderr",
     "output_type": "stream",
     "text": [
      "<ipython-input-22-89706fee0790>:18: FutureWarning: The frame.append method is deprecated and will be removed from pandas in a future version. Use pandas.concat instead.\n",
      "  df = df.append({\"Lr\":learning_rate,\n"
     ]
    },
    {
     "name": "stdout",
     "output_type": "stream",
     "text": [
      "lr=0.01 epoch=10 train_loss=0.0883530602599022 train_accu=0.9788166666666667 valid_loss=0.2380069905043369 valid_accu=0.963\n"
     ]
    },
    {
     "name": "stderr",
     "output_type": "stream",
     "text": [
      "<ipython-input-22-89706fee0790>:18: FutureWarning: The frame.append method is deprecated and will be removed from pandas in a future version. Use pandas.concat instead.\n",
      "  df = df.append({\"Lr\":learning_rate,\n"
     ]
    },
    {
     "name": "stdout",
     "output_type": "stream",
     "text": [
      "lr=0.01 epoch=11 train_loss=0.07119784276955873 train_accu=0.9812666666666666 valid_loss=0.2224823467831174 valid_accu=0.9656\n"
     ]
    },
    {
     "name": "stderr",
     "output_type": "stream",
     "text": [
      "<ipython-input-22-89706fee0790>:18: FutureWarning: The frame.append method is deprecated and will be removed from pandas in a future version. Use pandas.concat instead.\n",
      "  df = df.append({\"Lr\":learning_rate,\n"
     ]
    },
    {
     "name": "stdout",
     "output_type": "stream",
     "text": [
      "lr=0.01 epoch=12 train_loss=0.055184502221150525 train_accu=0.9858333333333333 valid_loss=0.18466188077327084 valid_accu=0.9717\n"
     ]
    },
    {
     "name": "stderr",
     "output_type": "stream",
     "text": [
      "<ipython-input-22-89706fee0790>:18: FutureWarning: The frame.append method is deprecated and will be removed from pandas in a future version. Use pandas.concat instead.\n",
      "  df = df.append({\"Lr\":learning_rate,\n"
     ]
    },
    {
     "name": "stdout",
     "output_type": "stream",
     "text": [
      "lr=0.01 epoch=13 train_loss=0.06181198255152011 train_accu=0.9836 valid_loss=0.2119112132510216 valid_accu=0.9695\n"
     ]
    },
    {
     "name": "stderr",
     "output_type": "stream",
     "text": [
      "<ipython-input-22-89706fee0790>:18: FutureWarning: The frame.append method is deprecated and will be removed from pandas in a future version. Use pandas.concat instead.\n",
      "  df = df.append({\"Lr\":learning_rate,\n"
     ]
    },
    {
     "name": "stdout",
     "output_type": "stream",
     "text": [
      "lr=0.01 epoch=14 train_loss=0.05326360129158065 train_accu=0.9864666666666667 valid_loss=0.23045618538935742 valid_accu=0.9703\n"
     ]
    },
    {
     "name": "stderr",
     "output_type": "stream",
     "text": [
      "<ipython-input-22-89706fee0790>:18: FutureWarning: The frame.append method is deprecated and will be removed from pandas in a future version. Use pandas.concat instead.\n",
      "  df = df.append({\"Lr\":learning_rate,\n"
     ]
    },
    {
     "name": "stdout",
     "output_type": "stream",
     "text": [
      "lr=0.01 epoch=15 train_loss=0.0673172927531198 train_accu=0.9844333333333334 valid_loss=0.25028890869381626 valid_accu=0.9674\n"
     ]
    },
    {
     "name": "stderr",
     "output_type": "stream",
     "text": [
      "<ipython-input-22-89706fee0790>:18: FutureWarning: The frame.append method is deprecated and will be removed from pandas in a future version. Use pandas.concat instead.\n",
      "  df = df.append({\"Lr\":learning_rate,\n"
     ]
    },
    {
     "name": "stdout",
     "output_type": "stream",
     "text": [
      "lr=0.01 epoch=16 train_loss=0.05298946733608188 train_accu=0.98575 valid_loss=0.2304627865853374 valid_accu=0.9718\n"
     ]
    },
    {
     "name": "stderr",
     "output_type": "stream",
     "text": [
      "<ipython-input-22-89706fee0790>:18: FutureWarning: The frame.append method is deprecated and will be removed from pandas in a future version. Use pandas.concat instead.\n",
      "  df = df.append({\"Lr\":learning_rate,\n"
     ]
    },
    {
     "name": "stdout",
     "output_type": "stream",
     "text": [
      "lr=0.01 epoch=17 train_loss=0.05102056907049227 train_accu=0.9871666666666666 valid_loss=0.23455993384141327 valid_accu=0.969\n"
     ]
    },
    {
     "name": "stderr",
     "output_type": "stream",
     "text": [
      "<ipython-input-22-89706fee0790>:18: FutureWarning: The frame.append method is deprecated and will be removed from pandas in a future version. Use pandas.concat instead.\n",
      "  df = df.append({\"Lr\":learning_rate,\n"
     ]
    },
    {
     "name": "stdout",
     "output_type": "stream",
     "text": [
      "lr=0.01 epoch=18 train_loss=0.04565010543954172 train_accu=0.9871333333333333 valid_loss=0.24712874245452804 valid_accu=0.9698\n"
     ]
    },
    {
     "name": "stderr",
     "output_type": "stream",
     "text": [
      "<ipython-input-22-89706fee0790>:18: FutureWarning: The frame.append method is deprecated and will be removed from pandas in a future version. Use pandas.concat instead.\n",
      "  df = df.append({\"Lr\":learning_rate,\n"
     ]
    },
    {
     "name": "stdout",
     "output_type": "stream",
     "text": [
      "lr=0.01 epoch=19 train_loss=0.04485540342045818 train_accu=0.9887 valid_loss=0.25629246417307155 valid_accu=0.969\n"
     ]
    },
    {
     "name": "stderr",
     "output_type": "stream",
     "text": [
      "<ipython-input-22-89706fee0790>:18: FutureWarning: The frame.append method is deprecated and will be removed from pandas in a future version. Use pandas.concat instead.\n",
      "  df = df.append({\"Lr\":learning_rate,\n"
     ]
    },
    {
     "name": "stdout",
     "output_type": "stream",
     "text": [
      "lr=0.01 epoch=20 train_loss=0.04429830659913494 train_accu=0.9888166666666667 valid_loss=0.22343312258966194 valid_accu=0.972\n"
     ]
    },
    {
     "name": "stderr",
     "output_type": "stream",
     "text": [
      "<ipython-input-22-89706fee0790>:18: FutureWarning: The frame.append method is deprecated and will be removed from pandas in a future version. Use pandas.concat instead.\n",
      "  df = df.append({\"Lr\":learning_rate,\n"
     ]
    },
    {
     "name": "stdout",
     "output_type": "stream",
     "text": [
      "lr=0.01 epoch=21 train_loss=0.04458239787022578 train_accu=0.9885166666666667 valid_loss=0.24240130466969645 valid_accu=0.9722\n"
     ]
    },
    {
     "name": "stderr",
     "output_type": "stream",
     "text": [
      "<ipython-input-22-89706fee0790>:18: FutureWarning: The frame.append method is deprecated and will be removed from pandas in a future version. Use pandas.concat instead.\n",
      "  df = df.append({\"Lr\":learning_rate,\n"
     ]
    },
    {
     "name": "stdout",
     "output_type": "stream",
     "text": [
      "lr=0.01 epoch=22 train_loss=0.048830098581930464 train_accu=0.9875166666666667 valid_loss=0.27571082000165853 valid_accu=0.9701\n"
     ]
    },
    {
     "name": "stderr",
     "output_type": "stream",
     "text": [
      "<ipython-input-22-89706fee0790>:18: FutureWarning: The frame.append method is deprecated and will be removed from pandas in a future version. Use pandas.concat instead.\n",
      "  df = df.append({\"Lr\":learning_rate,\n"
     ]
    },
    {
     "name": "stdout",
     "output_type": "stream",
     "text": [
      "lr=0.01 epoch=23 train_loss=0.05632877458011702 train_accu=0.9875166666666667 valid_loss=0.27295949686118115 valid_accu=0.9706\n"
     ]
    },
    {
     "name": "stderr",
     "output_type": "stream",
     "text": [
      "<ipython-input-22-89706fee0790>:18: FutureWarning: The frame.append method is deprecated and will be removed from pandas in a future version. Use pandas.concat instead.\n",
      "  df = df.append({\"Lr\":learning_rate,\n"
     ]
    },
    {
     "name": "stdout",
     "output_type": "stream",
     "text": [
      "lr=0.01 epoch=24 train_loss=0.04882566687959599 train_accu=0.98875 valid_loss=0.2819722012906365 valid_accu=0.9695\n"
     ]
    },
    {
     "name": "stderr",
     "output_type": "stream",
     "text": [
      "<ipython-input-22-89706fee0790>:18: FutureWarning: The frame.append method is deprecated and will be removed from pandas in a future version. Use pandas.concat instead.\n",
      "  df = df.append({\"Lr\":learning_rate,\n"
     ]
    },
    {
     "name": "stdout",
     "output_type": "stream",
     "text": [
      "lr=0.01 epoch=25 train_loss=0.042525673995767836 train_accu=0.9887666666666667 valid_loss=0.29805764434017434 valid_accu=0.9674\n"
     ]
    },
    {
     "name": "stderr",
     "output_type": "stream",
     "text": [
      "<ipython-input-22-89706fee0790>:18: FutureWarning: The frame.append method is deprecated and will be removed from pandas in a future version. Use pandas.concat instead.\n",
      "  df = df.append({\"Lr\":learning_rate,\n"
     ]
    },
    {
     "name": "stdout",
     "output_type": "stream",
     "text": [
      "lr=0.01 epoch=26 train_loss=0.058914442838990645 train_accu=0.9861666666666666 valid_loss=0.2635421173823759 valid_accu=0.9678\n"
     ]
    },
    {
     "name": "stderr",
     "output_type": "stream",
     "text": [
      "<ipython-input-22-89706fee0790>:18: FutureWarning: The frame.append method is deprecated and will be removed from pandas in a future version. Use pandas.concat instead.\n",
      "  df = df.append({\"Lr\":learning_rate,\n"
     ]
    },
    {
     "name": "stdout",
     "output_type": "stream",
     "text": [
      "lr=0.01 epoch=27 train_loss=0.040184417487625836 train_accu=0.99045 valid_loss=0.29650669034451055 valid_accu=0.9688\n"
     ]
    },
    {
     "name": "stderr",
     "output_type": "stream",
     "text": [
      "<ipython-input-22-89706fee0790>:18: FutureWarning: The frame.append method is deprecated and will be removed from pandas in a future version. Use pandas.concat instead.\n",
      "  df = df.append({\"Lr\":learning_rate,\n"
     ]
    },
    {
     "name": "stdout",
     "output_type": "stream",
     "text": [
      "lr=0.01 epoch=28 train_loss=0.042094981187196075 train_accu=0.9891833333333333 valid_loss=0.28392304353746445 valid_accu=0.9722\n"
     ]
    },
    {
     "name": "stderr",
     "output_type": "stream",
     "text": [
      "<ipython-input-22-89706fee0790>:18: FutureWarning: The frame.append method is deprecated and will be removed from pandas in a future version. Use pandas.concat instead.\n",
      "  df = df.append({\"Lr\":learning_rate,\n"
     ]
    },
    {
     "name": "stdout",
     "output_type": "stream",
     "text": [
      "lr=0.01 epoch=29 train_loss=0.036321400437609855 train_accu=0.99055 valid_loss=0.31187804441190503 valid_accu=0.9706\n"
     ]
    },
    {
     "name": "stderr",
     "output_type": "stream",
     "text": [
      "<ipython-input-22-89706fee0790>:18: FutureWarning: The frame.append method is deprecated and will be removed from pandas in a future version. Use pandas.concat instead.\n",
      "  df = df.append({\"Lr\":learning_rate,\n"
     ]
    },
    {
     "name": "stdout",
     "output_type": "stream",
     "text": [
      "lr=0.01 epoch=30 train_loss=0.045157849473606064 train_accu=0.98945 valid_loss=0.29660265228638816 valid_accu=0.9707\n"
     ]
    },
    {
     "name": "stderr",
     "output_type": "stream",
     "text": [
      "<ipython-input-22-89706fee0790>:18: FutureWarning: The frame.append method is deprecated and will be removed from pandas in a future version. Use pandas.concat instead.\n",
      "  df = df.append({\"Lr\":learning_rate,\n"
     ]
    },
    {
     "name": "stdout",
     "output_type": "stream",
     "text": [
      "lr=0.01 epoch=31 train_loss=0.0372285099636689 train_accu=0.9907333333333334 valid_loss=0.2936590791875198 valid_accu=0.9742\n"
     ]
    },
    {
     "name": "stderr",
     "output_type": "stream",
     "text": [
      "<ipython-input-22-89706fee0790>:18: FutureWarning: The frame.append method is deprecated and will be removed from pandas in a future version. Use pandas.concat instead.\n",
      "  df = df.append({\"Lr\":learning_rate,\n"
     ]
    },
    {
     "name": "stdout",
     "output_type": "stream",
     "text": [
      "lr=0.01 epoch=32 train_loss=0.040522751081151026 train_accu=0.9906666666666667 valid_loss=0.3105103788078186 valid_accu=0.9711\n"
     ]
    },
    {
     "name": "stderr",
     "output_type": "stream",
     "text": [
      "<ipython-input-22-89706fee0790>:18: FutureWarning: The frame.append method is deprecated and will be removed from pandas in a future version. Use pandas.concat instead.\n",
      "  df = df.append({\"Lr\":learning_rate,\n"
     ]
    },
    {
     "name": "stdout",
     "output_type": "stream",
     "text": [
      "lr=0.01 epoch=33 train_loss=0.05732299559925628 train_accu=0.9894333333333334 valid_loss=0.38194152367540696 valid_accu=0.97\n"
     ]
    },
    {
     "name": "stderr",
     "output_type": "stream",
     "text": [
      "<ipython-input-22-89706fee0790>:18: FutureWarning: The frame.append method is deprecated and will be removed from pandas in a future version. Use pandas.concat instead.\n",
      "  df = df.append({\"Lr\":learning_rate,\n"
     ]
    },
    {
     "name": "stdout",
     "output_type": "stream",
     "text": [
      "lr=0.01 epoch=34 train_loss=0.04201816306516657 train_accu=0.9907 valid_loss=0.32864994504246875 valid_accu=0.9735\n"
     ]
    },
    {
     "name": "stderr",
     "output_type": "stream",
     "text": [
      "<ipython-input-22-89706fee0790>:18: FutureWarning: The frame.append method is deprecated and will be removed from pandas in a future version. Use pandas.concat instead.\n",
      "  df = df.append({\"Lr\":learning_rate,\n"
     ]
    },
    {
     "name": "stdout",
     "output_type": "stream",
     "text": [
      "lr=0.01 epoch=35 train_loss=0.03598288198529979 train_accu=0.99105 valid_loss=0.348397442409918 valid_accu=0.9704\n"
     ]
    },
    {
     "name": "stderr",
     "output_type": "stream",
     "text": [
      "<ipython-input-22-89706fee0790>:18: FutureWarning: The frame.append method is deprecated and will be removed from pandas in a future version. Use pandas.concat instead.\n",
      "  df = df.append({\"Lr\":learning_rate,\n"
     ]
    },
    {
     "name": "stdout",
     "output_type": "stream",
     "text": [
      "lr=0.01 epoch=36 train_loss=0.04291591077836606 train_accu=0.99065 valid_loss=0.3123723932995214 valid_accu=0.972\n"
     ]
    },
    {
     "name": "stderr",
     "output_type": "stream",
     "text": [
      "<ipython-input-22-89706fee0790>:18: FutureWarning: The frame.append method is deprecated and will be removed from pandas in a future version. Use pandas.concat instead.\n",
      "  df = df.append({\"Lr\":learning_rate,\n"
     ]
    },
    {
     "name": "stdout",
     "output_type": "stream",
     "text": [
      "lr=0.01 epoch=37 train_loss=0.03451514983703221 train_accu=0.9920833333333333 valid_loss=0.3540859902205624 valid_accu=0.9716\n"
     ]
    },
    {
     "name": "stderr",
     "output_type": "stream",
     "text": [
      "<ipython-input-22-89706fee0790>:18: FutureWarning: The frame.append method is deprecated and will be removed from pandas in a future version. Use pandas.concat instead.\n",
      "  df = df.append({\"Lr\":learning_rate,\n"
     ]
    },
    {
     "name": "stdout",
     "output_type": "stream",
     "text": [
      "lr=0.01 epoch=38 train_loss=0.03429043915754299 train_accu=0.9916833333333334 valid_loss=0.29892851962425493 valid_accu=0.9721\n"
     ]
    },
    {
     "name": "stderr",
     "output_type": "stream",
     "text": [
      "<ipython-input-22-89706fee0790>:18: FutureWarning: The frame.append method is deprecated and will be removed from pandas in a future version. Use pandas.concat instead.\n",
      "  df = df.append({\"Lr\":learning_rate,\n"
     ]
    },
    {
     "name": "stdout",
     "output_type": "stream",
     "text": [
      "lr=0.01 epoch=39 train_loss=0.026104090390812344 train_accu=0.9933666666666666 valid_loss=0.32788235230634005 valid_accu=0.9719\n"
     ]
    },
    {
     "name": "stderr",
     "output_type": "stream",
     "text": [
      "<ipython-input-22-89706fee0790>:18: FutureWarning: The frame.append method is deprecated and will be removed from pandas in a future version. Use pandas.concat instead.\n",
      "  df = df.append({\"Lr\":learning_rate,\n"
     ]
    },
    {
     "name": "stdout",
     "output_type": "stream",
     "text": [
      "lr=0.001 epoch=0 train_loss=0.12046531167651799 train_accu=0.9655333333333334 valid_loss=0.12910666979054453 valid_accu=0.9612\n"
     ]
    },
    {
     "name": "stderr",
     "output_type": "stream",
     "text": [
      "<ipython-input-22-89706fee0790>:18: FutureWarning: The frame.append method is deprecated and will be removed from pandas in a future version. Use pandas.concat instead.\n",
      "  df = df.append({\"Lr\":learning_rate,\n"
     ]
    },
    {
     "name": "stdout",
     "output_type": "stream",
     "text": [
      "lr=0.001 epoch=1 train_loss=0.07408167280828648 train_accu=0.9788333333333333 valid_loss=0.08867672929291133 valid_accu=0.9726\n"
     ]
    },
    {
     "name": "stderr",
     "output_type": "stream",
     "text": [
      "<ipython-input-22-89706fee0790>:18: FutureWarning: The frame.append method is deprecated and will be removed from pandas in a future version. Use pandas.concat instead.\n",
      "  df = df.append({\"Lr\":learning_rate,\n"
     ]
    },
    {
     "name": "stdout",
     "output_type": "stream",
     "text": [
      "lr=0.001 epoch=2 train_loss=0.04939741810842324 train_accu=0.9852166666666666 valid_loss=0.07427812730085259 valid_accu=0.9769\n"
     ]
    },
    {
     "name": "stderr",
     "output_type": "stream",
     "text": [
      "<ipython-input-22-89706fee0790>:18: FutureWarning: The frame.append method is deprecated and will be removed from pandas in a future version. Use pandas.concat instead.\n",
      "  df = df.append({\"Lr\":learning_rate,\n"
     ]
    },
    {
     "name": "stdout",
     "output_type": "stream",
     "text": [
      "lr=0.001 epoch=3 train_loss=0.042932719260931756 train_accu=0.9862666666666666 valid_loss=0.07547974430160319 valid_accu=0.9748\n"
     ]
    },
    {
     "name": "stderr",
     "output_type": "stream",
     "text": [
      "<ipython-input-22-89706fee0790>:18: FutureWarning: The frame.append method is deprecated and will be removed from pandas in a future version. Use pandas.concat instead.\n",
      "  df = df.append({\"Lr\":learning_rate,\n"
     ]
    },
    {
     "name": "stdout",
     "output_type": "stream",
     "text": [
      "lr=0.001 epoch=4 train_loss=0.029958168268705142 train_accu=0.9910333333333333 valid_loss=0.06835446136971716 valid_accu=0.978\n"
     ]
    },
    {
     "name": "stderr",
     "output_type": "stream",
     "text": [
      "<ipython-input-22-89706fee0790>:18: FutureWarning: The frame.append method is deprecated and will be removed from pandas in a future version. Use pandas.concat instead.\n",
      "  df = df.append({\"Lr\":learning_rate,\n"
     ]
    },
    {
     "name": "stdout",
     "output_type": "stream",
     "text": [
      "lr=0.001 epoch=5 train_loss=0.020211292221384652 train_accu=0.99445 valid_loss=0.058487289208213646 valid_accu=0.9816\n"
     ]
    },
    {
     "name": "stderr",
     "output_type": "stream",
     "text": [
      "<ipython-input-22-89706fee0790>:18: FutureWarning: The frame.append method is deprecated and will be removed from pandas in a future version. Use pandas.concat instead.\n",
      "  df = df.append({\"Lr\":learning_rate,\n"
     ]
    },
    {
     "name": "stdout",
     "output_type": "stream",
     "text": [
      "lr=0.001 epoch=6 train_loss=0.01845086562516255 train_accu=0.9945833333333334 valid_loss=0.06584677450233925 valid_accu=0.9791\n"
     ]
    },
    {
     "name": "stderr",
     "output_type": "stream",
     "text": [
      "<ipython-input-22-89706fee0790>:18: FutureWarning: The frame.append method is deprecated and will be removed from pandas in a future version. Use pandas.concat instead.\n",
      "  df = df.append({\"Lr\":learning_rate,\n"
     ]
    },
    {
     "name": "stdout",
     "output_type": "stream",
     "text": [
      "lr=0.001 epoch=7 train_loss=0.013571527209316593 train_accu=0.9963333333333333 valid_loss=0.06113059845343614 valid_accu=0.9803\n"
     ]
    },
    {
     "name": "stderr",
     "output_type": "stream",
     "text": [
      "<ipython-input-22-89706fee0790>:18: FutureWarning: The frame.append method is deprecated and will be removed from pandas in a future version. Use pandas.concat instead.\n",
      "  df = df.append({\"Lr\":learning_rate,\n"
     ]
    },
    {
     "name": "stdout",
     "output_type": "stream",
     "text": [
      "lr=0.001 epoch=8 train_loss=0.013434677039876134 train_accu=0.9958833333333333 valid_loss=0.06107968036230654 valid_accu=0.9813\n"
     ]
    },
    {
     "name": "stderr",
     "output_type": "stream",
     "text": [
      "<ipython-input-22-89706fee0790>:18: FutureWarning: The frame.append method is deprecated and will be removed from pandas in a future version. Use pandas.concat instead.\n",
      "  df = df.append({\"Lr\":learning_rate,\n"
     ]
    },
    {
     "name": "stdout",
     "output_type": "stream",
     "text": [
      "lr=0.001 epoch=9 train_loss=0.009447125603428367 train_accu=0.9973666666666666 valid_loss=0.06523949894908815 valid_accu=0.9822\n"
     ]
    },
    {
     "name": "stderr",
     "output_type": "stream",
     "text": [
      "<ipython-input-22-89706fee0790>:18: FutureWarning: The frame.append method is deprecated and will be removed from pandas in a future version. Use pandas.concat instead.\n",
      "  df = df.append({\"Lr\":learning_rate,\n"
     ]
    },
    {
     "name": "stdout",
     "output_type": "stream",
     "text": [
      "lr=0.001 epoch=10 train_loss=0.010163404106937928 train_accu=0.9972166666666666 valid_loss=0.06843011386196043 valid_accu=0.9806\n"
     ]
    },
    {
     "name": "stderr",
     "output_type": "stream",
     "text": [
      "<ipython-input-22-89706fee0790>:18: FutureWarning: The frame.append method is deprecated and will be removed from pandas in a future version. Use pandas.concat instead.\n",
      "  df = df.append({\"Lr\":learning_rate,\n"
     ]
    },
    {
     "name": "stdout",
     "output_type": "stream",
     "text": [
      "lr=0.001 epoch=11 train_loss=0.006149750808148391 train_accu=0.9984166666666666 valid_loss=0.062479625808817704 valid_accu=0.9835\n"
     ]
    },
    {
     "name": "stderr",
     "output_type": "stream",
     "text": [
      "<ipython-input-22-89706fee0790>:18: FutureWarning: The frame.append method is deprecated and will be removed from pandas in a future version. Use pandas.concat instead.\n",
      "  df = df.append({\"Lr\":learning_rate,\n"
     ]
    },
    {
     "name": "stdout",
     "output_type": "stream",
     "text": [
      "lr=0.001 epoch=12 train_loss=0.005252143671194194 train_accu=0.9986166666666667 valid_loss=0.06285696456625026 valid_accu=0.9838\n"
     ]
    },
    {
     "name": "stderr",
     "output_type": "stream",
     "text": [
      "<ipython-input-22-89706fee0790>:18: FutureWarning: The frame.append method is deprecated and will be removed from pandas in a future version. Use pandas.concat instead.\n",
      "  df = df.append({\"Lr\":learning_rate,\n"
     ]
    },
    {
     "name": "stdout",
     "output_type": "stream",
     "text": [
      "lr=0.001 epoch=13 train_loss=0.006222964025647073 train_accu=0.9980166666666667 valid_loss=0.07422610947256982 valid_accu=0.9811\n"
     ]
    },
    {
     "name": "stderr",
     "output_type": "stream",
     "text": [
      "<ipython-input-22-89706fee0790>:18: FutureWarning: The frame.append method is deprecated and will be removed from pandas in a future version. Use pandas.concat instead.\n",
      "  df = df.append({\"Lr\":learning_rate,\n"
     ]
    },
    {
     "name": "stdout",
     "output_type": "stream",
     "text": [
      "lr=0.001 epoch=14 train_loss=0.004744404682534843 train_accu=0.9984666666666666 valid_loss=0.0680355182858545 valid_accu=0.9835\n"
     ]
    },
    {
     "name": "stderr",
     "output_type": "stream",
     "text": [
      "<ipython-input-22-89706fee0790>:18: FutureWarning: The frame.append method is deprecated and will be removed from pandas in a future version. Use pandas.concat instead.\n",
      "  df = df.append({\"Lr\":learning_rate,\n"
     ]
    },
    {
     "name": "stdout",
     "output_type": "stream",
     "text": [
      "lr=0.001 epoch=15 train_loss=0.00333809827328556 train_accu=0.9991 valid_loss=0.07273289200771574 valid_accu=0.9824\n"
     ]
    },
    {
     "name": "stderr",
     "output_type": "stream",
     "text": [
      "<ipython-input-22-89706fee0790>:18: FutureWarning: The frame.append method is deprecated and will be removed from pandas in a future version. Use pandas.concat instead.\n",
      "  df = df.append({\"Lr\":learning_rate,\n"
     ]
    },
    {
     "name": "stdout",
     "output_type": "stream",
     "text": [
      "lr=0.001 epoch=16 train_loss=0.004669277498051127 train_accu=0.9986 valid_loss=0.07593949838567991 valid_accu=0.9821\n"
     ]
    },
    {
     "name": "stderr",
     "output_type": "stream",
     "text": [
      "<ipython-input-22-89706fee0790>:18: FutureWarning: The frame.append method is deprecated and will be removed from pandas in a future version. Use pandas.concat instead.\n",
      "  df = df.append({\"Lr\":learning_rate,\n"
     ]
    },
    {
     "name": "stdout",
     "output_type": "stream",
     "text": [
      "lr=0.001 epoch=17 train_loss=0.004070358303798401 train_accu=0.9988 valid_loss=0.07833173373111836 valid_accu=0.983\n"
     ]
    },
    {
     "name": "stderr",
     "output_type": "stream",
     "text": [
      "<ipython-input-22-89706fee0790>:18: FutureWarning: The frame.append method is deprecated and will be removed from pandas in a future version. Use pandas.concat instead.\n",
      "  df = df.append({\"Lr\":learning_rate,\n"
     ]
    },
    {
     "name": "stdout",
     "output_type": "stream",
     "text": [
      "lr=0.001 epoch=18 train_loss=0.002910913862168232 train_accu=0.9991666666666666 valid_loss=0.07123479109712143 valid_accu=0.9838\n"
     ]
    },
    {
     "name": "stderr",
     "output_type": "stream",
     "text": [
      "<ipython-input-22-89706fee0790>:18: FutureWarning: The frame.append method is deprecated and will be removed from pandas in a future version. Use pandas.concat instead.\n",
      "  df = df.append({\"Lr\":learning_rate,\n"
     ]
    },
    {
     "name": "stdout",
     "output_type": "stream",
     "text": [
      "lr=0.001 epoch=19 train_loss=0.003073094359148848 train_accu=0.99905 valid_loss=0.08225094761866357 valid_accu=0.9806\n"
     ]
    },
    {
     "name": "stderr",
     "output_type": "stream",
     "text": [
      "<ipython-input-22-89706fee0790>:18: FutureWarning: The frame.append method is deprecated and will be removed from pandas in a future version. Use pandas.concat instead.\n",
      "  df = df.append({\"Lr\":learning_rate,\n"
     ]
    },
    {
     "name": "stdout",
     "output_type": "stream",
     "text": [
      "lr=0.001 epoch=20 train_loss=0.0033347879395695425 train_accu=0.999 valid_loss=0.08231679794013577 valid_accu=0.9817\n"
     ]
    },
    {
     "name": "stderr",
     "output_type": "stream",
     "text": [
      "<ipython-input-22-89706fee0790>:18: FutureWarning: The frame.append method is deprecated and will be removed from pandas in a future version. Use pandas.concat instead.\n",
      "  df = df.append({\"Lr\":learning_rate,\n"
     ]
    },
    {
     "name": "stdout",
     "output_type": "stream",
     "text": [
      "lr=0.001 epoch=21 train_loss=0.003645428680777577 train_accu=0.9987833333333334 valid_loss=0.08693228230611126 valid_accu=0.9807\n"
     ]
    },
    {
     "name": "stderr",
     "output_type": "stream",
     "text": [
      "<ipython-input-22-89706fee0790>:18: FutureWarning: The frame.append method is deprecated and will be removed from pandas in a future version. Use pandas.concat instead.\n",
      "  df = df.append({\"Lr\":learning_rate,\n"
     ]
    },
    {
     "name": "stdout",
     "output_type": "stream",
     "text": [
      "lr=0.001 epoch=22 train_loss=0.0027092337951429733 train_accu=0.9991666666666666 valid_loss=0.08473836079405342 valid_accu=0.9819\n"
     ]
    },
    {
     "name": "stderr",
     "output_type": "stream",
     "text": [
      "<ipython-input-22-89706fee0790>:18: FutureWarning: The frame.append method is deprecated and will be removed from pandas in a future version. Use pandas.concat instead.\n",
      "  df = df.append({\"Lr\":learning_rate,\n"
     ]
    },
    {
     "name": "stdout",
     "output_type": "stream",
     "text": [
      "lr=0.001 epoch=23 train_loss=0.0023186062526307063 train_accu=0.9993166666666666 valid_loss=0.08313188046418434 valid_accu=0.9829\n"
     ]
    },
    {
     "name": "stderr",
     "output_type": "stream",
     "text": [
      "<ipython-input-22-89706fee0790>:18: FutureWarning: The frame.append method is deprecated and will be removed from pandas in a future version. Use pandas.concat instead.\n",
      "  df = df.append({\"Lr\":learning_rate,\n"
     ]
    },
    {
     "name": "stdout",
     "output_type": "stream",
     "text": [
      "lr=0.001 epoch=24 train_loss=0.001091854960088937 train_accu=0.9997833333333334 valid_loss=0.07733970814257038 valid_accu=0.9832\n"
     ]
    },
    {
     "name": "stderr",
     "output_type": "stream",
     "text": [
      "<ipython-input-22-89706fee0790>:18: FutureWarning: The frame.append method is deprecated and will be removed from pandas in a future version. Use pandas.concat instead.\n",
      "  df = df.append({\"Lr\":learning_rate,\n"
     ]
    },
    {
     "name": "stdout",
     "output_type": "stream",
     "text": [
      "lr=0.001 epoch=25 train_loss=0.003179134352313786 train_accu=0.9989333333333333 valid_loss=0.08366397457516643 valid_accu=0.9834\n"
     ]
    },
    {
     "name": "stderr",
     "output_type": "stream",
     "text": [
      "<ipython-input-22-89706fee0790>:18: FutureWarning: The frame.append method is deprecated and will be removed from pandas in a future version. Use pandas.concat instead.\n",
      "  df = df.append({\"Lr\":learning_rate,\n"
     ]
    },
    {
     "name": "stdout",
     "output_type": "stream",
     "text": [
      "lr=0.001 epoch=26 train_loss=0.0018032481029304414 train_accu=0.9994666666666666 valid_loss=0.0836268911439474 valid_accu=0.9829\n"
     ]
    },
    {
     "name": "stderr",
     "output_type": "stream",
     "text": [
      "<ipython-input-22-89706fee0790>:18: FutureWarning: The frame.append method is deprecated and will be removed from pandas in a future version. Use pandas.concat instead.\n",
      "  df = df.append({\"Lr\":learning_rate,\n"
     ]
    },
    {
     "name": "stdout",
     "output_type": "stream",
     "text": [
      "lr=0.001 epoch=27 train_loss=0.0018337404966374674 train_accu=0.9994666666666666 valid_loss=0.07655353077101487 valid_accu=0.9844\n"
     ]
    },
    {
     "name": "stderr",
     "output_type": "stream",
     "text": [
      "<ipython-input-22-89706fee0790>:18: FutureWarning: The frame.append method is deprecated and will be removed from pandas in a future version. Use pandas.concat instead.\n",
      "  df = df.append({\"Lr\":learning_rate,\n"
     ]
    },
    {
     "name": "stdout",
     "output_type": "stream",
     "text": [
      "lr=0.001 epoch=28 train_loss=0.0028839069363720093 train_accu=0.9990333333333333 valid_loss=0.0885367046635592 valid_accu=0.983\n"
     ]
    },
    {
     "name": "stderr",
     "output_type": "stream",
     "text": [
      "<ipython-input-22-89706fee0790>:18: FutureWarning: The frame.append method is deprecated and will be removed from pandas in a future version. Use pandas.concat instead.\n",
      "  df = df.append({\"Lr\":learning_rate,\n"
     ]
    },
    {
     "name": "stdout",
     "output_type": "stream",
     "text": [
      "lr=0.001 epoch=29 train_loss=0.0024146003441204303 train_accu=0.9992666666666666 valid_loss=0.09388497410625439 valid_accu=0.9824\n"
     ]
    },
    {
     "name": "stderr",
     "output_type": "stream",
     "text": [
      "<ipython-input-22-89706fee0790>:18: FutureWarning: The frame.append method is deprecated and will be removed from pandas in a future version. Use pandas.concat instead.\n",
      "  df = df.append({\"Lr\":learning_rate,\n"
     ]
    },
    {
     "name": "stdout",
     "output_type": "stream",
     "text": [
      "lr=0.001 epoch=30 train_loss=0.0026256546719769236 train_accu=0.9990666666666667 valid_loss=0.0927292312975205 valid_accu=0.9823\n"
     ]
    },
    {
     "name": "stderr",
     "output_type": "stream",
     "text": [
      "<ipython-input-22-89706fee0790>:18: FutureWarning: The frame.append method is deprecated and will be removed from pandas in a future version. Use pandas.concat instead.\n",
      "  df = df.append({\"Lr\":learning_rate,\n"
     ]
    },
    {
     "name": "stdout",
     "output_type": "stream",
     "text": [
      "lr=0.001 epoch=31 train_loss=0.003977620999194248 train_accu=0.9985166666666667 valid_loss=0.09244413904134567 valid_accu=0.9821\n"
     ]
    },
    {
     "name": "stderr",
     "output_type": "stream",
     "text": [
      "<ipython-input-22-89706fee0790>:18: FutureWarning: The frame.append method is deprecated and will be removed from pandas in a future version. Use pandas.concat instead.\n",
      "  df = df.append({\"Lr\":learning_rate,\n"
     ]
    },
    {
     "name": "stdout",
     "output_type": "stream",
     "text": [
      "lr=0.001 epoch=32 train_loss=0.0006425431365570944 train_accu=0.9999 valid_loss=0.0906548109416217 valid_accu=0.9836\n"
     ]
    },
    {
     "name": "stderr",
     "output_type": "stream",
     "text": [
      "<ipython-input-22-89706fee0790>:18: FutureWarning: The frame.append method is deprecated and will be removed from pandas in a future version. Use pandas.concat instead.\n",
      "  df = df.append({\"Lr\":learning_rate,\n"
     ]
    },
    {
     "name": "stdout",
     "output_type": "stream",
     "text": [
      "lr=0.001 epoch=33 train_loss=0.0009026600577215413 train_accu=0.9997833333333334 valid_loss=0.08719952861220026 valid_accu=0.9832\n"
     ]
    },
    {
     "name": "stderr",
     "output_type": "stream",
     "text": [
      "<ipython-input-22-89706fee0790>:18: FutureWarning: The frame.append method is deprecated and will be removed from pandas in a future version. Use pandas.concat instead.\n",
      "  df = df.append({\"Lr\":learning_rate,\n"
     ]
    },
    {
     "name": "stdout",
     "output_type": "stream",
     "text": [
      "lr=0.001 epoch=34 train_loss=0.0023127768097414543 train_accu=0.99915 valid_loss=0.10167587986278573 valid_accu=0.9823\n"
     ]
    },
    {
     "name": "stderr",
     "output_type": "stream",
     "text": [
      "<ipython-input-22-89706fee0790>:18: FutureWarning: The frame.append method is deprecated and will be removed from pandas in a future version. Use pandas.concat instead.\n",
      "  df = df.append({\"Lr\":learning_rate,\n"
     ]
    },
    {
     "name": "stdout",
     "output_type": "stream",
     "text": [
      "lr=0.001 epoch=35 train_loss=0.0014496526880023453 train_accu=0.9994666666666666 valid_loss=0.10168048325917552 valid_accu=0.9831\n"
     ]
    },
    {
     "name": "stderr",
     "output_type": "stream",
     "text": [
      "<ipython-input-22-89706fee0790>:18: FutureWarning: The frame.append method is deprecated and will be removed from pandas in a future version. Use pandas.concat instead.\n",
      "  df = df.append({\"Lr\":learning_rate,\n"
     ]
    },
    {
     "name": "stdout",
     "output_type": "stream",
     "text": [
      "lr=0.001 epoch=36 train_loss=0.003059250965063455 train_accu=0.9989166666666667 valid_loss=0.10452808530194152 valid_accu=0.9833\n"
     ]
    },
    {
     "name": "stderr",
     "output_type": "stream",
     "text": [
      "<ipython-input-22-89706fee0790>:18: FutureWarning: The frame.append method is deprecated and will be removed from pandas in a future version. Use pandas.concat instead.\n",
      "  df = df.append({\"Lr\":learning_rate,\n"
     ]
    },
    {
     "name": "stdout",
     "output_type": "stream",
     "text": [
      "lr=0.001 epoch=37 train_loss=0.002109143215276937 train_accu=0.9992833333333333 valid_loss=0.09627710356221804 valid_accu=0.9841\n"
     ]
    },
    {
     "name": "stderr",
     "output_type": "stream",
     "text": [
      "<ipython-input-22-89706fee0790>:18: FutureWarning: The frame.append method is deprecated and will be removed from pandas in a future version. Use pandas.concat instead.\n",
      "  df = df.append({\"Lr\":learning_rate,\n"
     ]
    },
    {
     "name": "stdout",
     "output_type": "stream",
     "text": [
      "lr=0.001 epoch=38 train_loss=0.0014958024369306508 train_accu=0.9994666666666666 valid_loss=0.09343557034983598 valid_accu=0.9844\n"
     ]
    },
    {
     "name": "stderr",
     "output_type": "stream",
     "text": [
      "<ipython-input-22-89706fee0790>:18: FutureWarning: The frame.append method is deprecated and will be removed from pandas in a future version. Use pandas.concat instead.\n",
      "  df = df.append({\"Lr\":learning_rate,\n"
     ]
    },
    {
     "name": "stdout",
     "output_type": "stream",
     "text": [
      "lr=0.001 epoch=39 train_loss=0.002081040918388958 train_accu=0.99945 valid_loss=0.12051451291276487 valid_accu=0.9821\n"
     ]
    },
    {
     "name": "stderr",
     "output_type": "stream",
     "text": [
      "<ipython-input-22-89706fee0790>:18: FutureWarning: The frame.append method is deprecated and will be removed from pandas in a future version. Use pandas.concat instead.\n",
      "  df = df.append({\"Lr\":learning_rate,\n"
     ]
    }
   ],
   "source": [
    "#modelo_manual.to(device)\n",
    "df_manual = train_validation(model,train_loader,test_loader,df_manual)"
   ]
  },
  {
   "cell_type": "code",
   "execution_count": null,
   "id": "Mz71RjXfU99c",
   "metadata": {
    "colab": {
     "base_uri": "https://localhost:8080/"
    },
    "id": "Mz71RjXfU99c",
    "outputId": "0e88291d-2f46-4152-d811-aad1773fe6bc"
   },
   "outputs": [
    {
     "name": "stderr",
     "output_type": "stream",
     "text": [
      "<ipython-input-43-959677f63db5>:1: FutureWarning: pivot_table dropped a column because it failed to aggregate. This behavior is deprecated and will raise in a future version of pandas. Select only the columns that can be aggregated.\n",
      "  df3 = df_manual.pivot_table(index=[\"Lr\",\"epoch\"],aggfunc=\"mean\").reset_index()\n"
     ]
    }
   ],
   "source": [
    "df3 = df_manual.pivot_table(index=[\"Lr\",\"epoch\"],aggfunc=\"mean\").reset_index()\n",
    "#df3"
   ]
  },
  {
   "cell_type": "code",
   "execution_count": null,
   "id": "4TlX65nlVBRJ",
   "metadata": {
    "colab": {
     "base_uri": "https://localhost:8080/",
     "height": 607
    },
    "id": "4TlX65nlVBRJ",
    "outputId": "fd4d13b6-7f4b-42a0-b42c-0e8e12e1ce53"
   },
   "outputs": [
    {
     "data": {
      "image/png": "[encoded data removed]",
      "text/plain": [
       "<Figure size 1200x600 with 2 Axes>"
      ]
     },
     "metadata": {},
     "output_type": "display_data"
    }
   ],
   "source": [
    "from matplotlib import cm\n",
    "fig,axes=plt.subplots(1,2)\n",
    "fig.set_size_inches(12.0,6.0)\n",
    "colors = cm.Dark2.colors\n",
    "for color,learning_rate in zip(colors,df3[\"Lr\"].unique()):\n",
    "    dfn = df3[df3[\"Lr\"]==learning_rate]\n",
    "    x = dfn[\"epoch\"]\n",
    "    ax = axes[0]\n",
    "    ax.set_xlabel(\"epoch\")\n",
    "    ax.set_ylabel(\"loss\")\n",
    "    ax.plot(x+1,dfn[\"train_loss\"],label=f\"train lr={learning_rate}\",color=color)\n",
    "    ax.plot(x+1,dfn[\"valid_loss\"],label=f\"valid lr={learning_rate}\",color=color,linestyle='--')\n",
    "    ax.legend()\n",
    "    ax = axes[1]\n",
    "    ax.set_xlabel(\"epoch\")\n",
    "    ax.set_ylabel(\"accuracy\")\n",
    "    ax.plot(x+1,dfn[\"train_accu\"],label=f\"train lr={learning_rate}\",color=color)\n",
    "    ax.plot(x+1,dfn[\"valid_accu\"],label=f\"valid lr={learning_rate}\",color=color,linestyle='--')\n",
    "    ax.legend()\n",
    "fig.tight_layout()\n",
    "plt.show()"
   ]
  },
  {
   "cell_type": "markdown",
   "id": "fdk-upt9cmXL",
   "metadata": {
    "id": "fdk-upt9cmXL"
   },
   "source": [
    "## Pytorch's Dropout "
   ]
  },
  {
   "cell_type": "code",
   "execution_count": null,
   "id": "wHY3VWBncl5J",
   "metadata": {
    "colab": {
     "base_uri": "https://localhost:8080/",
     "height": 192
    },
    "id": "wHY3VWBncl5J",
    "outputId": "e42dbec8-8ceb-4cf0-a715-150d92c13d68"
   },
   "outputs": [
    {
     "ename": "NameError",
     "evalue": "ignored",
     "output_type": "error",
     "traceback": [
      "\u001b[0;31m---------------------------------------------------------------------------\u001b[0m",
      "\u001b[0;31mNameError\u001b[0m                                 Traceback (most recent call last)",
      "\u001b[0;32m<ipython-input-1-f10757d8a80a>\u001b[0m in \u001b[0;36m<cell line: 1>\u001b[0;34m()\u001b[0m\n\u001b[0;32m----> 1\u001b[0;31m \u001b[0mdf_dropout\u001b[0m \u001b[0;34m=\u001b[0m \u001b[0mpd\u001b[0m\u001b[0;34m.\u001b[0m\u001b[0mDataFrame\u001b[0m\u001b[0;34m(\u001b[0m\u001b[0;34m)\u001b[0m\u001b[0;34m\u001b[0m\u001b[0;34m\u001b[0m\u001b[0m\n\u001b[0m\u001b[1;32m      2\u001b[0m \u001b[0mdf_dropout\u001b[0m \u001b[0;34m=\u001b[0m \u001b[0mtrain_validation\u001b[0m\u001b[0;34m(\u001b[0m\u001b[0mmodel\u001b[0m\u001b[0;34m,\u001b[0m\u001b[0mtrain_loader\u001b[0m\u001b[0;34m,\u001b[0m\u001b[0mtest_loader\u001b[0m\u001b[0;34m,\u001b[0m\u001b[0mdf_dropout\u001b[0m\u001b[0;34m)\u001b[0m\u001b[0;34m\u001b[0m\u001b[0;34m\u001b[0m\u001b[0m\n",
      "\u001b[0;31mNameError\u001b[0m: name 'pd' is not defined"
     ]
    }
   ],
   "source": [
    "df_dropout = pd.DataFrame()\n",
    "df_dropout = train_validation(model,train_loader,test_loader,df_dropout)"
   ]
  },
  {
   "cell_type": "code",
   "execution_count": null,
   "id": "mN6ZVsT5hhp_",
   "metadata": {
    "id": "mN6ZVsT5hhp_"
   },
   "outputs": [],
   "source": [
    "df2 = df_dropout.pivot_table(index=[\"Lr\",\"epoch\"],aggfunc=\"mean\").reset_index()"
   ]
  },
  {
   "cell_type": "code",
   "execution_count": null,
   "id": "rGmOVFUGhrcH",
   "metadata": {
    "id": "rGmOVFUGhrcH"
   },
   "outputs": [],
   "source": [
    "fig,axes=plt.subplots(1,2)\n",
    "fig.set_size_inches(12.0,6.0)\n",
    "colors = cm.Dark2.colors\n",
    "for color,learning_rate in zip(colors,df2[\"Lr\"].unique()):\n",
    "    dfn = df2[df2[\"Lr\"]==learning_rate]\n",
    "    x = dfn[\"epoch\"]\n",
    "    ax = axes[0]\n",
    "    ax.set_xlabel(\"epoch\")\n",
    "    ax.set_ylabel(\"loss\")\n",
    "    ax.plot(x+1,dfn[\"train_loss\"],label=f\"train lr={learning_rate}\",color=color)\n",
    "    ax.plot(x+1,dfn[\"valid_loss\"],label=f\"valid lr={learning_rate}\",color=color,linestyle='--')\n",
    "    ax.legend()\n",
    "    ax = axes[1]\n",
    "    ax.set_xlabel(\"epoch\")\n",
    "    ax.set_ylabel(\"accuracy\")\n",
    "    ax.plot(x+1,dfn[\"train_accu\"],label=f\"train lr={learning_rate}\",color=color)\n",
    "    ax.plot(x+1,dfn[\"valid_accu\"],label=f\"valid lr={learning_rate}\",color=color,linestyle='--')\n",
    "    ax.legend()\n",
    "fig.tight_layout()\n",
    "plt.show()"
   ]
  }
 ],
 "metadata": {
  "accelerator": "GPU",
  "colab": {
   "gpuType": "T4",
   "provenance": []
  },
  "kernelspec": {
   "display_name": "Python 3",
   "language": "python",
   "name": "python3"
  },
  "language_info": {
   "codemirror_mode": {
    "name": "ipython",
    "version": 3
   },
   "file_extension": ".py",
   "mimetype": "text/x-python",
   "name": "python",
   "nbconvert_exporter": "python",
   "pygments_lexer": "ipython3",
   "version": "3.6.13"
  }
 },
 "nbformat": 4,
 "nbformat_minor": 5
}
